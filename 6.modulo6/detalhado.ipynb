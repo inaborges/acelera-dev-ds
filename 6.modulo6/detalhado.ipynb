{
 "cells": [
  {
   "cell_type": "markdown",
   "metadata": {},
   "source": [
    "# Desafio 5\n",
    "\n",
    "Neste desafio, vamos praticar sobre redução de dimensionalidade com PCA e seleção de variáveis com RFE. Utilizaremos o _data set_ [Fifa 2019](https://www.kaggle.com/karangadiya/fifa19), contendo originalmente 89 variáveis de mais de 18 mil jogadores do _game_ FIFA 2019.\n",
    "\n",
    "> Obs.: Por favor, não modifique o nome das funções de resposta."
   ]
  },
  {
   "cell_type": "markdown",
   "metadata": {},
   "source": [
    "## _Setup_ geral"
   ]
  },
  {
   "cell_type": "code",
   "execution_count": 1,
   "metadata": {},
   "outputs": [],
   "source": [
    "from math import sqrt\n",
    "import numpy as np\n",
    "import pandas as pd\n",
    "import scipy.stats as sct\n",
    "\n",
    "import matplotlib.pyplot as plt\n",
    "import seaborn as sns\n",
    "\n",
    "import statsmodels.api as sm\n",
    "import statsmodels.stats as st\n",
    "\n",
    "from sklearn.decomposition import PCA\n",
    "from sklearn.feature_selection import RFE\n",
    "from sklearn.linear_model import LinearRegression\n",
    "\n",
    "from loguru import logger"
   ]
  },
  {
   "cell_type": "code",
   "execution_count": 2,
   "metadata": {},
   "outputs": [],
   "source": [
    "# Algumas configurações para o matplotlib.\n",
    "%matplotlib inline\n",
    "\n",
    "from IPython.core.pylabtools import figsize\n",
    "\n",
    "figsize(12, 8)\n",
    "\n",
    "sns.set()"
   ]
  },
  {
   "cell_type": "code",
   "execution_count": 3,
   "metadata": {
    "scrolled": false
   },
   "outputs": [],
   "source": [
    "fifa = pd.read_csv(\"fifa.csv\")"
   ]
  },
  {
   "cell_type": "code",
   "execution_count": 4,
   "metadata": {},
   "outputs": [],
   "source": [
    "columns_to_drop = [\"Unnamed: 0\", \"ID\", \"Name\", \"Photo\", \"Nationality\", \"Flag\",\n",
    "                   \"Club\", \"Club Logo\", \"Value\", \"Wage\", \"Special\", \"Preferred Foot\",\n",
    "                   \"International Reputation\", \"Weak Foot\", \"Skill Moves\", \"Work Rate\",\n",
    "                   \"Body Type\", \"Real Face\", \"Position\", \"Jersey Number\", \"Joined\",\n",
    "                   \"Loaned From\", \"Contract Valid Until\", \"Height\", \"Weight\", \"LS\",\n",
    "                   \"ST\", \"RS\", \"LW\", \"LF\", \"CF\", \"RF\", \"RW\", \"LAM\", \"CAM\", \"RAM\", \"LM\",\n",
    "                   \"LCM\", \"CM\", \"RCM\", \"RM\", \"LWB\", \"LDM\", \"CDM\", \"RDM\", \"RWB\", \"LB\", \"LCB\",\n",
    "                   \"CB\", \"RCB\", \"RB\", \"Release Clause\"\n",
    "]\n",
    "\n",
    "try:\n",
    "    fifa.drop(columns_to_drop, axis=1, inplace=True)\n",
    "except KeyError:\n",
    "    logger.warning(f\"Columns already dropped\")"
   ]
  },
  {
   "cell_type": "markdown",
   "metadata": {},
   "source": [
    "## Inicia sua análise a partir daqui"
   ]
  },
  {
   "cell_type": "code",
   "execution_count": 5,
   "metadata": {},
   "outputs": [
    {
     "data": {
      "text/html": [
       "<div>\n",
       "<style scoped>\n",
       "    .dataframe tbody tr th:only-of-type {\n",
       "        vertical-align: middle;\n",
       "    }\n",
       "\n",
       "    .dataframe tbody tr th {\n",
       "        vertical-align: top;\n",
       "    }\n",
       "\n",
       "    .dataframe thead th {\n",
       "        text-align: right;\n",
       "    }\n",
       "</style>\n",
       "<table border=\"1\" class=\"dataframe\">\n",
       "  <thead>\n",
       "    <tr style=\"text-align: right;\">\n",
       "      <th></th>\n",
       "      <th>Age</th>\n",
       "      <th>Overall</th>\n",
       "      <th>Potential</th>\n",
       "      <th>Crossing</th>\n",
       "      <th>Finishing</th>\n",
       "      <th>HeadingAccuracy</th>\n",
       "      <th>ShortPassing</th>\n",
       "      <th>Volleys</th>\n",
       "      <th>Dribbling</th>\n",
       "      <th>Curve</th>\n",
       "      <th>...</th>\n",
       "      <th>Penalties</th>\n",
       "      <th>Composure</th>\n",
       "      <th>Marking</th>\n",
       "      <th>StandingTackle</th>\n",
       "      <th>SlidingTackle</th>\n",
       "      <th>GKDiving</th>\n",
       "      <th>GKHandling</th>\n",
       "      <th>GKKicking</th>\n",
       "      <th>GKPositioning</th>\n",
       "      <th>GKReflexes</th>\n",
       "    </tr>\n",
       "  </thead>\n",
       "  <tbody>\n",
       "    <tr>\n",
       "      <th>0</th>\n",
       "      <td>31</td>\n",
       "      <td>94</td>\n",
       "      <td>94</td>\n",
       "      <td>84.0</td>\n",
       "      <td>95.0</td>\n",
       "      <td>70.0</td>\n",
       "      <td>90.0</td>\n",
       "      <td>86.0</td>\n",
       "      <td>97.0</td>\n",
       "      <td>93.0</td>\n",
       "      <td>...</td>\n",
       "      <td>75.0</td>\n",
       "      <td>96.0</td>\n",
       "      <td>33.0</td>\n",
       "      <td>28.0</td>\n",
       "      <td>26.0</td>\n",
       "      <td>6.0</td>\n",
       "      <td>11.0</td>\n",
       "      <td>15.0</td>\n",
       "      <td>14.0</td>\n",
       "      <td>8.0</td>\n",
       "    </tr>\n",
       "    <tr>\n",
       "      <th>1</th>\n",
       "      <td>33</td>\n",
       "      <td>94</td>\n",
       "      <td>94</td>\n",
       "      <td>84.0</td>\n",
       "      <td>94.0</td>\n",
       "      <td>89.0</td>\n",
       "      <td>81.0</td>\n",
       "      <td>87.0</td>\n",
       "      <td>88.0</td>\n",
       "      <td>81.0</td>\n",
       "      <td>...</td>\n",
       "      <td>85.0</td>\n",
       "      <td>95.0</td>\n",
       "      <td>28.0</td>\n",
       "      <td>31.0</td>\n",
       "      <td>23.0</td>\n",
       "      <td>7.0</td>\n",
       "      <td>11.0</td>\n",
       "      <td>15.0</td>\n",
       "      <td>14.0</td>\n",
       "      <td>11.0</td>\n",
       "    </tr>\n",
       "    <tr>\n",
       "      <th>2</th>\n",
       "      <td>26</td>\n",
       "      <td>92</td>\n",
       "      <td>93</td>\n",
       "      <td>79.0</td>\n",
       "      <td>87.0</td>\n",
       "      <td>62.0</td>\n",
       "      <td>84.0</td>\n",
       "      <td>84.0</td>\n",
       "      <td>96.0</td>\n",
       "      <td>88.0</td>\n",
       "      <td>...</td>\n",
       "      <td>81.0</td>\n",
       "      <td>94.0</td>\n",
       "      <td>27.0</td>\n",
       "      <td>24.0</td>\n",
       "      <td>33.0</td>\n",
       "      <td>9.0</td>\n",
       "      <td>9.0</td>\n",
       "      <td>15.0</td>\n",
       "      <td>15.0</td>\n",
       "      <td>11.0</td>\n",
       "    </tr>\n",
       "    <tr>\n",
       "      <th>3</th>\n",
       "      <td>27</td>\n",
       "      <td>91</td>\n",
       "      <td>93</td>\n",
       "      <td>17.0</td>\n",
       "      <td>13.0</td>\n",
       "      <td>21.0</td>\n",
       "      <td>50.0</td>\n",
       "      <td>13.0</td>\n",
       "      <td>18.0</td>\n",
       "      <td>21.0</td>\n",
       "      <td>...</td>\n",
       "      <td>40.0</td>\n",
       "      <td>68.0</td>\n",
       "      <td>15.0</td>\n",
       "      <td>21.0</td>\n",
       "      <td>13.0</td>\n",
       "      <td>90.0</td>\n",
       "      <td>85.0</td>\n",
       "      <td>87.0</td>\n",
       "      <td>88.0</td>\n",
       "      <td>94.0</td>\n",
       "    </tr>\n",
       "    <tr>\n",
       "      <th>4</th>\n",
       "      <td>27</td>\n",
       "      <td>91</td>\n",
       "      <td>92</td>\n",
       "      <td>93.0</td>\n",
       "      <td>82.0</td>\n",
       "      <td>55.0</td>\n",
       "      <td>92.0</td>\n",
       "      <td>82.0</td>\n",
       "      <td>86.0</td>\n",
       "      <td>85.0</td>\n",
       "      <td>...</td>\n",
       "      <td>79.0</td>\n",
       "      <td>88.0</td>\n",
       "      <td>68.0</td>\n",
       "      <td>58.0</td>\n",
       "      <td>51.0</td>\n",
       "      <td>15.0</td>\n",
       "      <td>13.0</td>\n",
       "      <td>5.0</td>\n",
       "      <td>10.0</td>\n",
       "      <td>13.0</td>\n",
       "    </tr>\n",
       "  </tbody>\n",
       "</table>\n",
       "<p>5 rows × 37 columns</p>\n",
       "</div>"
      ],
      "text/plain": [
       "   Age  Overall  Potential  Crossing  Finishing  HeadingAccuracy  \\\n",
       "0   31       94         94      84.0       95.0             70.0   \n",
       "1   33       94         94      84.0       94.0             89.0   \n",
       "2   26       92         93      79.0       87.0             62.0   \n",
       "3   27       91         93      17.0       13.0             21.0   \n",
       "4   27       91         92      93.0       82.0             55.0   \n",
       "\n",
       "   ShortPassing  Volleys  Dribbling  Curve  ...  Penalties  Composure  \\\n",
       "0          90.0     86.0       97.0   93.0  ...       75.0       96.0   \n",
       "1          81.0     87.0       88.0   81.0  ...       85.0       95.0   \n",
       "2          84.0     84.0       96.0   88.0  ...       81.0       94.0   \n",
       "3          50.0     13.0       18.0   21.0  ...       40.0       68.0   \n",
       "4          92.0     82.0       86.0   85.0  ...       79.0       88.0   \n",
       "\n",
       "   Marking  StandingTackle  SlidingTackle  GKDiving  GKHandling  GKKicking  \\\n",
       "0     33.0            28.0           26.0       6.0        11.0       15.0   \n",
       "1     28.0            31.0           23.0       7.0        11.0       15.0   \n",
       "2     27.0            24.0           33.0       9.0         9.0       15.0   \n",
       "3     15.0            21.0           13.0      90.0        85.0       87.0   \n",
       "4     68.0            58.0           51.0      15.0        13.0        5.0   \n",
       "\n",
       "   GKPositioning  GKReflexes  \n",
       "0           14.0         8.0  \n",
       "1           14.0        11.0  \n",
       "2           15.0        11.0  \n",
       "3           88.0        94.0  \n",
       "4           10.0        13.0  \n",
       "\n",
       "[5 rows x 37 columns]"
      ]
     },
     "execution_count": 5,
     "metadata": {},
     "output_type": "execute_result"
    }
   ],
   "source": [
    "# Sua análise começa aqui.\n",
    "fifa.head()"
   ]
  },
  {
   "cell_type": "code",
   "execution_count": 6,
   "metadata": {},
   "outputs": [
    {
     "data": {
      "text/plain": [
       "Index(['Age', 'Overall', 'Potential', 'Crossing', 'Finishing',\n",
       "       'HeadingAccuracy', 'ShortPassing', 'Volleys', 'Dribbling', 'Curve',\n",
       "       'FKAccuracy', 'LongPassing', 'BallControl', 'Acceleration',\n",
       "       'SprintSpeed', 'Agility', 'Reactions', 'Balance', 'ShotPower',\n",
       "       'Jumping', 'Stamina', 'Strength', 'LongShots', 'Aggression',\n",
       "       'Interceptions', 'Positioning', 'Vision', 'Penalties', 'Composure',\n",
       "       'Marking', 'StandingTackle', 'SlidingTackle', 'GKDiving', 'GKHandling',\n",
       "       'GKKicking', 'GKPositioning', 'GKReflexes'],\n",
       "      dtype='object')"
      ]
     },
     "execution_count": 6,
     "metadata": {},
     "output_type": "execute_result"
    }
   ],
   "source": [
    "fifa.columns"
   ]
  },
  {
   "cell_type": "markdown",
   "metadata": {},
   "source": [
    "## Questão 1\n",
    "\n",
    "Qual fração da variância consegue ser explicada pelo primeiro componente principal de `fifa`? Responda como um único float (entre 0 e 1) arredondado para três casas decimais."
   ]
  },
  {
   "cell_type": "code",
   "execution_count": 7,
   "metadata": {},
   "outputs": [
    {
     "data": {
      "text/html": [
       "<div>\n",
       "<style scoped>\n",
       "    .dataframe tbody tr th:only-of-type {\n",
       "        vertical-align: middle;\n",
       "    }\n",
       "\n",
       "    .dataframe tbody tr th {\n",
       "        vertical-align: top;\n",
       "    }\n",
       "\n",
       "    .dataframe thead th {\n",
       "        text-align: right;\n",
       "    }\n",
       "</style>\n",
       "<table border=\"1\" class=\"dataframe\">\n",
       "  <thead>\n",
       "    <tr style=\"text-align: right;\">\n",
       "      <th></th>\n",
       "      <th>tipo</th>\n",
       "      <th>missing</th>\n",
       "      <th>unicos</th>\n",
       "    </tr>\n",
       "  </thead>\n",
       "  <tbody>\n",
       "    <tr>\n",
       "      <th>ShotPower</th>\n",
       "      <td>float64</td>\n",
       "      <td>0.263635</td>\n",
       "      <td>92</td>\n",
       "    </tr>\n",
       "    <tr>\n",
       "      <th>Jumping</th>\n",
       "      <td>float64</td>\n",
       "      <td>0.263635</td>\n",
       "      <td>74</td>\n",
       "    </tr>\n",
       "    <tr>\n",
       "      <th>Strength</th>\n",
       "      <td>float64</td>\n",
       "      <td>0.263635</td>\n",
       "      <td>74</td>\n",
       "    </tr>\n",
       "    <tr>\n",
       "      <th>LongShots</th>\n",
       "      <td>float64</td>\n",
       "      <td>0.263635</td>\n",
       "      <td>92</td>\n",
       "    </tr>\n",
       "    <tr>\n",
       "      <th>Aggression</th>\n",
       "      <td>float64</td>\n",
       "      <td>0.263635</td>\n",
       "      <td>85</td>\n",
       "    </tr>\n",
       "    <tr>\n",
       "      <th>Interceptions</th>\n",
       "      <td>float64</td>\n",
       "      <td>0.263635</td>\n",
       "      <td>89</td>\n",
       "    </tr>\n",
       "    <tr>\n",
       "      <th>Positioning</th>\n",
       "      <td>float64</td>\n",
       "      <td>0.263635</td>\n",
       "      <td>94</td>\n",
       "    </tr>\n",
       "    <tr>\n",
       "      <th>Vision</th>\n",
       "      <td>float64</td>\n",
       "      <td>0.263635</td>\n",
       "      <td>85</td>\n",
       "    </tr>\n",
       "    <tr>\n",
       "      <th>Penalties</th>\n",
       "      <td>float64</td>\n",
       "      <td>0.263635</td>\n",
       "      <td>87</td>\n",
       "    </tr>\n",
       "    <tr>\n",
       "      <th>Composure</th>\n",
       "      <td>float64</td>\n",
       "      <td>0.263635</td>\n",
       "      <td>84</td>\n",
       "    </tr>\n",
       "    <tr>\n",
       "      <th>Marking</th>\n",
       "      <td>float64</td>\n",
       "      <td>0.263635</td>\n",
       "      <td>92</td>\n",
       "    </tr>\n",
       "    <tr>\n",
       "      <th>StandingTackle</th>\n",
       "      <td>float64</td>\n",
       "      <td>0.263635</td>\n",
       "      <td>90</td>\n",
       "    </tr>\n",
       "    <tr>\n",
       "      <th>SlidingTackle</th>\n",
       "      <td>float64</td>\n",
       "      <td>0.263635</td>\n",
       "      <td>88</td>\n",
       "    </tr>\n",
       "    <tr>\n",
       "      <th>GKDiving</th>\n",
       "      <td>float64</td>\n",
       "      <td>0.263635</td>\n",
       "      <td>71</td>\n",
       "    </tr>\n",
       "    <tr>\n",
       "      <th>GKHandling</th>\n",
       "      <td>float64</td>\n",
       "      <td>0.263635</td>\n",
       "      <td>70</td>\n",
       "    </tr>\n",
       "    <tr>\n",
       "      <th>GKKicking</th>\n",
       "      <td>float64</td>\n",
       "      <td>0.263635</td>\n",
       "      <td>79</td>\n",
       "    </tr>\n",
       "    <tr>\n",
       "      <th>GKPositioning</th>\n",
       "      <td>float64</td>\n",
       "      <td>0.263635</td>\n",
       "      <td>79</td>\n",
       "    </tr>\n",
       "    <tr>\n",
       "      <th>Stamina</th>\n",
       "      <td>float64</td>\n",
       "      <td>0.263635</td>\n",
       "      <td>85</td>\n",
       "    </tr>\n",
       "    <tr>\n",
       "      <th>GKReflexes</th>\n",
       "      <td>float64</td>\n",
       "      <td>0.263635</td>\n",
       "      <td>76</td>\n",
       "    </tr>\n",
       "    <tr>\n",
       "      <th>Curve</th>\n",
       "      <td>float64</td>\n",
       "      <td>0.263635</td>\n",
       "      <td>89</td>\n",
       "    </tr>\n",
       "    <tr>\n",
       "      <th>Reactions</th>\n",
       "      <td>float64</td>\n",
       "      <td>0.263635</td>\n",
       "      <td>68</td>\n",
       "    </tr>\n",
       "    <tr>\n",
       "      <th>Agility</th>\n",
       "      <td>float64</td>\n",
       "      <td>0.263635</td>\n",
       "      <td>81</td>\n",
       "    </tr>\n",
       "    <tr>\n",
       "      <th>SprintSpeed</th>\n",
       "      <td>float64</td>\n",
       "      <td>0.263635</td>\n",
       "      <td>85</td>\n",
       "    </tr>\n",
       "    <tr>\n",
       "      <th>Acceleration</th>\n",
       "      <td>float64</td>\n",
       "      <td>0.263635</td>\n",
       "      <td>86</td>\n",
       "    </tr>\n",
       "    <tr>\n",
       "      <th>BallControl</th>\n",
       "      <td>float64</td>\n",
       "      <td>0.263635</td>\n",
       "      <td>90</td>\n",
       "    </tr>\n",
       "    <tr>\n",
       "      <th>LongPassing</th>\n",
       "      <td>float64</td>\n",
       "      <td>0.263635</td>\n",
       "      <td>84</td>\n",
       "    </tr>\n",
       "    <tr>\n",
       "      <th>FKAccuracy</th>\n",
       "      <td>float64</td>\n",
       "      <td>0.263635</td>\n",
       "      <td>90</td>\n",
       "    </tr>\n",
       "    <tr>\n",
       "      <th>Balance</th>\n",
       "      <td>float64</td>\n",
       "      <td>0.263635</td>\n",
       "      <td>81</td>\n",
       "    </tr>\n",
       "    <tr>\n",
       "      <th>Dribbling</th>\n",
       "      <td>float64</td>\n",
       "      <td>0.263635</td>\n",
       "      <td>94</td>\n",
       "    </tr>\n",
       "    <tr>\n",
       "      <th>Volleys</th>\n",
       "      <td>float64</td>\n",
       "      <td>0.263635</td>\n",
       "      <td>87</td>\n",
       "    </tr>\n",
       "    <tr>\n",
       "      <th>ShortPassing</th>\n",
       "      <td>float64</td>\n",
       "      <td>0.263635</td>\n",
       "      <td>85</td>\n",
       "    </tr>\n",
       "    <tr>\n",
       "      <th>HeadingAccuracy</th>\n",
       "      <td>float64</td>\n",
       "      <td>0.263635</td>\n",
       "      <td>91</td>\n",
       "    </tr>\n",
       "    <tr>\n",
       "      <th>Finishing</th>\n",
       "      <td>float64</td>\n",
       "      <td>0.263635</td>\n",
       "      <td>93</td>\n",
       "    </tr>\n",
       "    <tr>\n",
       "      <th>Crossing</th>\n",
       "      <td>float64</td>\n",
       "      <td>0.263635</td>\n",
       "      <td>89</td>\n",
       "    </tr>\n",
       "    <tr>\n",
       "      <th>Potential</th>\n",
       "      <td>int64</td>\n",
       "      <td>0.000000</td>\n",
       "      <td>47</td>\n",
       "    </tr>\n",
       "    <tr>\n",
       "      <th>Overall</th>\n",
       "      <td>int64</td>\n",
       "      <td>0.000000</td>\n",
       "      <td>48</td>\n",
       "    </tr>\n",
       "    <tr>\n",
       "      <th>Age</th>\n",
       "      <td>int64</td>\n",
       "      <td>0.000000</td>\n",
       "      <td>29</td>\n",
       "    </tr>\n",
       "  </tbody>\n",
       "</table>\n",
       "</div>"
      ],
      "text/plain": [
       "                    tipo   missing  unicos\n",
       "ShotPower        float64  0.263635      92\n",
       "Jumping          float64  0.263635      74\n",
       "Strength         float64  0.263635      74\n",
       "LongShots        float64  0.263635      92\n",
       "Aggression       float64  0.263635      85\n",
       "Interceptions    float64  0.263635      89\n",
       "Positioning      float64  0.263635      94\n",
       "Vision           float64  0.263635      85\n",
       "Penalties        float64  0.263635      87\n",
       "Composure        float64  0.263635      84\n",
       "Marking          float64  0.263635      92\n",
       "StandingTackle   float64  0.263635      90\n",
       "SlidingTackle    float64  0.263635      88\n",
       "GKDiving         float64  0.263635      71\n",
       "GKHandling       float64  0.263635      70\n",
       "GKKicking        float64  0.263635      79\n",
       "GKPositioning    float64  0.263635      79\n",
       "Stamina          float64  0.263635      85\n",
       "GKReflexes       float64  0.263635      76\n",
       "Curve            float64  0.263635      89\n",
       "Reactions        float64  0.263635      68\n",
       "Agility          float64  0.263635      81\n",
       "SprintSpeed      float64  0.263635      85\n",
       "Acceleration     float64  0.263635      86\n",
       "BallControl      float64  0.263635      90\n",
       "LongPassing      float64  0.263635      84\n",
       "FKAccuracy       float64  0.263635      90\n",
       "Balance          float64  0.263635      81\n",
       "Dribbling        float64  0.263635      94\n",
       "Volleys          float64  0.263635      87\n",
       "ShortPassing     float64  0.263635      85\n",
       "HeadingAccuracy  float64  0.263635      91\n",
       "Finishing        float64  0.263635      93\n",
       "Crossing         float64  0.263635      89\n",
       "Potential          int64  0.000000      47\n",
       "Overall            int64  0.000000      48\n",
       "Age                int64  0.000000      29"
      ]
     },
     "execution_count": 7,
     "metadata": {},
     "output_type": "execute_result"
    }
   ],
   "source": [
    "#Ver quais e quantos valores missing eu tenho\n",
    "df = pd.DataFrame({'tipo': fifa.dtypes,\n",
    "              'missing':((fifa.isna().sum()/fifa.shape[0])*100),\n",
    "              'unicos': fifa.nunique()})\n",
    "df.sort_values(by='missing', ascending=False)"
   ]
  },
  {
   "cell_type": "code",
   "execution_count": 8,
   "metadata": {},
   "outputs": [
    {
     "data": {
      "image/png": "[encoded data removed]",
      "text/plain": [
       "<Figure size 360x216 with 1 Axes>"
      ]
     },
     "metadata": {},
     "output_type": "display_data"
    }
   ],
   "source": [
    "plt.figure(figsize = (5,3))\n",
    "plt.hist(df.missing, bins=5);"
   ]
  },
  {
   "cell_type": "code",
   "execution_count": 9,
   "metadata": {},
   "outputs": [
    {
     "name": "stdout",
     "output_type": "stream",
     "text": [
      "0.5652676537694254\n"
     ]
    }
   ],
   "source": [
    "# fazer um novo dataframe fifa substituindo os valores NA pela média e utilizar ele agora\n",
    "fifa_semna = fifa.copy()\n",
    "dadoscomna = ['Crossing','Finishing','HeadingAccuracy', 'ShortPassing', 'Volleys', 'Dribbling', 'Curve',\n",
    "              'FKAccuracy', 'LongPassing', 'BallControl', 'Acceleration','SprintSpeed', 'Agility', 'Reactions', \n",
    "              'Balance', 'ShotPower','Jumping', 'Stamina', 'Strength', 'LongShots', 'Aggression',\n",
    "              'Interceptions', 'Positioning', 'Vision', 'Penalties', 'Composure','Marking', 'StandingTackle', \n",
    "              'SlidingTackle', 'GKDiving', 'GKHandling','GKKicking', 'GKPositioning', 'GKReflexes']\n",
    "fifa_semna[dadoscomna] = fifa_semna[dadoscomna].fillna(fifa_semna[dadoscomna].mean())\n",
    "\n",
    "#Por padrão: PCA(n_components=None), ou seja, não estou reduzindo a dimensionalidade\n",
    "pca = PCA().fit(fifa_semna)\n",
    "evr_semna = pca.explained_variance_ratio_\n",
    "print(evr_semna.max())"
   ]
  },
  {
   "cell_type": "code",
   "execution_count": 10,
   "metadata": {},
   "outputs": [
    {
     "name": "stdout",
     "output_type": "stream",
     "text": [
      "O PC1 explica 56.53 % da variância dos dados\n"
     ]
    }
   ],
   "source": [
    "# Ao invés de substituir os NA pela média, resolvi dropar, deu o praticamente o mesmo resultado\n",
    "fifa.dropna(inplace=True)\n",
    "pca = PCA().fit(fifa)\n",
    "evr = pca.explained_variance_ratio_\n",
    "\n",
    "print('O PC1 explica',round(evr[0]*100,2),'% da variância dos dados')"
   ]
  },
  {
   "cell_type": "code",
   "execution_count": 11,
   "metadata": {},
   "outputs": [
    {
     "data": {
      "text/html": [
       "<div>\n",
       "<style scoped>\n",
       "    .dataframe tbody tr th:only-of-type {\n",
       "        vertical-align: middle;\n",
       "    }\n",
       "\n",
       "    .dataframe tbody tr th {\n",
       "        vertical-align: top;\n",
       "    }\n",
       "\n",
       "    .dataframe thead th {\n",
       "        text-align: right;\n",
       "    }\n",
       "</style>\n",
       "<table border=\"1\" class=\"dataframe\">\n",
       "  <thead>\n",
       "    <tr style=\"text-align: right;\">\n",
       "      <th></th>\n",
       "      <th>PCs</th>\n",
       "      <th>variancia_explicada_media</th>\n",
       "      <th>variancia_explicada_drop</th>\n",
       "    </tr>\n",
       "  </thead>\n",
       "  <tbody>\n",
       "    <tr>\n",
       "      <th>0</th>\n",
       "      <td>PC1</td>\n",
       "      <td>0.565268</td>\n",
       "      <td>0.565281</td>\n",
       "    </tr>\n",
       "    <tr>\n",
       "      <th>1</th>\n",
       "      <td>PC2</td>\n",
       "      <td>0.181021</td>\n",
       "      <td>0.181025</td>\n",
       "    </tr>\n",
       "    <tr>\n",
       "      <th>2</th>\n",
       "      <td>PC3</td>\n",
       "      <td>0.059527</td>\n",
       "      <td>0.059528</td>\n",
       "    </tr>\n",
       "    <tr>\n",
       "      <th>3</th>\n",
       "      <td>PC4</td>\n",
       "      <td>0.043426</td>\n",
       "      <td>0.043427</td>\n",
       "    </tr>\n",
       "    <tr>\n",
       "      <th>4</th>\n",
       "      <td>PC5</td>\n",
       "      <td>0.026353</td>\n",
       "      <td>0.026353</td>\n",
       "    </tr>\n",
       "  </tbody>\n",
       "</table>\n",
       "</div>"
      ],
      "text/plain": [
       "   PCs  variancia_explicada_media  variancia_explicada_drop\n",
       "0  PC1                   0.565268                  0.565281\n",
       "1  PC2                   0.181021                  0.181025\n",
       "2  PC3                   0.059527                  0.059528\n",
       "3  PC4                   0.043426                  0.043427\n",
       "4  PC5                   0.026353                  0.026353"
      ]
     },
     "execution_count": 11,
     "metadata": {},
     "output_type": "execute_result"
    }
   ],
   "source": [
    "labels = ['PC'+str(x) for x in range(1, len(evr)+1)]\n",
    "\n",
    "aux = pd.DataFrame({'PCs':labels,\n",
    "              'variancia_explicada_media':evr_semna,\n",
    "              'variancia_explicada_drop':evr})\n",
    "\n",
    "aux.head()"
   ]
  },
  {
   "cell_type": "code",
   "execution_count": 12,
   "metadata": {},
   "outputs": [
    {
     "data": {
      "image/png": "[encoded data removed]",
      "text/plain": [
       "<Figure size 576x288 with 1 Axes>"
      ]
     },
     "metadata": {},
     "output_type": "display_data"
    }
   ],
   "source": [
    "plt.figure(figsize=(8,4))\n",
    "plt.title(\"Scret Plot\", size=15)\n",
    "plt.bar(aux.PCs.head(10), aux.variancia_explicada_drop.head(10)*100)\n",
    "plt.ylim(0,60)\n",
    "plt.xlabel(\"Principal Components\")\n",
    "plt.ylabel(\"% of the variation explained by PC\")\n",
    "plt.show()"
   ]
  },
  {
   "cell_type": "code",
   "execution_count": 13,
   "metadata": {},
   "outputs": [
    {
     "data": {
      "text/plain": [
       "0.565"
      ]
     },
     "execution_count": 13,
     "metadata": {},
     "output_type": "execute_result"
    }
   ],
   "source": [
    "def q1():\n",
    "    fifa.dropna(inplace=True)\n",
    "    pca = PCA().fit(fifa)\n",
    "    evr = pca.explained_variance_ratio_\n",
    "    return round(float(evr[0]),3)\n",
    "\n",
    "q1()"
   ]
  },
  {
   "cell_type": "markdown",
   "metadata": {},
   "source": [
    "## Questão 2\n",
    "\n",
    "Quantos componentes principais precisamos para explicar 95% da variância total? Responda como um único escalar inteiro."
   ]
  },
  {
   "cell_type": "code",
   "execution_count": 14,
   "metadata": {},
   "outputs": [
    {
     "data": {
      "text/plain": [
       "15"
      ]
     },
     "execution_count": 14,
     "metadata": {},
     "output_type": "execute_result"
    }
   ],
   "source": [
    "# Podemos achar o número de componentes necessários para explicar determinada fração da variância total:\n",
    "cumulative_variance_ratio = np.cumsum(evr)\n",
    "component_number = np.argmax(cumulative_variance_ratio >= 0.95) + 1 # Contagem começa em zero.\n",
    "component_number"
   ]
  },
  {
   "cell_type": "code",
   "execution_count": 15,
   "metadata": {},
   "outputs": [
    {
     "data": {
      "image/png": "[encoded data removed]",
      "text/plain": [
       "<Figure size 576x288 with 1 Axes>"
      ]
     },
     "metadata": {},
     "output_type": "display_data"
    }
   ],
   "source": [
    "# Plotar onde esses valores se encontram (acumulado de 95% das variância e 15 componentes)\n",
    "plt.figure(figsize=(8,4))\n",
    "g = sns.lineplot(range(len(evr)), np.cumsum(evr))\n",
    "g.axes.axhline(0.95, ls=\"--\", color=\"red\")\n",
    "g.axes.axvline(15, ls=\"--\", color=\"black\")\n",
    "plt.xlabel('Número de PCs')\n",
    "plt.ylabel('Variância explicada acumulada');"
   ]
  },
  {
   "cell_type": "code",
   "execution_count": 16,
   "metadata": {},
   "outputs": [
    {
     "data": {
      "text/plain": [
       "15"
      ]
     },
     "execution_count": 16,
     "metadata": {},
     "output_type": "execute_result"
    }
   ],
   "source": [
    "def q2():\n",
    "    fifa.dropna(inplace=True)\n",
    "    pca = PCA().fit(fifa)\n",
    "    cumulative_variance_ratio = np.cumsum(pca.explained_variance_ratio_)\n",
    "    component_number = np.argmax(cumulative_variance_ratio >= 0.95) + 1\n",
    "    return int(component_number)\n",
    "\n",
    "q2()"
   ]
  },
  {
   "cell_type": "markdown",
   "metadata": {},
   "source": [
    "## Questão 3\n",
    "\n",
    "Qual são as coordenadas (primeiro e segundo componentes principais) do ponto `x` abaixo? O vetor abaixo já está centralizado. Cuidado para __não__ centralizar o vetor novamente (por exemplo, invocando `PCA.transform()` nele). Responda como uma tupla de float arredondados para três casas decimais."
   ]
  },
  {
   "cell_type": "code",
   "execution_count": 17,
   "metadata": {},
   "outputs": [
    {
     "data": {
      "text/plain": [
       "37"
      ]
     },
     "execution_count": 17,
     "metadata": {},
     "output_type": "execute_result"
    }
   ],
   "source": [
    "#O x é um ponto com 37 coordenadas:\n",
    "\n",
    "x = [0.87747123,  -1.24990363,  -1.3191255, -36.7341814, -35.55091139, -37.29814417, -28.68671182, \n",
    "     -30.90902583, -42.37100061, -32.17082438, -28.86315326, -22.71193348, -38.36945867, -20.61407566, \n",
    "     -22.72696734, -25.50360703, 2.16339005, -27.96657305, -33.46004736,  -5.08943224, -30.21994603,\n",
    "     3.68803348, -36.10997302, -30.86899058, -22.69827634, -37.95847789, -22.40090313, -30.54859849,\n",
    "     -26.64827358, -19.28162344, -34.69783578, -34.6614351, 48.38377664,  47.60840355,  45.76793876,  \n",
    "     44.61110193, 49.28911284 ]\n",
    "\n",
    "len(x)"
   ]
  },
  {
   "cell_type": "code",
   "execution_count": 18,
   "metadata": {},
   "outputs": [
    {
     "name": "stdout",
     "output_type": "stream",
     "text": [
      "Escolhendo apenas dois componentes, podemos explicar 74.63 % dos dados\n"
     ]
    }
   ],
   "source": [
    "#Definindo que só quero dois componentes PC1 e PC2\n",
    "pca = PCA(n_components = 2)\n",
    "pca.fit(fifa)\n",
    "evr = pca.explained_variance_ratio_\n",
    "\n",
    "print('Escolhendo apenas dois componentes, podemos explicar',round(sum(evr)*100,2),'% dos dados')"
   ]
  },
  {
   "cell_type": "code",
   "execution_count": 19,
   "metadata": {},
   "outputs": [
    {
     "data": {
      "text/plain": [
       "array([[-6.16388751e-03, -3.70623864e-02, -2.27401748e-02,\n",
       "        -2.13639023e-01, -1.98891213e-01, -1.70828950e-01,\n",
       "        -1.80309140e-01, -1.87038764e-01, -2.33139606e-01,\n",
       "        -2.07690956e-01, -1.84764187e-01, -1.67186902e-01,\n",
       "        -2.12972623e-01, -1.38740617e-01, -1.34902279e-01,\n",
       "        -1.38433521e-01, -4.91611013e-02, -1.16410947e-01,\n",
       "        -1.95840156e-01, -4.07181861e-02, -1.72711671e-01,\n",
       "        -2.33585866e-02, -2.16594765e-01, -1.53339724e-01,\n",
       "        -1.50834334e-01, -2.24571087e-01, -1.29586783e-01,\n",
       "        -1.62548283e-01, -1.01038031e-01, -1.53454113e-01,\n",
       "        -1.59617493e-01, -1.47955869e-01,  2.06147192e-01,\n",
       "         1.96645602e-01,  1.91129889e-01,  1.97401130e-01,\n",
       "         2.08994083e-01],\n",
       "       [ 8.87203494e-03,  1.58367355e-04, -7.78142440e-03,\n",
       "        -4.43084573e-02, -2.57629630e-01,  1.18911964e-01,\n",
       "         1.21869793e-02, -1.91182282e-01, -1.18898465e-01,\n",
       "        -1.27744634e-01, -1.00178915e-01,  4.89136910e-02,\n",
       "        -5.12678591e-02, -9.84027581e-02, -8.39018967e-02,\n",
       "        -1.21564730e-01,  9.67807471e-04, -9.04417070e-02,\n",
       "        -1.04656794e-01,  5.73651299e-02,  6.82049478e-02,\n",
       "         1.19388946e-01, -1.73409231e-01,  2.13348825e-01,\n",
       "         3.80693673e-01, -1.81116109e-01, -1.16093790e-01,\n",
       "        -1.45955713e-01, -7.54603641e-03,  3.49153365e-01,\n",
       "         4.11672737e-01,  4.10829628e-01, -5.41007769e-02,\n",
       "        -5.23713548e-02, -5.14942445e-02, -5.14745248e-02,\n",
       "        -5.52340572e-02]])"
      ]
     },
     "execution_count": 19,
     "metadata": {},
     "output_type": "execute_result"
    }
   ],
   "source": [
    "#Esses componentes, o PC1 e PC2, são vetores unitários em que cada valor explica uma variável\n",
    "#O primeiro valor do primeiro vetor explica Age (é isso?)\n",
    "pca.components_"
   ]
  },
  {
   "cell_type": "code",
   "execution_count": 20,
   "metadata": {},
   "outputs": [
    {
     "data": {
      "text/plain": [
       "[186.556, -6.592]"
      ]
     },
     "execution_count": 20,
     "metadata": {},
     "output_type": "execute_result"
    }
   ],
   "source": [
    "# Multiplicando o vetor dos coeficientes (components) pelos valores de x \n",
    "# (que seriam os x1, x2, x3... substituidos por valores) encontramos um valor de posição pro PC1\n",
    "coord = pca.components_.dot(x).round(3)\n",
    "list(coord)"
   ]
  },
  {
   "cell_type": "code",
   "execution_count": 21,
   "metadata": {},
   "outputs": [
    {
     "data": {
      "image/png": "[encoded data removed]",
      "text/plain": [
       "<Figure size 576x576 with 1 Axes>"
      ]
     },
     "metadata": {},
     "output_type": "display_data"
    }
   ],
   "source": [
    "#Visualizando onde está esse ponto x\n",
    "\n",
    "#dados:\n",
    "pca = PCA().fit(fifa)\n",
    "#gera coordenadas de cada amostra baseado no loading score e scaled data:\n",
    "pca_points = pca.transform(fifa)\n",
    "\n",
    "#ponto x\n",
    "point = pca.components_.dot(x)\n",
    "\n",
    "plt.figure(figsize=(8,8))\n",
    "plt.scatter(pca_points[:, 0], pca_points[:, 1], c='gray')\n",
    "plt.scatter(point[0], point[1], c='red',marker=\"*\", s=100)\n",
    "\n",
    "plt.xlabel(\"PC1\")\n",
    "plt.ylabel(\"PC2\")\n",
    "plt.show()"
   ]
  },
  {
   "cell_type": "code",
   "execution_count": 22,
   "metadata": {},
   "outputs": [
    {
     "data": {
      "text/html": [
       "<div>\n",
       "<style scoped>\n",
       "    .dataframe tbody tr th:only-of-type {\n",
       "        vertical-align: middle;\n",
       "    }\n",
       "\n",
       "    .dataframe tbody tr th {\n",
       "        vertical-align: top;\n",
       "    }\n",
       "\n",
       "    .dataframe thead th {\n",
       "        text-align: right;\n",
       "    }\n",
       "</style>\n",
       "<table border=\"1\" class=\"dataframe\">\n",
       "  <thead>\n",
       "    <tr style=\"text-align: right;\">\n",
       "      <th></th>\n",
       "      <th>PC1</th>\n",
       "      <th>PC2</th>\n",
       "    </tr>\n",
       "  </thead>\n",
       "  <tbody>\n",
       "    <tr>\n",
       "      <th>0</th>\n",
       "      <td>-126.717925</td>\n",
       "      <td>-105.580008</td>\n",
       "    </tr>\n",
       "    <tr>\n",
       "      <th>1</th>\n",
       "      <td>-123.365686</td>\n",
       "      <td>-88.984161</td>\n",
       "    </tr>\n",
       "    <tr>\n",
       "      <th>2</th>\n",
       "      <td>-115.110136</td>\n",
       "      <td>-94.775056</td>\n",
       "    </tr>\n",
       "    <tr>\n",
       "      <th>3</th>\n",
       "      <td>165.045120</td>\n",
       "      <td>-25.258196</td>\n",
       "    </tr>\n",
       "    <tr>\n",
       "      <th>4</th>\n",
       "      <td>-134.679105</td>\n",
       "      <td>-35.556799</td>\n",
       "    </tr>\n",
       "  </tbody>\n",
       "</table>\n",
       "</div>"
      ],
      "text/plain": [
       "          PC1         PC2\n",
       "0 -126.717925 -105.580008\n",
       "1 -123.365686  -88.984161\n",
       "2 -115.110136  -94.775056\n",
       "3  165.045120  -25.258196\n",
       "4 -134.679105  -35.556799"
      ]
     },
     "execution_count": 22,
     "metadata": {},
     "output_type": "execute_result"
    }
   ],
   "source": [
    "#esse seria meu novo dataframe reduzido, se eu usasse só duas variáveis:\n",
    "df = pd.DataFrame(pca_points, columns=labels)\n",
    "df = df[['PC1','PC2']]\n",
    "df.head()"
   ]
  },
  {
   "cell_type": "code",
   "execution_count": 23,
   "metadata": {},
   "outputs": [
    {
     "data": {
      "text/plain": [
       "[186.556, -6.592]"
      ]
     },
     "execution_count": 23,
     "metadata": {},
     "output_type": "execute_result"
    }
   ],
   "source": [
    "# Outra forma de calcular:\n",
    "pca = PCA(n_components = 2).fit(fifa)\n",
    "[round(sum(coordinate),3) for coordinate in pca.components_ * x]  "
   ]
  },
  {
   "cell_type": "code",
   "execution_count": 24,
   "metadata": {},
   "outputs": [
    {
     "data": {
      "text/plain": [
       "(186.556, -6.592)"
      ]
     },
     "execution_count": 24,
     "metadata": {},
     "output_type": "execute_result"
    }
   ],
   "source": [
    "def q3():\n",
    "    pca = PCA(n_components = 2).fit(fifa)\n",
    "    res = pca.components_.dot(x).round(3)  \n",
    "    return tuple(res)\n",
    "\n",
    "q3()"
   ]
  },
  {
   "cell_type": "markdown",
   "metadata": {},
   "source": [
    "## Questão 4\n",
    "\n",
    "Realize RFE com estimador de regressão linear para selecionar cinco variáveis, eliminando uma a uma. Quais são as variáveis selecionadas? Responda como uma lista de nomes de variáveis."
   ]
  },
  {
   "cell_type": "code",
   "execution_count": 25,
   "metadata": {},
   "outputs": [],
   "source": [
    "#RFE com estimador de reg linear com 5 variáveis para selecionar\n",
    "reg = LinearRegression()\n",
    "rfe = RFE(reg, n_features_to_select= 5)"
   ]
  },
  {
   "cell_type": "code",
   "execution_count": 26,
   "metadata": {},
   "outputs": [],
   "source": [
    "#Definindo minhas variáveis de treino\n",
    "X = fifa.drop(columns ='Overall')\n",
    "y = fifa['Overall']"
   ]
  },
  {
   "cell_type": "code",
   "execution_count": 27,
   "metadata": {},
   "outputs": [
    {
     "name": "stderr",
     "output_type": "stream",
     "text": [
      "/home/naiara/.local/lib/python3.6/site-packages/sklearn/utils/deprecation.py:143: FutureWarning: The sklearn.metrics.classification module is  deprecated in version 0.22 and will be removed in version 0.24. The corresponding classes / functions should instead be imported from sklearn.metrics. Anything that cannot be imported from sklearn.metrics is now part of the private API.\n",
      "  warnings.warn(message, FutureWarning)\n"
     ]
    },
    {
     "data": {
      "image/png": "[encoded data removed]",
      "text/plain": [
       "<Figure size 576x396 with 4 Axes>"
      ]
     },
     "metadata": {},
     "output_type": "display_data"
    }
   ],
   "source": [
    "from yellowbrick.features import PCA\n",
    "\n",
    "vis = PCA(scale=True, proj_features=True, projection=2, colormap='hot_r', colorbar=True, heatmap=True)\n",
    "vis.fit_transform(X, y)\n",
    "vis.show();"
   ]
  },
  {
   "cell_type": "code",
   "execution_count": 28,
   "metadata": {},
   "outputs": [
    {
     "data": {
      "text/plain": [
       "RFE(estimator=LinearRegression(), n_features_to_select=5)"
      ]
     },
     "execution_count": 28,
     "metadata": {},
     "output_type": "execute_result"
    }
   ],
   "source": [
    "#Fit nos dados\n",
    "rfe.fit(X, y)"
   ]
  },
  {
   "cell_type": "code",
   "execution_count": 29,
   "metadata": {},
   "outputs": [
    {
     "data": {
      "text/plain": [
       "array([ True,  True, False, False, False, False, False, False, False,\n",
       "       False, False,  True, False, False, False,  True, False, False,\n",
       "       False, False, False, False, False, False, False, False, False,\n",
       "       False, False, False, False, False, False, False, False,  True])"
      ]
     },
     "execution_count": 29,
     "metadata": {},
     "output_type": "execute_result"
    }
   ],
   "source": [
    "#Vendo quais colunas foram selecionadas\n",
    "rfe.support_"
   ]
  },
  {
   "cell_type": "code",
   "execution_count": 30,
   "metadata": {},
   "outputs": [
    {
     "data": {
      "text/html": [
       "<div>\n",
       "<style scoped>\n",
       "    .dataframe tbody tr th:only-of-type {\n",
       "        vertical-align: middle;\n",
       "    }\n",
       "\n",
       "    .dataframe tbody tr th {\n",
       "        vertical-align: top;\n",
       "    }\n",
       "\n",
       "    .dataframe thead th {\n",
       "        text-align: right;\n",
       "    }\n",
       "</style>\n",
       "<table border=\"1\" class=\"dataframe\">\n",
       "  <thead>\n",
       "    <tr style=\"text-align: right;\">\n",
       "      <th></th>\n",
       "      <th>coluna</th>\n",
       "      <th>bool</th>\n",
       "    </tr>\n",
       "  </thead>\n",
       "  <tbody>\n",
       "    <tr>\n",
       "      <th>0</th>\n",
       "      <td>Age</td>\n",
       "      <td>True</td>\n",
       "    </tr>\n",
       "    <tr>\n",
       "      <th>11</th>\n",
       "      <td>BallControl</td>\n",
       "      <td>True</td>\n",
       "    </tr>\n",
       "    <tr>\n",
       "      <th>1</th>\n",
       "      <td>Potential</td>\n",
       "      <td>True</td>\n",
       "    </tr>\n",
       "    <tr>\n",
       "      <th>15</th>\n",
       "      <td>Reactions</td>\n",
       "      <td>True</td>\n",
       "    </tr>\n",
       "    <tr>\n",
       "      <th>35</th>\n",
       "      <td>GKReflexes</td>\n",
       "      <td>True</td>\n",
       "    </tr>\n",
       "    <tr>\n",
       "      <th>5</th>\n",
       "      <td>ShortPassing</td>\n",
       "      <td>False</td>\n",
       "    </tr>\n",
       "  </tbody>\n",
       "</table>\n",
       "</div>"
      ],
      "text/plain": [
       "          coluna   bool\n",
       "0            Age   True\n",
       "11   BallControl   True\n",
       "1      Potential   True\n",
       "15     Reactions   True\n",
       "35    GKReflexes   True\n",
       "5   ShortPassing  False"
      ]
     },
     "execution_count": 30,
     "metadata": {},
     "output_type": "execute_result"
    }
   ],
   "source": [
    "pd.DataFrame({'coluna': X.columns,\n",
    "              'bool': rfe.get_support()}).sort_values(by='bool',ascending=False).head(6)"
   ]
  },
  {
   "cell_type": "code",
   "execution_count": 31,
   "metadata": {},
   "outputs": [
    {
     "data": {
      "text/plain": [
       "Index(['Age', 'Potential', 'Crossing', 'Finishing', 'HeadingAccuracy',\n",
       "       'ShortPassing', 'Volleys', 'Dribbling', 'Curve', 'FKAccuracy',\n",
       "       'LongPassing', 'BallControl', 'Acceleration', 'SprintSpeed', 'Agility',\n",
       "       'Reactions', 'Balance', 'ShotPower', 'Jumping', 'Stamina', 'Strength',\n",
       "       'LongShots', 'Aggression', 'Interceptions', 'Positioning', 'Vision',\n",
       "       'Penalties', 'Composure', 'Marking', 'StandingTackle', 'SlidingTackle',\n",
       "       'GKDiving', 'GKHandling', 'GKKicking', 'GKPositioning', 'GKReflexes'],\n",
       "      dtype='object')"
      ]
     },
     "execution_count": 31,
     "metadata": {},
     "output_type": "execute_result"
    }
   ],
   "source": [
    "X.columns"
   ]
  },
  {
   "cell_type": "code",
   "execution_count": 32,
   "metadata": {},
   "outputs": [
    {
     "data": {
      "text/plain": [
       "Index(['Age', 'Potential', 'BallControl', 'Reactions', 'GKReflexes'], dtype='object')"
      ]
     },
     "execution_count": 32,
     "metadata": {},
     "output_type": "execute_result"
    }
   ],
   "source": [
    "X.columns[rfe.support_]"
   ]
  },
  {
   "cell_type": "code",
   "execution_count": 33,
   "metadata": {},
   "outputs": [
    {
     "data": {
      "text/plain": [
       "['Age', 'Potential', 'BallControl', 'Reactions', 'GKReflexes']"
      ]
     },
     "execution_count": 33,
     "metadata": {},
     "output_type": "execute_result"
    }
   ],
   "source": [
    "def q4():\n",
    "    reg = LinearRegression()\n",
    "    rfe = RFE(reg, n_features_to_select= 5)\n",
    "    \n",
    "    X = fifa.drop(columns ='Overall')\n",
    "    y = fifa['Overall']\n",
    "    \n",
    "    rfe.fit(X, y)\n",
    "    \n",
    "    return list(X.columns[rfe.support_])\n",
    "    \n",
    "q4()"
   ]
  },
  {
   "cell_type": "code",
   "execution_count": null,
   "metadata": {},
   "outputs": [],
   "source": []
  },
  {
   "cell_type": "code",
   "execution_count": null,
   "metadata": {},
   "outputs": [],
   "source": []
  }
 ],
 "metadata": {
  "kernelspec": {
   "display_name": "Python 3",
   "language": "python",
   "name": "python3"
  },
  "language_info": {
   "codemirror_mode": {
    "name": "ipython",
    "version": 3
   },
   "file_extension": ".py",
   "mimetype": "text/x-python",
   "name": "python",
   "nbconvert_exporter": "python",
   "pygments_lexer": "ipython3",
   "version": "3.6.9"
  }
 },
 "nbformat": 4,
 "nbformat_minor": 2
}
