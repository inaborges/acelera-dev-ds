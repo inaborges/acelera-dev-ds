{
 "cells": [
  {
   "cell_type": "markdown",
   "metadata": {},
   "source": [
    "# Desafio 6\n",
    "\n",
    "Neste desafio, vamos praticar _feature engineering_, um dos processos mais importantes e trabalhosos de ML. Utilizaremos o _data set_ [Countries of the world](https://www.kaggle.com/fernandol/countries-of-the-world), que contém dados sobre os 227 países do mundo com informações sobre tamanho da população, área, imigração e setores de produção."
   ]
  },
  {
   "cell_type": "markdown",
   "metadata": {},
   "source": [
    "## _Setup_ geral"
   ]
  },
  {
   "cell_type": "code",
   "execution_count": 1,
   "metadata": {},
   "outputs": [],
   "source": [
    "import pandas as pd\n",
    "import numpy as np\n",
    "import seaborn as sns\n",
    "import sklearn as sk\n",
    "import matplotlib.pyplot as plt\n",
    "\n",
    "from sklearn.preprocessing import (KBinsDiscretizer, StandardScaler, OneHotEncoder)\n",
    "from sklearn.impute import SimpleImputer\n",
    "from sklearn.pipeline import Pipeline\n",
    "\n",
    "from sklearn.datasets import fetch_20newsgroups\n",
    "from sklearn.feature_extraction.text import CountVectorizer, TfidfVectorizer"
   ]
  },
  {
   "cell_type": "code",
   "execution_count": 2,
   "metadata": {
    "scrolled": false
   },
   "outputs": [],
   "source": [
    "countries = pd.read_csv(\"countries.csv\")"
   ]
  },
  {
   "cell_type": "code",
   "execution_count": 3,
   "metadata": {},
   "outputs": [],
   "source": [
    "new_column_names = [\"Country\", \"Region\", \"Population\", \"Area\", \"Pop_density\", \"Coastline_ratio\",\n",
    "    \"Net_migration\", \"Infant_mortality\", \"GDP\", \"Literacy\", \"Phones_per_1000\",\n",
    "    \"Arable\", \"Crops\", \"Other\", \"Climate\", \"Birthrate\", \"Deathrate\", \"Agriculture\",\n",
    "    \"Industry\", \"Service\"]\n",
    "\n",
    "countries.columns = new_column_names"
   ]
  },
  {
   "cell_type": "markdown",
   "metadata": {},
   "source": [
    "## Observações\n",
    "\n",
    "Esse _data set_ ainda precisa de alguns ajustes iniciais. Primeiro, note que as variáveis numéricas estão usando vírgula como separador decimal e estão codificadas como strings. Corrija isso antes de continuar: transforme essas variáveis em numéricas adequadamente."
   ]
  },
  {
   "cell_type": "code",
   "execution_count": 4,
   "metadata": {
    "scrolled": true
   },
   "outputs": [
    {
     "name": "stdout",
     "output_type": "stream",
     "text": [
      "<class 'pandas.core.frame.DataFrame'>\n",
      "RangeIndex: 227 entries, 0 to 226\n",
      "Data columns (total 20 columns):\n",
      " #   Column            Non-Null Count  Dtype  \n",
      "---  ------            --------------  -----  \n",
      " 0   Country           227 non-null    object \n",
      " 1   Region            227 non-null    object \n",
      " 2   Population        227 non-null    int64  \n",
      " 3   Area              227 non-null    int64  \n",
      " 4   Pop_density       227 non-null    object \n",
      " 5   Coastline_ratio   227 non-null    object \n",
      " 6   Net_migration     224 non-null    object \n",
      " 7   Infant_mortality  224 non-null    object \n",
      " 8   GDP               226 non-null    float64\n",
      " 9   Literacy          209 non-null    object \n",
      " 10  Phones_per_1000   223 non-null    object \n",
      " 11  Arable            225 non-null    object \n",
      " 12  Crops             225 non-null    object \n",
      " 13  Other             225 non-null    object \n",
      " 14  Climate           205 non-null    object \n",
      " 15  Birthrate         224 non-null    object \n",
      " 16  Deathrate         223 non-null    object \n",
      " 17  Agriculture       212 non-null    object \n",
      " 18  Industry          211 non-null    object \n",
      " 19  Service           212 non-null    object \n",
      "dtypes: float64(1), int64(2), object(17)\n",
      "memory usage: 35.6+ KB\n"
     ]
    }
   ],
   "source": [
    "countries.info()"
   ]
  },
  {
   "cell_type": "code",
   "execution_count": 5,
   "metadata": {},
   "outputs": [
    {
     "data": {
      "text/html": [
       "<div>\n",
       "<style scoped>\n",
       "    .dataframe tbody tr th:only-of-type {\n",
       "        vertical-align: middle;\n",
       "    }\n",
       "\n",
       "    .dataframe tbody tr th {\n",
       "        vertical-align: top;\n",
       "    }\n",
       "\n",
       "    .dataframe thead th {\n",
       "        text-align: right;\n",
       "    }\n",
       "</style>\n",
       "<table border=\"1\" class=\"dataframe\">\n",
       "  <thead>\n",
       "    <tr style=\"text-align: right;\">\n",
       "      <th></th>\n",
       "      <th>Pop_density</th>\n",
       "      <th>Coastline_ratio</th>\n",
       "      <th>Net_migration</th>\n",
       "      <th>Infant_mortality</th>\n",
       "      <th>GDP</th>\n",
       "      <th>Literacy</th>\n",
       "      <th>Phones_per_1000</th>\n",
       "      <th>Arable</th>\n",
       "      <th>Crops</th>\n",
       "      <th>Other</th>\n",
       "      <th>Climate</th>\n",
       "      <th>Birthrate</th>\n",
       "      <th>Deathrate</th>\n",
       "      <th>Agriculture</th>\n",
       "      <th>Industry</th>\n",
       "      <th>Service</th>\n",
       "    </tr>\n",
       "  </thead>\n",
       "  <tbody>\n",
       "    <tr>\n",
       "      <th>0</th>\n",
       "      <td>48,0</td>\n",
       "      <td>0,00</td>\n",
       "      <td>23,06</td>\n",
       "      <td>163,07</td>\n",
       "      <td>700.0</td>\n",
       "      <td>36,0</td>\n",
       "      <td>3,2</td>\n",
       "      <td>12,13</td>\n",
       "      <td>0,22</td>\n",
       "      <td>87,65</td>\n",
       "      <td>1</td>\n",
       "      <td>46,6</td>\n",
       "      <td>20,34</td>\n",
       "      <td>0,38</td>\n",
       "      <td>0,24</td>\n",
       "      <td>0,38</td>\n",
       "    </tr>\n",
       "    <tr>\n",
       "      <th>1</th>\n",
       "      <td>124,6</td>\n",
       "      <td>1,26</td>\n",
       "      <td>-4,93</td>\n",
       "      <td>21,52</td>\n",
       "      <td>4500.0</td>\n",
       "      <td>86,5</td>\n",
       "      <td>71,2</td>\n",
       "      <td>21,09</td>\n",
       "      <td>4,42</td>\n",
       "      <td>74,49</td>\n",
       "      <td>3</td>\n",
       "      <td>15,11</td>\n",
       "      <td>5,22</td>\n",
       "      <td>0,232</td>\n",
       "      <td>0,188</td>\n",
       "      <td>0,579</td>\n",
       "    </tr>\n",
       "  </tbody>\n",
       "</table>\n",
       "</div>"
      ],
      "text/plain": [
       "  Pop_density Coastline_ratio Net_migration Infant_mortality     GDP Literacy  \\\n",
       "0        48,0            0,00         23,06           163,07   700.0     36,0   \n",
       "1       124,6            1,26         -4,93            21,52  4500.0     86,5   \n",
       "\n",
       "  Phones_per_1000 Arable Crops  Other Climate Birthrate Deathrate Agriculture  \\\n",
       "0             3,2  12,13  0,22  87,65       1      46,6     20,34        0,38   \n",
       "1            71,2  21,09  4,42  74,49       3     15,11      5,22       0,232   \n",
       "\n",
       "  Industry Service  \n",
       "0     0,24    0,38  \n",
       "1    0,188   0,579  "
      ]
     },
     "execution_count": 5,
     "metadata": {},
     "output_type": "execute_result"
    }
   ],
   "source": [
    "# Esses object são todos números:\n",
    "countries.iloc[0:,4:].head(2)"
   ]
  },
  {
   "cell_type": "code",
   "execution_count": 6,
   "metadata": {},
   "outputs": [],
   "source": [
    "#tranformando todo mundo em float com uma função:\n",
    "def to_float(str):\n",
    "    try:\n",
    "        return float(str.replace(',','.'))\n",
    "    except:\n",
    "        return str\n",
    "\n",
    "countries = countries.applymap(to_float)"
   ]
  },
  {
   "cell_type": "code",
   "execution_count": 7,
   "metadata": {
    "scrolled": true
   },
   "outputs": [
    {
     "name": "stdout",
     "output_type": "stream",
     "text": [
      "<class 'pandas.core.frame.DataFrame'>\n",
      "RangeIndex: 227 entries, 0 to 226\n",
      "Data columns (total 20 columns):\n",
      " #   Column            Non-Null Count  Dtype  \n",
      "---  ------            --------------  -----  \n",
      " 0   Country           227 non-null    object \n",
      " 1   Region            227 non-null    object \n",
      " 2   Population        227 non-null    int64  \n",
      " 3   Area              227 non-null    int64  \n",
      " 4   Pop_density       227 non-null    float64\n",
      " 5   Coastline_ratio   227 non-null    float64\n",
      " 6   Net_migration     224 non-null    float64\n",
      " 7   Infant_mortality  224 non-null    float64\n",
      " 8   GDP               226 non-null    float64\n",
      " 9   Literacy          209 non-null    float64\n",
      " 10  Phones_per_1000   223 non-null    float64\n",
      " 11  Arable            225 non-null    float64\n",
      " 12  Crops             225 non-null    float64\n",
      " 13  Other             225 non-null    float64\n",
      " 14  Climate           205 non-null    float64\n",
      " 15  Birthrate         224 non-null    float64\n",
      " 16  Deathrate         223 non-null    float64\n",
      " 17  Agriculture       212 non-null    float64\n",
      " 18  Industry          211 non-null    float64\n",
      " 19  Service           212 non-null    float64\n",
      "dtypes: float64(16), int64(2), object(2)\n",
      "memory usage: 35.6+ KB\n"
     ]
    }
   ],
   "source": [
    "countries.info()"
   ]
  },
  {
   "cell_type": "markdown",
   "metadata": {},
   "source": [
    "Além disso, as variáveis `Country` e `Region` possuem espaços a mais no começo e no final da string. Você pode utilizar o método `str.strip()` para remover esses espaços."
   ]
  },
  {
   "cell_type": "code",
   "execution_count": 8,
   "metadata": {},
   "outputs": [],
   "source": [
    "# removendo os espaços nas colunas de texto, de duas formas diferentes:\n",
    "countries.Region = countries.Region.str.strip()\n",
    "countries['Country'] = countries['Country'].apply(str.strip)"
   ]
  },
  {
   "cell_type": "code",
   "execution_count": 9,
   "metadata": {},
   "outputs": [
    {
     "name": "stderr",
     "output_type": "stream",
     "text": [
      "/home/naiara/.local/lib/python3.6/site-packages/ipykernel_launcher.py:5: SettingWithCopyWarning: \n",
      "A value is trying to be set on a copy of a slice from a DataFrame\n",
      "\n",
      "See the caveats in the documentation: https://pandas.pydata.org/pandas-docs/stable/user_guide/indexing.html#returning-a-view-versus-a-copy\n",
      "  \"\"\"\n"
     ]
    }
   ],
   "source": [
    "#da pra fazer assim também:\n",
    "tamanho = countries.Region.nunique() + 1\n",
    "\n",
    "for i in range(0, tamanho):\n",
    "    countries.Region[i] = countries.Region[i].strip()"
   ]
  },
  {
   "cell_type": "markdown",
   "metadata": {},
   "source": [
    "## Questão 1\n",
    "\n",
    "Quais são as regiões (variável `Region`) presentes no _data set_? Retorne uma lista com as regiões únicas do _data set_ com os espaços à frente e atrás da string removidos (mas mantenha pontuação: ponto, hífen etc) e ordenadas em ordem alfabética."
   ]
  },
  {
   "cell_type": "code",
   "execution_count": 10,
   "metadata": {},
   "outputs": [
    {
     "data": {
      "text/plain": [
       "array(['ASIA (EX. NEAR EAST)', 'EASTERN EUROPE', 'NORTHERN AFRICA',\n",
       "       'OCEANIA', 'WESTERN EUROPE', 'SUB-SAHARAN AFRICA',\n",
       "       'LATIN AMER. & CARIB', 'C.W. OF IND. STATES', 'NEAR EAST',\n",
       "       'NORTHERN AMERICA', 'BALTICS'], dtype=object)"
      ]
     },
     "execution_count": 10,
     "metadata": {},
     "output_type": "execute_result"
    }
   ],
   "source": [
    "countries.Region.unique()"
   ]
  },
  {
   "cell_type": "code",
   "execution_count": 11,
   "metadata": {},
   "outputs": [
    {
     "data": {
      "text/plain": [
       "['ASIA (EX. NEAR EAST)',\n",
       " 'BALTICS',\n",
       " 'C.W. OF IND. STATES',\n",
       " 'EASTERN EUROPE',\n",
       " 'LATIN AMER. & CARIB',\n",
       " 'NEAR EAST',\n",
       " 'NORTHERN AFRICA',\n",
       " 'NORTHERN AMERICA',\n",
       " 'OCEANIA',\n",
       " 'SUB-SAHARAN AFRICA',\n",
       " 'WESTERN EUROPE']"
      ]
     },
     "execution_count": 11,
     "metadata": {},
     "output_type": "execute_result"
    }
   ],
   "source": [
    "def q1():\n",
    "    countries.Region = countries.Region.str.strip()\n",
    "    lista = list(countries.Region.unique())\n",
    "    return sorted(lista)\n",
    "\n",
    "q1()"
   ]
  },
  {
   "cell_type": "markdown",
   "metadata": {},
   "source": [
    "## Questão 2\n",
    "\n",
    "Discretizando a variável `Pop_density` em 10 intervalos com `KBinsDiscretizer`, seguindo o encode `ordinal` e estratégia `quantile`, quantos países se encontram acima do 90º percentil? Responda como um único escalar inteiro."
   ]
  },
  {
   "cell_type": "markdown",
   "metadata": {},
   "source": [
    "Discretizar é separar em intervalos contínuos uma variável numérica. Isso pode ser útil para converter uma variável numérica em categórica, quando o valor exato numérico não for tão importante quanto o intervalo onde ele se encontra."
   ]
  },
  {
   "cell_type": "code",
   "execution_count": 12,
   "metadata": {},
   "outputs": [],
   "source": [
    "# vamos criar 10 bins com a mesma quantidade de observações 227/10 ~ 23 observacoes em cada bin\n",
    "discretizer = KBinsDiscretizer(n_bins=10, encode=\"ordinal\", strategy=\"quantile\")\n",
    "discretizer.fit(countries[['Pop_density']])\n",
    "bins = discretizer.transform(countries[['Pop_density']])"
   ]
  },
  {
   "cell_type": "code",
   "execution_count": 13,
   "metadata": {},
   "outputs": [
    {
     "data": {
      "text/plain": [
       "array([array([0.00000e+00, 1.01400e+01, 2.12200e+01, 3.94800e+01, 5.98000e+01,\n",
       "       7.88000e+01, 1.05540e+02, 1.50120e+02, 2.53700e+02, 3.96740e+02,\n",
       "       1.62715e+04])], dtype=object)"
      ]
     },
     "execution_count": 13,
     "metadata": {},
     "output_type": "execute_result"
    }
   ],
   "source": [
    "#Os limites dos intervalos estão disponíveis no atributo bin_edges_\n",
    "discretizer.bin_edges_"
   ]
  },
  {
   "cell_type": "code",
   "execution_count": 14,
   "metadata": {},
   "outputs": [
    {
     "name": "stdout",
     "output_type": "stream",
     "text": [
      "interval | elements\n",
      "0.00 ⊢ 10.14  |  23\n",
      "10.14 ⊢ 21.22  |  23\n",
      "21.22 ⊢ 39.48  |  22\n",
      "39.48 ⊢ 59.80  |  23\n",
      "59.80 ⊢ 78.80  |  22\n",
      "78.80 ⊢ 105.54  |  23\n",
      "105.54 ⊢ 150.12  |  23\n",
      "150.12 ⊢ 253.70  |  22\n",
      "253.70 ⊢ 396.74  |  23\n",
      "396.74 ⊢ 16271.50  |  23\n"
     ]
    }
   ],
   "source": [
    "# para ver os intervalos\n",
    "def get_interval(bin_idx, bin_edges):\n",
    "  return f\"{np.round(bin_edges[bin_idx], 2):.2f} ⊢ {np.round(bin_edges[bin_idx+1], 2):.2f}\"\n",
    "\n",
    "bin_edges_quantile = discretizer.bin_edges_[0]\n",
    "\n",
    "print(\"interval | elements\")\n",
    "for i in range(len(discretizer.bin_edges_[0])-1):\n",
    "    print(get_interval(i, bin_edges_quantile),\" | \",sum(bins[:, 0] == i))"
   ]
  },
  {
   "cell_type": "code",
   "execution_count": 15,
   "metadata": {},
   "outputs": [
    {
     "data": {
      "text/plain": [
       "array([[3., 6., 1., 8., 7., 0., 6., 7., 1., 5., 8., 0., 5., 5., 2., 9.,\n",
       "        9., 9., 3., 8., 1., 4., 9., 3., 0., 5., 0., 2., 7., 4., 4., 3.,\n",
       "        4., 8., 4., 2., 0., 5., 7., 0., 0., 2., 6., 2., 8., 2., 1., 5.,\n",
       "        5., 3., 5., 5., 5., 6., 6., 1., 5., 7., 4., 3., 5., 8., 1., 3.,\n",
       "        2., 4., 2., 3., 1., 6., 0., 4., 0., 6., 9., 4., 7., 5., 9., 5.,\n",
       "        0., 8., 8., 8., 6., 9., 2., 3., 0., 8., 4., 9., 6., 0., 8., 6.,\n",
       "        3., 4., 3., 6., 8., 7., 7., 8., 9., 4., 0., 3., 6., 7., 9., 6.,\n",
       "        2., 2., 2., 8., 4., 2., 0., 7., 3., 7., 9., 5., 2., 6., 4., 9.,\n",
       "        0., 9., 0., 8., 0., 9., 9., 3., 7., 6., 9., 0., 5., 4., 2., 0.,\n",
       "        9., 7., 9., 7., 1., 1., 3., 0., 6., 7., 1., 1., 7., 3., 3., 1.,\n",
       "        1., 2., 8., 6., 6., 8., 4., 8., 5., 0., 8., 1., 6., 8., 2., 8.,\n",
       "        4., 9., 7., 1., 4., 6., 7., 5., 9., 6., 5., 1., 1., 2., 5., 8.,\n",
       "        1., 0., 4., 1., 7., 5., 9., 3., 3., 6., 5., 7., 7., 4., 5., 1.,\n",
       "        3., 9., 6., 4., 2., 7., 2., 1., 4., 1., 2., 8., 3., 3., 9., 0.,\n",
       "        3., 1., 2.]])"
      ]
     },
     "execution_count": 15,
     "metadata": {},
     "output_type": "execute_result"
    }
   ],
   "source": [
    "bins.T"
   ]
  },
  {
   "cell_type": "code",
   "execution_count": 16,
   "metadata": {},
   "outputs": [
    {
     "data": {
      "text/plain": [
       "23"
      ]
     },
     "execution_count": 16,
     "metadata": {},
     "output_type": "execute_result"
    }
   ],
   "source": [
    "# se eu dividi em 10 partes, meu percentil 90 será o ultimo bloco de valores (os ultimos 10%) quando as bins = 9\n",
    "int(sum(bins == 9))"
   ]
  },
  {
   "cell_type": "code",
   "execution_count": 17,
   "metadata": {},
   "outputs": [
    {
     "data": {
      "text/plain": [
       "23"
      ]
     },
     "execution_count": 17,
     "metadata": {},
     "output_type": "execute_result"
    }
   ],
   "source": [
    "def q2():\n",
    "    discretizer = KBinsDiscretizer(n_bins=10, encode=\"ordinal\", strategy=\"quantile\")\n",
    "    discretizer.fit(countries[['Pop_density']])\n",
    "    bins = discretizer.transform(countries[['Pop_density']])\n",
    "    return int(sum(bins == 9))\n",
    "\n",
    "q2()"
   ]
  },
  {
   "cell_type": "markdown",
   "metadata": {},
   "source": [
    "# Questão 3\n",
    "\n",
    "Se codificarmos as variáveis `Region` e `Climate` usando _one-hot encoding_, quantos novos atributos seriam criados? Responda como um único escalar."
   ]
  },
  {
   "cell_type": "code",
   "execution_count": 18,
   "metadata": {},
   "outputs": [],
   "source": [
    "one_hot_encoder = OneHotEncoder(sparse=False)\n",
    "\n",
    "countries[\"Climate\"] = countries[\"Climate\"].fillna(0)\n",
    "climate_encoded = one_hot_encoder.fit_transform(countries[[\"Climate\"]])\n",
    "data_encoded = pd.concat([countries, pd.DataFrame(climate_encoded, columns=one_hot_encoder.categories_)], axis=1)"
   ]
  },
  {
   "cell_type": "code",
   "execution_count": 19,
   "metadata": {},
   "outputs": [
    {
     "data": {
      "text/plain": [
       "(227, 38)"
      ]
     },
     "execution_count": 19,
     "metadata": {},
     "output_type": "execute_result"
    }
   ],
   "source": [
    "countries[\"Region\"] = countries[\"Region\"].fillna(0)\n",
    "region_encoded = one_hot_encoder.fit_transform(countries[[\"Region\"]])\n",
    "data_encoded = pd.concat([data_encoded, pd.DataFrame(region_encoded, columns=one_hot_encoder.categories_)], axis=1)\n",
    "data_encoded.shape"
   ]
  },
  {
   "cell_type": "code",
   "execution_count": 20,
   "metadata": {},
   "outputs": [
    {
     "data": {
      "text/plain": [
       "18"
      ]
     },
     "execution_count": 20,
     "metadata": {},
     "output_type": "execute_result"
    }
   ],
   "source": [
    "data_encoded.shape[1] - countries.shape[1]"
   ]
  },
  {
   "cell_type": "code",
   "execution_count": 21,
   "metadata": {},
   "outputs": [
    {
     "name": "stdout",
     "output_type": "stream",
     "text": [
      "['ASIA (EX. NEAR EAST)' 'EASTERN EUROPE' 'NORTHERN AFRICA' 'OCEANIA'\n",
      " 'WESTERN EUROPE' 'SUB-SAHARAN AFRICA' 'LATIN AMER. & CARIB'\n",
      " 'C.W. OF IND. STATES' 'NEAR EAST' 'NORTHERN AMERICA' 'BALTICS']\n"
     ]
    },
    {
     "data": {
      "text/plain": [
       "11"
      ]
     },
     "execution_count": 21,
     "metadata": {},
     "output_type": "execute_result"
    }
   ],
   "source": [
    "#Facilitando a contagem:\n",
    "print(countries.Region.unique())\n",
    "countries.Region.nunique(dropna=False)"
   ]
  },
  {
   "cell_type": "code",
   "execution_count": 22,
   "metadata": {},
   "outputs": [
    {
     "name": "stdout",
     "output_type": "stream",
     "text": [
      "[1.  3.  2.  0.  4.  1.5 2.5]\n"
     ]
    },
    {
     "data": {
      "text/plain": [
       "7"
      ]
     },
     "execution_count": 22,
     "metadata": {},
     "output_type": "execute_result"
    }
   ],
   "source": [
    "#tem que usar o dropna = false pra ele contar o NaN como uma categoria tambem!\n",
    "print(countries.Climate.unique())\n",
    "countries.Climate.nunique(dropna=False)"
   ]
  },
  {
   "cell_type": "code",
   "execution_count": 23,
   "metadata": {},
   "outputs": [
    {
     "data": {
      "text/plain": [
       "18"
      ]
     },
     "execution_count": 23,
     "metadata": {},
     "output_type": "execute_result"
    }
   ],
   "source": [
    "def q3():\n",
    "    return countries.Region.nunique(dropna=False) + countries.Climate.nunique(dropna=False)\n",
    "\n",
    "q3()"
   ]
  },
  {
   "cell_type": "markdown",
   "metadata": {},
   "source": [
    "## Questão 4\n",
    "\n",
    "Aplique o seguinte _pipeline_:\n",
    "\n",
    "1. Preencha as variáveis do tipo `int64` e `float64` com suas respectivas medianas.\n",
    "2. Padronize essas variáveis."
   ]
  },
  {
   "cell_type": "code",
   "execution_count": 24,
   "metadata": {},
   "outputs": [
    {
     "data": {
      "text/plain": [
       "array([[ 0.01969468,  0.02758332, -0.19984434, ...,  1.63657562,\n",
       "        -0.31540576, -1.1611354 ],\n",
       "       [-0.21387688, -0.31879748, -0.15360296, ...,  0.59516349,\n",
       "        -0.70631815,  0.08342432],\n",
       "       [ 0.03561811,  0.99842051, -0.22048996, ..., -0.32662697,\n",
       "         2.39091078, -1.67396905],\n",
       "       ...,\n",
       "       [-0.06192308, -0.03933023, -0.20431152, ..., -0.08738364,\n",
       "         1.4286649 , -1.0798325 ],\n",
       "       [-0.14654488,  0.08642673, -0.21958445, ...,  0.51072467,\n",
       "         0.06047154, -0.47944188],\n",
       "       [-0.14029829, -0.11624192, -0.20992568, ...,  0.22222537,\n",
       "        -0.29285312,  0.08342432]])"
      ]
     },
     "execution_count": 24,
     "metadata": {},
     "output_type": "execute_result"
    }
   ],
   "source": [
    "#criando o pipeline\n",
    "pipeline = Pipeline(steps=[\n",
    "    (\"imputer\", SimpleImputer(strategy=\"median\")),\n",
    "    (\"standard_scaler\", StandardScaler())\n",
    "    ])\n",
    "\n",
    "#usando o pipeline\n",
    "pipeline.fit(countries._get_numeric_data())\n",
    "pipeline.transform(countries._get_numeric_data())"
   ]
  },
  {
   "cell_type": "markdown",
   "metadata": {},
   "source": [
    "Após aplicado o _pipeline_ descrito acima aos dados (somente nas variáveis dos tipos especificados), aplique o mesmo _pipeline_ (ou `ColumnTransformer`) ao dado abaixo. Qual o valor da variável `Arable` após o _pipeline_? Responda como um único float arredondado para três casas decimais."
   ]
  },
  {
   "cell_type": "code",
   "execution_count": 25,
   "metadata": {},
   "outputs": [],
   "source": [
    "test_country = [\n",
    "    'Test Country', 'NEAR EAST', -0.19032480757326514,\n",
    "    -0.3232636124824411, -0.04421734470810142, -0.27528113360605316,\n",
    "    0.13255850810281325, -0.8054845935643491, 1.0119784924248225,\n",
    "    0.6189182532646624, 1.0074863283776458, 0.20239896852403538,\n",
    "    -0.043678728558593366, -0.13929748680369286, 1.3163604645710438,\n",
    "    -0.3699637766938669, -0.6149300604558857, -0.854369594993175,\n",
    "    0.263445277972641, 0.5712416961268142\n",
    "]"
   ]
  },
  {
   "cell_type": "code",
   "execution_count": 26,
   "metadata": {},
   "outputs": [
    {
     "data": {
      "text/html": [
       "<div>\n",
       "<style scoped>\n",
       "    .dataframe tbody tr th:only-of-type {\n",
       "        vertical-align: middle;\n",
       "    }\n",
       "\n",
       "    .dataframe tbody tr th {\n",
       "        vertical-align: top;\n",
       "    }\n",
       "\n",
       "    .dataframe thead th {\n",
       "        text-align: right;\n",
       "    }\n",
       "</style>\n",
       "<table border=\"1\" class=\"dataframe\">\n",
       "  <thead>\n",
       "    <tr style=\"text-align: right;\">\n",
       "      <th></th>\n",
       "      <th>Country</th>\n",
       "      <th>Region</th>\n",
       "      <th>Population</th>\n",
       "      <th>Area</th>\n",
       "      <th>Pop_density</th>\n",
       "      <th>Coastline_ratio</th>\n",
       "      <th>Net_migration</th>\n",
       "      <th>Infant_mortality</th>\n",
       "      <th>GDP</th>\n",
       "      <th>Literacy</th>\n",
       "      <th>Phones_per_1000</th>\n",
       "      <th>Arable</th>\n",
       "      <th>Crops</th>\n",
       "      <th>Other</th>\n",
       "      <th>Climate</th>\n",
       "      <th>Birthrate</th>\n",
       "      <th>Deathrate</th>\n",
       "      <th>Agriculture</th>\n",
       "      <th>Industry</th>\n",
       "      <th>Service</th>\n",
       "    </tr>\n",
       "  </thead>\n",
       "  <tbody>\n",
       "    <tr>\n",
       "      <th>0</th>\n",
       "      <td>Test Country</td>\n",
       "      <td>NEAR EAST</td>\n",
       "      <td>-0.190325</td>\n",
       "      <td>-0.323264</td>\n",
       "      <td>-0.044217</td>\n",
       "      <td>-0.275281</td>\n",
       "      <td>0.132559</td>\n",
       "      <td>-0.805485</td>\n",
       "      <td>1.011978</td>\n",
       "      <td>0.618918</td>\n",
       "      <td>1.007486</td>\n",
       "      <td>0.202399</td>\n",
       "      <td>-0.043679</td>\n",
       "      <td>-0.139297</td>\n",
       "      <td>1.31636</td>\n",
       "      <td>-0.369964</td>\n",
       "      <td>-0.61493</td>\n",
       "      <td>-0.85437</td>\n",
       "      <td>0.263445</td>\n",
       "      <td>0.571242</td>\n",
       "    </tr>\n",
       "  </tbody>\n",
       "</table>\n",
       "</div>"
      ],
      "text/plain": [
       "        Country     Region  Population      Area  Pop_density  \\\n",
       "0  Test Country  NEAR EAST   -0.190325 -0.323264    -0.044217   \n",
       "\n",
       "   Coastline_ratio  Net_migration  Infant_mortality       GDP  Literacy  \\\n",
       "0        -0.275281       0.132559         -0.805485  1.011978  0.618918   \n",
       "\n",
       "   Phones_per_1000    Arable     Crops     Other  Climate  Birthrate  \\\n",
       "0         1.007486  0.202399 -0.043679 -0.139297  1.31636  -0.369964   \n",
       "\n",
       "   Deathrate  Agriculture  Industry   Service  \n",
       "0   -0.61493     -0.85437  0.263445  0.571242  "
      ]
     },
     "execution_count": 26,
     "metadata": {},
     "output_type": "execute_result"
    }
   ],
   "source": [
    "#test_country é uma lista e o modelo não aceita listas, mas aceita dataframes:\n",
    "test_country_df = pd.DataFrame(data=[test_country], columns=countries.columns)\n",
    "test_country_df"
   ]
  },
  {
   "cell_type": "code",
   "execution_count": 27,
   "metadata": {},
   "outputs": [
    {
     "data": {
      "text/plain": [
       "array([[-0.24432501, -0.33489095, -0.22884735, -0.29726002,  0.01959086,\n",
       "        -1.02861728, -0.96623348, -4.35427242, -1.03720972, -1.04685743,\n",
       "        -0.55058149, -5.10112169, -0.67138971, -2.02455164, -1.99092137,\n",
       "        -7.04915046, -0.13915481,  0.03490335]])"
      ]
     },
     "execution_count": 27,
     "metadata": {},
     "output_type": "execute_result"
    }
   ],
   "source": [
    "test_transformed = pipeline.transform(test_country_df._get_numeric_data())\n",
    "test_transformed"
   ]
  },
  {
   "cell_type": "code",
   "execution_count": 28,
   "metadata": {},
   "outputs": [
    {
     "data": {
      "text/html": [
       "<div>\n",
       "<style scoped>\n",
       "    .dataframe tbody tr th:only-of-type {\n",
       "        vertical-align: middle;\n",
       "    }\n",
       "\n",
       "    .dataframe tbody tr th {\n",
       "        vertical-align: top;\n",
       "    }\n",
       "\n",
       "    .dataframe thead th {\n",
       "        text-align: right;\n",
       "    }\n",
       "</style>\n",
       "<table border=\"1\" class=\"dataframe\">\n",
       "  <thead>\n",
       "    <tr style=\"text-align: right;\">\n",
       "      <th></th>\n",
       "      <th>Population</th>\n",
       "      <th>Area</th>\n",
       "      <th>Pop_density</th>\n",
       "      <th>Coastline_ratio</th>\n",
       "      <th>Net_migration</th>\n",
       "      <th>Infant_mortality</th>\n",
       "      <th>GDP</th>\n",
       "      <th>Literacy</th>\n",
       "      <th>Phones_per_1000</th>\n",
       "      <th>Arable</th>\n",
       "      <th>Crops</th>\n",
       "      <th>Other</th>\n",
       "      <th>Climate</th>\n",
       "      <th>Birthrate</th>\n",
       "      <th>Deathrate</th>\n",
       "      <th>Agriculture</th>\n",
       "      <th>Industry</th>\n",
       "      <th>Service</th>\n",
       "    </tr>\n",
       "  </thead>\n",
       "  <tbody>\n",
       "    <tr>\n",
       "      <th>0</th>\n",
       "      <td>-0.244325</td>\n",
       "      <td>-0.334891</td>\n",
       "      <td>-0.228847</td>\n",
       "      <td>-0.29726</td>\n",
       "      <td>0.019591</td>\n",
       "      <td>-1.028617</td>\n",
       "      <td>-0.966233</td>\n",
       "      <td>-4.354272</td>\n",
       "      <td>-1.03721</td>\n",
       "      <td>-1.046857</td>\n",
       "      <td>-0.550581</td>\n",
       "      <td>-5.101122</td>\n",
       "      <td>-0.67139</td>\n",
       "      <td>-2.024552</td>\n",
       "      <td>-1.990921</td>\n",
       "      <td>-7.04915</td>\n",
       "      <td>-0.139155</td>\n",
       "      <td>0.034903</td>\n",
       "    </tr>\n",
       "  </tbody>\n",
       "</table>\n",
       "</div>"
      ],
      "text/plain": [
       "   Population      Area  Pop_density  Coastline_ratio  Net_migration  \\\n",
       "0   -0.244325 -0.334891    -0.228847         -0.29726       0.019591   \n",
       "\n",
       "   Infant_mortality       GDP  Literacy  Phones_per_1000    Arable     Crops  \\\n",
       "0         -1.028617 -0.966233 -4.354272         -1.03721 -1.046857 -0.550581   \n",
       "\n",
       "      Other  Climate  Birthrate  Deathrate  Agriculture  Industry   Service  \n",
       "0 -5.101122 -0.67139  -2.024552  -1.990921     -7.04915 -0.139155  0.034903  "
      ]
     },
     "execution_count": 28,
     "metadata": {},
     "output_type": "execute_result"
    }
   ],
   "source": [
    "#pra ver esses valores no df:\n",
    "colunas_num = list(countries._get_numeric_data().columns)\n",
    "\n",
    "test_transformed_df = pd.DataFrame(data=test_transformed, columns=colunas_num)\n",
    "test_transformed_df"
   ]
  },
  {
   "cell_type": "code",
   "execution_count": 29,
   "metadata": {},
   "outputs": [
    {
     "data": {
      "text/plain": [
       "-1.047"
      ]
     },
     "execution_count": 29,
     "metadata": {},
     "output_type": "execute_result"
    }
   ],
   "source": [
    "round(test_transformed_df.Arable[0],3)"
   ]
  },
  {
   "cell_type": "code",
   "execution_count": 30,
   "metadata": {},
   "outputs": [
    {
     "data": {
      "text/plain": [
       "-1.047"
      ]
     },
     "execution_count": 30,
     "metadata": {},
     "output_type": "execute_result"
    }
   ],
   "source": [
    "def q4():\n",
    "    pipeline = Pipeline(steps=[(\n",
    "    \"imputer\", SimpleImputer(strategy=\"median\")),\n",
    "    (\"standard_scaler\", StandardScaler())])\n",
    "\n",
    "    pipeline.fit(countries._get_numeric_data())\n",
    "    pipeline.transform(countries._get_numeric_data())\n",
    "    \n",
    "    test_country_df = pd.DataFrame(data=[test_country], columns=countries.columns)\n",
    "    test_transformed = pipeline.transform(test_country_df._get_numeric_data())\n",
    "    colunas_num = list(countries._get_numeric_data().columns)\n",
    "    test_transformed_df = pd.DataFrame(data=test_transformed, columns=colunas_num)\n",
    "\n",
    "    return round(test_transformed_df.Arable[0],3)\n",
    "\n",
    "q4()"
   ]
  },
  {
   "cell_type": "markdown",
   "metadata": {},
   "source": [
    "## Questão 5\n",
    "\n",
    "Descubra o número de _outliers_ da variável `Net_migration` segundo o método do _boxplot_, ou seja, usando a lógica:\n",
    "\n",
    "$$x \\notin [Q1 - 1.5 \\times \\text{IQR}, Q3 + 1.5 \\times \\text{IQR}] \\Rightarrow x \\text{ é outlier}$$\n",
    "\n",
    "que se encontram no grupo inferior e no grupo superior.\n",
    "\n",
    "Você deveria remover da análise as observações consideradas _outliers_ segundo esse método? Responda como uma tupla de três elementos `(outliers_abaixo, outliers_acima, removeria?)` ((int, int, bool))."
   ]
  },
  {
   "cell_type": "code",
   "execution_count": 31,
   "metadata": {},
   "outputs": [
    {
     "data": {
      "image/png": "[encoded data removed]",
      "text/plain": [
       "<Figure size 576x216 with 1 Axes>"
      ]
     },
     "metadata": {
      "needs_background": "light"
     },
     "output_type": "display_data"
    }
   ],
   "source": [
    "migration = countries.Net_migration.copy()\n",
    "\n",
    "plt.figure(figsize=(8,3))\n",
    "sns.boxplot(migration)\n",
    "plt.xlabel(\"Net migration\");"
   ]
  },
  {
   "cell_type": "code",
   "execution_count": 32,
   "metadata": {},
   "outputs": [
    {
     "data": {
      "image/png": "[encoded data removed]",
      "text/plain": [
       "<Figure size 576x216 with 1 Axes>"
      ]
     },
     "metadata": {
      "needs_background": "light"
     },
     "output_type": "display_data"
    }
   ],
   "source": [
    "plt.figure(figsize=(8,3))\n",
    "sns.distplot(migration.dropna())\n",
    "plt.xlabel(\"Net migration\");"
   ]
  },
  {
   "cell_type": "code",
   "execution_count": 33,
   "metadata": {},
   "outputs": [
    {
     "name": "stdout",
     "output_type": "stream",
     "text": [
      "Faixa limite: [-3.815, 3.885]\n"
     ]
    }
   ],
   "source": [
    "q1, q3 = migration.quantile([0.25, 0.75])\n",
    "iqr = q3 - q1\n",
    "\n",
    "lim_sup, lim_inf = q3 + 1.5*iqr, q1 - 1.5*iqr\n",
    "\n",
    "intervalo = [round(lim_inf,3), round(lim_sup,3)]\n",
    "\n",
    "print(\"Faixa limite:\", intervalo)"
   ]
  },
  {
   "cell_type": "code",
   "execution_count": 34,
   "metadata": {},
   "outputs": [],
   "source": [
    "#ver quais valores estão acima e abaixo dos limites de outlier \n",
    "outlier_sup = migration > intervalo[1]\n",
    "oulier_inf = migration < intervalo[0]"
   ]
  },
  {
   "cell_type": "code",
   "execution_count": 35,
   "metadata": {},
   "outputs": [
    {
     "data": {
      "text/plain": [
       "(24, 26, False)"
      ]
     },
     "execution_count": 35,
     "metadata": {},
     "output_type": "execute_result"
    }
   ],
   "source": [
    "def q5():\n",
    "    q1, q3 = migration.quantile([0.25, 0.75])\n",
    "    iqr = q3 - q1\n",
    "\n",
    "    lim_sup, lim_inf = q3 + 1.5*iqr, q1 - 1.5*iqr\n",
    "\n",
    "    outlier_sup = migration > lim_sup\n",
    "    outlier_inf = migration < lim_inf\n",
    "    \n",
    "    return sum(outlier_inf), sum(outlier_sup), False\n",
    "\n",
    "q5()"
   ]
  },
  {
   "cell_type": "markdown",
   "metadata": {},
   "source": [
    "## Questão 6\n",
    "Para as questões 6 e 7 utilize a biblioteca `fetch_20newsgroups` de datasets de test do `sklearn`\n",
    "\n",
    "Considere carregar as seguintes categorias e o dataset `newsgroups`:\n",
    "\n",
    "```\n",
    "categories = ['sci.electronics', 'comp.graphics', 'rec.motorcycles']\n",
    "newsgroup = fetch_20newsgroups(subset=\"train\", categories=categories, shuffle=True, random_state=42)\n",
    "```\n",
    "\n",
    "\n",
    "Aplique `CountVectorizer` ao _data set_ `newsgroups` e descubra o número de vezes que a palavra _phone_ aparece no corpus. Responda como um único escalar."
   ]
  },
  {
   "cell_type": "code",
   "execution_count": 36,
   "metadata": {},
   "outputs": [
    {
     "name": "stdout",
     "output_type": "stream",
     "text": [
      "são 1773 documentos em 3 categorias\n"
     ]
    }
   ],
   "source": [
    "#o data set 20 newsgroups, que contém milhares de documentos categorizados em 20 grupos \n",
    "# (desde astronomia até carros), porém vamos utilizar três:\n",
    "\n",
    "categories = ['sci.electronics', 'comp.graphics', 'rec.motorcycles']\n",
    "newsgroup = fetch_20newsgroups(subset=\"train\", categories=categories, shuffle=True, random_state=42)\n",
    "\n",
    "print('são',len(newsgroup.data),'documentos em',len(categories),'categorias')"
   ]
  },
  {
   "cell_type": "code",
   "execution_count": 37,
   "metadata": {},
   "outputs": [
    {
     "name": "stdout",
     "output_type": "stream",
     "text": [
      "> Document 4 of 1773:\n",
      "\n",
      "From: npet@bnr.ca (Nick Pettefar)\n",
      "Subject: Re: Rejetting carbs..\n",
      "Nntp-Posting-Host: bmdhh299\n",
      "Organization: BNR Europe Ltd, Maidenhead, UK\n",
      "X-Newsreader: TIN [version 1.1 PL8]\n",
      "Distribution: na\n",
      "Lines: 53\n",
      "\n",
      "Mark Kromer, on the Thu, 15 Apr 1993 00:42:46 GMT wibbled:\n",
      ": In an article rtaraz@bigwpi (Ramin Taraz) wrote:\n",
      "\n",
      ": >Does the \"amount of exhaust allowed to leave the engine through the\n",
      ": >exhaust pipe\" make that much of a difference? the amount of air/fuel\n",
      ": >mixture that a cylender sucks in (tries to suck in) depends on the\n",
      ": >speed of the piston when it goes down. \n",
      "\n",
      ": ...and the pressure in the cylinder at the end of the exhaust stroke.\n",
      "\n",
      ": With a poor exhaust system, this pressure may be above atmospheric.\n",
      ": With a pipe that scavenges well this may be substantially below\n",
      ": atmospheric.  This effect will vary with rpm depending on the tune of\n",
      ": the pipe; some pipes combined with large valve overlap can actually\n",
      ": reverse the intake flow and blow mixture out of the carb when outside\n",
      ": the pipes effective rev range.\n",
      "\n",
      ": >Now, my question is which one provides more resistence as far as the\n",
      ": >engine is conserned:\n",
      ": >) resistance that the exhaust provides \n",
      ": >) or the resistance that results from the bike trying to push itself and\n",
      ": >  the rider\n",
      "\n",
      ": Two completely different things.  The state of the pipe determines how\n",
      ": much power the motor can make.  The load of the bike determines how\n",
      ": much power the motor needs to make.\n",
      "\n",
      ": --\n",
      ": - )V(ark)<  FZR400 Pilot / ZX900 Payload / RD400 Mechanic  \n",
      ":                    You're welcome.\n",
      "\n",
      "Well I, for one, am so very glad that I have fuel injection!  All those \n",
      "needles and orifices and venturi and pressures... It's worse than school human\n",
      "biology reproduction lessons (sex).  Always made me feel a bit queasy.\n",
      "--\n",
      "\n",
      "Nick (the Simple Minded Biker)   DoD 1069   Concise Oxford   Tube Rider\n",
      "\n",
      "M'Lud.\n",
      "\n",
      "  ___\t___   ___   ___\n",
      " {\"_\"} {\"_\"} {\"_\"} {\"_\"}\t  Nick Pettefar, Contractor@Large.\n",
      "  ' `\t` '   ' `   ` '\t\t  Currently incarcerated at BNR,\n",
      "  ___\t___   ___   ___\t\t  Maidenhead, The United Kingdom.\n",
      " |\"_\"| |\"_\"| |\"_\"| |\"_\"|\t  npet@bnr.ca  '86 BMW K100RS \"Kay\"\n",
      "  ` '\t' `   ` '   ' `\t\t  Pres. PBWASOH(UK),  BS 0002\n",
      "\t    .\n",
      "   _ _\t\t_  __ .\n",
      "  / ~ ~~\\   |  / ~~  \\\n",
      " |_______|    [_______|\n",
      "\t   _:_\n",
      "\t  |___|\n",
      "\n",
      "\n",
      "> Category: rec.motorcycles\n"
     ]
    }
   ],
   "source": [
    "#Exemplo de um documento:\n",
    "document_idx = 4\n",
    "documents_total = len(newsgroup.data)\n",
    "\n",
    "print(f\"> Document {document_idx} of {documents_total}:\\n\\n{newsgroup.data[document_idx]}\")\n",
    "print(f\"> Category: {newsgroup.target_names[newsgroup.target[document_idx]]}\")"
   ]
  },
  {
   "cell_type": "code",
   "execution_count": 38,
   "metadata": {},
   "outputs": [
    {
     "data": {
      "text/plain": [
       "Index(['00', '000', '0000', '0000000004', '0000000005', '0000000667',\n",
       "       '0000001200', '000005102000', '0001', '000100255pixel',\n",
       "       ...\n",
       "       'zyeh', 'zygot', 'zyxel', 'zz', 'zzr11', 'zzr1100', 'zzzzzz', 'ªl',\n",
       "       '³ation', 'ýé'],\n",
       "      dtype='object', length=27335)"
      ]
     },
     "execution_count": 38,
     "metadata": {},
     "output_type": "execute_result"
    }
   ],
   "source": [
    "# O valor de cada célula, 𝑥𝑖,𝑗, (interseção da linha 𝑖 com a coluna 𝑗) do data set depende da tranformação aplicada.\n",
    "# Para realizar a contagem de palavras no documento (𝑥𝑖,𝑗), utiliza-se o CountVectorizer()\n",
    "\n",
    "count_vectorizer = CountVectorizer()\n",
    "newsgroup_counts = count_vectorizer.fit_transform(newsgroup.data)\n",
    "words = pd.DataFrame(newsgroup_counts.toarray(), columns=count_vectorizer.get_feature_names())\n",
    "\n",
    "words.columns"
   ]
  },
  {
   "cell_type": "code",
   "execution_count": 39,
   "metadata": {},
   "outputs": [
    {
     "data": {
      "text/plain": [
       "213"
      ]
     },
     "execution_count": 39,
     "metadata": {},
     "output_type": "execute_result"
    }
   ],
   "source": [
    "int(words['phone'].sum())"
   ]
  },
  {
   "cell_type": "code",
   "execution_count": 40,
   "metadata": {},
   "outputs": [
    {
     "data": {
      "text/plain": [
       "213"
      ]
     },
     "execution_count": 40,
     "metadata": {},
     "output_type": "execute_result"
    }
   ],
   "source": [
    "def q6():\n",
    "    count_vectorizer = CountVectorizer()\n",
    "    newsgroup_counts = count_vectorizer.fit_transform(newsgroup.data)\n",
    "    words = pd.DataFrame(newsgroup_counts.toarray(), columns=count_vectorizer.get_feature_names())\n",
    "    return int(words['phone'].sum())\n",
    "\n",
    "q6()    "
   ]
  },
  {
   "cell_type": "markdown",
   "metadata": {},
   "source": [
    "## Questão 7\n",
    "\n",
    "Aplique `TfidfVectorizer` ao _data set_ `newsgroups` e descubra o TF-IDF da palavra _phone_. Responda como um único escalar arredondado para três casas decimais."
   ]
  },
  {
   "cell_type": "code",
   "execution_count": 1,
   "metadata": {},
   "outputs": [],
   "source": [
    "# TF = (número de vezes que o termo aparece em um documento) / (número de termos no documento)\n",
    "# IDF = log (N / n), em que N é o número de documentos e n é o número de documentos em que um termo apareceu"
   ]
  },
  {
   "cell_type": "code",
   "execution_count": 41,
   "metadata": {},
   "outputs": [
    {
     "data": {
      "text/plain": [
       "array([[0., 0., 0., ..., 0., 0., 0.],\n",
       "       [0., 0., 0., ..., 0., 0., 0.],\n",
       "       [0., 0., 0., ..., 0., 0., 0.],\n",
       "       ...,\n",
       "       [0., 0., 0., ..., 0., 0., 0.],\n",
       "       [0., 0., 0., ..., 0., 0., 0.],\n",
       "       [0., 0., 0., ..., 0., 0., 0.]])"
      ]
     },
     "execution_count": 41,
     "metadata": {},
     "output_type": "execute_result"
    }
   ],
   "source": [
    "#tf(𝑡,𝑑), ou term frequency, é uma medida de quantas vezes o termo 𝑡 aparece no documento 𝑑.\n",
    "#idf(𝑡), ou inverse document frequency, é uma medida de relevância do termo em todos documentos do corpus. \n",
    "#O tf-idf é sempre um valor não negativo e quanto mais alto, maior a relevância do termo.\n",
    "\n",
    "tfidf = TfidfVectorizer()\n",
    "#Ajustando e transformando os dados:\n",
    "tfidf_vect = tfidf.fit_transform(newsgroup.data)\n",
    "tfidf_vect.toarray()"
   ]
  },
  {
   "cell_type": "code",
   "execution_count": 42,
   "metadata": {},
   "outputs": [
    {
     "data": {
      "text/html": [
       "<div>\n",
       "<style scoped>\n",
       "    .dataframe tbody tr th:only-of-type {\n",
       "        vertical-align: middle;\n",
       "    }\n",
       "\n",
       "    .dataframe tbody tr th {\n",
       "        vertical-align: top;\n",
       "    }\n",
       "\n",
       "    .dataframe thead th {\n",
       "        text-align: right;\n",
       "    }\n",
       "</style>\n",
       "<table border=\"1\" class=\"dataframe\">\n",
       "  <thead>\n",
       "    <tr style=\"text-align: right;\">\n",
       "      <th></th>\n",
       "      <th>00</th>\n",
       "      <th>000</th>\n",
       "      <th>0000</th>\n",
       "      <th>0000000004</th>\n",
       "      <th>0000000005</th>\n",
       "      <th>0000000667</th>\n",
       "      <th>0000001200</th>\n",
       "      <th>000005102000</th>\n",
       "      <th>0001</th>\n",
       "      <th>000100255pixel</th>\n",
       "      <th>...</th>\n",
       "      <th>zyeh</th>\n",
       "      <th>zygot</th>\n",
       "      <th>zyxel</th>\n",
       "      <th>zz</th>\n",
       "      <th>zzr11</th>\n",
       "      <th>zzr1100</th>\n",
       "      <th>zzzzzz</th>\n",
       "      <th>ªl</th>\n",
       "      <th>³ation</th>\n",
       "      <th>ýé</th>\n",
       "    </tr>\n",
       "  </thead>\n",
       "  <tbody>\n",
       "    <tr>\n",
       "      <th>0</th>\n",
       "      <td>0.000000</td>\n",
       "      <td>0.0</td>\n",
       "      <td>0.0</td>\n",
       "      <td>0.0</td>\n",
       "      <td>0.0</td>\n",
       "      <td>0.0</td>\n",
       "      <td>0.0</td>\n",
       "      <td>0.0</td>\n",
       "      <td>0.0</td>\n",
       "      <td>0.0</td>\n",
       "      <td>...</td>\n",
       "      <td>0.0</td>\n",
       "      <td>0.0</td>\n",
       "      <td>0.0</td>\n",
       "      <td>0.0</td>\n",
       "      <td>0.0</td>\n",
       "      <td>0.0</td>\n",
       "      <td>0.0</td>\n",
       "      <td>0.0</td>\n",
       "      <td>0.0</td>\n",
       "      <td>0.0</td>\n",
       "    </tr>\n",
       "    <tr>\n",
       "      <th>1</th>\n",
       "      <td>0.000000</td>\n",
       "      <td>0.0</td>\n",
       "      <td>0.0</td>\n",
       "      <td>0.0</td>\n",
       "      <td>0.0</td>\n",
       "      <td>0.0</td>\n",
       "      <td>0.0</td>\n",
       "      <td>0.0</td>\n",
       "      <td>0.0</td>\n",
       "      <td>0.0</td>\n",
       "      <td>...</td>\n",
       "      <td>0.0</td>\n",
       "      <td>0.0</td>\n",
       "      <td>0.0</td>\n",
       "      <td>0.0</td>\n",
       "      <td>0.0</td>\n",
       "      <td>0.0</td>\n",
       "      <td>0.0</td>\n",
       "      <td>0.0</td>\n",
       "      <td>0.0</td>\n",
       "      <td>0.0</td>\n",
       "    </tr>\n",
       "    <tr>\n",
       "      <th>2</th>\n",
       "      <td>0.000000</td>\n",
       "      <td>0.0</td>\n",
       "      <td>0.0</td>\n",
       "      <td>0.0</td>\n",
       "      <td>0.0</td>\n",
       "      <td>0.0</td>\n",
       "      <td>0.0</td>\n",
       "      <td>0.0</td>\n",
       "      <td>0.0</td>\n",
       "      <td>0.0</td>\n",
       "      <td>...</td>\n",
       "      <td>0.0</td>\n",
       "      <td>0.0</td>\n",
       "      <td>0.0</td>\n",
       "      <td>0.0</td>\n",
       "      <td>0.0</td>\n",
       "      <td>0.0</td>\n",
       "      <td>0.0</td>\n",
       "      <td>0.0</td>\n",
       "      <td>0.0</td>\n",
       "      <td>0.0</td>\n",
       "    </tr>\n",
       "    <tr>\n",
       "      <th>3</th>\n",
       "      <td>0.000000</td>\n",
       "      <td>0.0</td>\n",
       "      <td>0.0</td>\n",
       "      <td>0.0</td>\n",
       "      <td>0.0</td>\n",
       "      <td>0.0</td>\n",
       "      <td>0.0</td>\n",
       "      <td>0.0</td>\n",
       "      <td>0.0</td>\n",
       "      <td>0.0</td>\n",
       "      <td>...</td>\n",
       "      <td>0.0</td>\n",
       "      <td>0.0</td>\n",
       "      <td>0.0</td>\n",
       "      <td>0.0</td>\n",
       "      <td>0.0</td>\n",
       "      <td>0.0</td>\n",
       "      <td>0.0</td>\n",
       "      <td>0.0</td>\n",
       "      <td>0.0</td>\n",
       "      <td>0.0</td>\n",
       "    </tr>\n",
       "    <tr>\n",
       "      <th>4</th>\n",
       "      <td>0.038791</td>\n",
       "      <td>0.0</td>\n",
       "      <td>0.0</td>\n",
       "      <td>0.0</td>\n",
       "      <td>0.0</td>\n",
       "      <td>0.0</td>\n",
       "      <td>0.0</td>\n",
       "      <td>0.0</td>\n",
       "      <td>0.0</td>\n",
       "      <td>0.0</td>\n",
       "      <td>...</td>\n",
       "      <td>0.0</td>\n",
       "      <td>0.0</td>\n",
       "      <td>0.0</td>\n",
       "      <td>0.0</td>\n",
       "      <td>0.0</td>\n",
       "      <td>0.0</td>\n",
       "      <td>0.0</td>\n",
       "      <td>0.0</td>\n",
       "      <td>0.0</td>\n",
       "      <td>0.0</td>\n",
       "    </tr>\n",
       "  </tbody>\n",
       "</table>\n",
       "<p>5 rows × 27335 columns</p>\n",
       "</div>"
      ],
      "text/plain": [
       "         00  000  0000  0000000004  0000000005  0000000667  0000001200  \\\n",
       "0  0.000000  0.0   0.0         0.0         0.0         0.0         0.0   \n",
       "1  0.000000  0.0   0.0         0.0         0.0         0.0         0.0   \n",
       "2  0.000000  0.0   0.0         0.0         0.0         0.0         0.0   \n",
       "3  0.000000  0.0   0.0         0.0         0.0         0.0         0.0   \n",
       "4  0.038791  0.0   0.0         0.0         0.0         0.0         0.0   \n",
       "\n",
       "   000005102000  0001  000100255pixel  ...  zyeh  zygot  zyxel   zz  zzr11  \\\n",
       "0           0.0   0.0             0.0  ...   0.0    0.0    0.0  0.0    0.0   \n",
       "1           0.0   0.0             0.0  ...   0.0    0.0    0.0  0.0    0.0   \n",
       "2           0.0   0.0             0.0  ...   0.0    0.0    0.0  0.0    0.0   \n",
       "3           0.0   0.0             0.0  ...   0.0    0.0    0.0  0.0    0.0   \n",
       "4           0.0   0.0             0.0  ...   0.0    0.0    0.0  0.0    0.0   \n",
       "\n",
       "   zzr1100  zzzzzz   ªl  ³ation   ýé  \n",
       "0      0.0     0.0  0.0     0.0  0.0  \n",
       "1      0.0     0.0  0.0     0.0  0.0  \n",
       "2      0.0     0.0  0.0     0.0  0.0  \n",
       "3      0.0     0.0  0.0     0.0  0.0  \n",
       "4      0.0     0.0  0.0     0.0  0.0  \n",
       "\n",
       "[5 rows x 27335 columns]"
      ]
     },
     "execution_count": 42,
     "metadata": {},
     "output_type": "execute_result"
    }
   ],
   "source": [
    "pd.DataFrame(tfidf_vect.toarray(), columns=tfidf.get_feature_names()).head()"
   ]
  },
  {
   "cell_type": "code",
   "execution_count": 43,
   "metadata": {},
   "outputs": [
    {
     "data": {
      "text/plain": [
       "8.888"
      ]
     },
     "execution_count": 43,
     "metadata": {},
     "output_type": "execute_result"
    }
   ],
   "source": [
    "def q7():\n",
    "    tfidf = TfidfVectorizer()\n",
    "    tfidf_vect = tfidf.fit_transform(newsgroup.data)\n",
    "    \n",
    "    newsgroups_tfidf = pd.DataFrame(tfidf_vect.toarray(), columns=tfidf.get_feature_names())\n",
    "    return float(newsgroups_tfidf['phone'].sum().round(3))\n",
    "\n",
    "q7()"
   ]
  }
 ],
 "metadata": {
  "kernelspec": {
   "display_name": "Python 3",
   "language": "python",
   "name": "python3"
  },
  "language_info": {
   "codemirror_mode": {
    "name": "ipython",
    "version": 3
   },
   "file_extension": ".py",
   "mimetype": "text/x-python",
   "name": "python",
   "nbconvert_exporter": "python",
   "pygments_lexer": "ipython3",
   "version": "3.6.9"
  }
 },
 "nbformat": 4,
 "nbformat_minor": 2
}
