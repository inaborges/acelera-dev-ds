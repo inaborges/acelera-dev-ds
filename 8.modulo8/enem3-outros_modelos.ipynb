{
 "cells": [
  {
   "cell_type": "code",
   "execution_count": 1,
   "metadata": {},
   "outputs": [],
   "source": [
    "import pandas as pd\n",
    "import numpy as np\n",
    "\n",
    "import seaborn as sns\n",
    "import matplotlib.pyplot as plt\n",
    "\n",
    "from sklearn.model_selection import train_test_split\n",
    "from sklearn.ensemble import RandomForestRegressor\n",
    "from sklearn import metrics\n",
    "\n",
    "from sklearn.feature_selection import SelectKBest, SelectPercentile, f_regression, f_classif\n",
    "\n",
    "plt.style.use('seaborn-colorblind')"
   ]
  },
  {
   "cell_type": "code",
   "execution_count": 2,
   "metadata": {},
   "outputs": [],
   "source": [
    "import warnings\n",
    "warnings.filterwarnings(\"ignore\")"
   ]
  },
  {
   "cell_type": "code",
   "execution_count": 3,
   "metadata": {},
   "outputs": [],
   "source": [
    "enem_train = pd.read_csv(\"train.csv\")\n",
    "enem_train.drop('Unnamed: 0', axis=1, inplace=True)"
   ]
  },
  {
   "cell_type": "code",
   "execution_count": 4,
   "metadata": {},
   "outputs": [
    {
     "data": {
      "text/plain": [
       "Index(['NU_INSCRICAO', 'CO_UF_RESIDENCIA', 'SG_UF_RESIDENCIA', 'NU_IDADE',\n",
       "       'TP_SEXO', 'TP_COR_RACA', 'TP_NACIONALIDADE', 'TP_ST_CONCLUSAO',\n",
       "       'TP_ANO_CONCLUIU', 'TP_ESCOLA', 'TP_ENSINO', 'IN_TREINEIRO',\n",
       "       'TP_DEPENDENCIA_ADM_ESC', 'IN_BAIXA_VISAO', 'IN_CEGUEIRA', 'IN_SURDEZ',\n",
       "       'IN_DISLEXIA', 'IN_DISCALCULIA', 'IN_SABATISTA', 'IN_GESTANTE',\n",
       "       'IN_IDOSO', 'TP_PRESENCA_CN', 'TP_PRESENCA_CH', 'TP_PRESENCA_LC',\n",
       "       'CO_PROVA_CN', 'CO_PROVA_CH', 'CO_PROVA_LC', 'CO_PROVA_MT',\n",
       "       'NU_NOTA_CN', 'NU_NOTA_CH', 'NU_NOTA_LC', 'TP_LINGUA',\n",
       "       'TP_STATUS_REDACAO', 'NU_NOTA_COMP1', 'NU_NOTA_COMP2', 'NU_NOTA_COMP3',\n",
       "       'NU_NOTA_COMP4', 'NU_NOTA_COMP5', 'NU_NOTA_REDACAO', 'Q001', 'Q002',\n",
       "       'Q006', 'Q024', 'Q025', 'Q026', 'Q027', 'Q047'],\n",
       "      dtype='object')"
      ]
     },
     "execution_count": 4,
     "metadata": {},
     "output_type": "execute_result"
    }
   ],
   "source": [
    "enem_test = pd.read_csv(\"test.csv\")\n",
    "enem_test.columns"
   ]
  },
  {
   "cell_type": "code",
   "execution_count": 5,
   "metadata": {},
   "outputs": [],
   "source": [
    "#Ok, nem tentar brincar com coluna que não está no treino\n",
    "#E ja vou tirar os códigos das provas\n",
    "enem_train = enem_train[['NU_INSCRICAO', 'NU_NOTA_MT','CO_UF_RESIDENCIA', 'SG_UF_RESIDENCIA', 'NU_IDADE',\n",
    "       'TP_SEXO', 'TP_COR_RACA', 'TP_NACIONALIDADE', 'TP_ST_CONCLUSAO',\n",
    "       'TP_ANO_CONCLUIU', 'TP_ESCOLA', 'TP_ENSINO', 'IN_TREINEIRO',\n",
    "       'TP_DEPENDENCIA_ADM_ESC', 'IN_BAIXA_VISAO', 'IN_CEGUEIRA', 'IN_SURDEZ',\n",
    "       'IN_DISLEXIA', 'IN_DISCALCULIA', 'IN_SABATISTA', 'IN_GESTANTE',\n",
    "       'IN_IDOSO', 'TP_PRESENCA_CN', 'TP_PRESENCA_CH', 'TP_PRESENCA_LC',\n",
    "       'NU_NOTA_CN', 'NU_NOTA_CH', 'NU_NOTA_LC', 'TP_LINGUA',\n",
    "       'TP_STATUS_REDACAO', 'NU_NOTA_COMP1', 'NU_NOTA_COMP2', 'NU_NOTA_COMP3',\n",
    "       'NU_NOTA_COMP4', 'NU_NOTA_COMP5', 'NU_NOTA_REDACAO', 'Q001', 'Q002',\n",
    "       'Q006', 'Q024', 'Q025', 'Q026', 'Q027', 'Q047']]"
   ]
  },
  {
   "cell_type": "markdown",
   "metadata": {},
   "source": [
    "## Conhecendo `NU_NOTA_MT`"
   ]
  },
  {
   "cell_type": "code",
   "execution_count": 6,
   "metadata": {},
   "outputs": [
    {
     "data": {
      "text/plain": [
       "44"
      ]
     },
     "execution_count": 6,
     "metadata": {},
     "output_type": "execute_result"
    }
   ],
   "source": [
    "enem_train.query('NU_NOTA_MT == 0').shape[1]"
   ]
  },
  {
   "cell_type": "code",
   "execution_count": 7,
   "metadata": {},
   "outputs": [
    {
     "data": {
      "text/plain": [
       "count    10123.000000\n",
       "mean       482.974563\n",
       "std         98.716334\n",
       "min        320.500000\n",
       "25%        409.000000\n",
       "50%        461.200000\n",
       "75%        537.700000\n",
       "max        952.000000\n",
       "Name: NU_NOTA_MT, dtype: float64"
      ]
     },
     "execution_count": 7,
     "metadata": {},
     "output_type": "execute_result"
    }
   ],
   "source": [
    "teste = enem_train.query('NU_NOTA_MT != 0')\n",
    "teste['NU_NOTA_MT'].describe()"
   ]
  },
  {
   "cell_type": "code",
   "execution_count": 8,
   "metadata": {
    "scrolled": true
   },
   "outputs": [
    {
     "data": {
      "image/png": "[encoded data removed]",
      "text/plain": [
       "<Figure size 432x288 with 1 Axes>"
      ]
     },
     "metadata": {
      "needs_background": "light"
     },
     "output_type": "display_data"
    }
   ],
   "source": [
    "sns.distplot(enem_train['NU_NOTA_MT']);"
   ]
  },
  {
   "cell_type": "code",
   "execution_count": 9,
   "metadata": {
    "scrolled": true
   },
   "outputs": [
    {
     "name": "stdout",
     "output_type": "stream",
     "text": [
      "Skewness: 0.920690\n",
      "Kurtosis: 1.422503\n"
     ]
    }
   ],
   "source": [
    "print(\"Skewness: %f\" % enem_train['NU_NOTA_MT'].skew())\n",
    "print(\"Kurtosis: %f\" % enem_train['NU_NOTA_MT'].kurt())"
   ]
  },
  {
   "cell_type": "markdown",
   "metadata": {},
   "source": [
    "## Feature selection (Mario Filho)\n",
    "[Tutorial Mario Filho](https://www.youtube.com/watch?v=Bcn5e7LYMhg)\n",
    "\n",
    "minhas duas variáveis: enem_train e enem_test"
   ]
  },
  {
   "cell_type": "code",
   "execution_count": 10,
   "metadata": {},
   "outputs": [
    {
     "name": "stdout",
     "output_type": "stream",
     "text": [
      "33\n"
     ]
    }
   ],
   "source": [
    "# para essa selection tem que usar só as variáveis numéricas\n",
    "# feature selection funciona para poucos dados(poucas linhas) e muitas colunas\n",
    "\n",
    "df = enem_train.select_dtypes('number')\n",
    "#LEMBRANDO Q NÃO E LEGAL FAZER CORRELAÇÃO ENTRE CATEGÓRICA E NUMÉRICA\n",
    "df.fillna(-1, inplace=True)\n",
    "print(df.columns.nunique())"
   ]
  },
  {
   "cell_type": "code",
   "execution_count": 11,
   "metadata": {},
   "outputs": [
    {
     "data": {
      "text/html": [
       "<div>\n",
       "<style scoped>\n",
       "    .dataframe tbody tr th:only-of-type {\n",
       "        vertical-align: middle;\n",
       "    }\n",
       "\n",
       "    .dataframe tbody tr th {\n",
       "        vertical-align: top;\n",
       "    }\n",
       "\n",
       "    .dataframe thead th {\n",
       "        text-align: right;\n",
       "    }\n",
       "</style>\n",
       "<table border=\"1\" class=\"dataframe\">\n",
       "  <thead>\n",
       "    <tr style=\"text-align: right;\">\n",
       "      <th></th>\n",
       "      <th>NU_NOTA_MT</th>\n",
       "      <th>CO_UF_RESIDENCIA</th>\n",
       "      <th>NU_IDADE</th>\n",
       "      <th>TP_COR_RACA</th>\n",
       "      <th>TP_NACIONALIDADE</th>\n",
       "      <th>TP_ST_CONCLUSAO</th>\n",
       "      <th>TP_ANO_CONCLUIU</th>\n",
       "      <th>TP_ESCOLA</th>\n",
       "      <th>TP_ENSINO</th>\n",
       "      <th>IN_TREINEIRO</th>\n",
       "      <th>...</th>\n",
       "      <th>NU_NOTA_CH</th>\n",
       "      <th>NU_NOTA_LC</th>\n",
       "      <th>TP_LINGUA</th>\n",
       "      <th>TP_STATUS_REDACAO</th>\n",
       "      <th>NU_NOTA_COMP1</th>\n",
       "      <th>NU_NOTA_COMP2</th>\n",
       "      <th>NU_NOTA_COMP3</th>\n",
       "      <th>NU_NOTA_COMP4</th>\n",
       "      <th>NU_NOTA_COMP5</th>\n",
       "      <th>NU_NOTA_REDACAO</th>\n",
       "    </tr>\n",
       "  </thead>\n",
       "  <tbody>\n",
       "    <tr>\n",
       "      <th>0</th>\n",
       "      <td>399.4</td>\n",
       "      <td>43</td>\n",
       "      <td>24</td>\n",
       "      <td>1</td>\n",
       "      <td>1</td>\n",
       "      <td>1</td>\n",
       "      <td>4</td>\n",
       "      <td>1</td>\n",
       "      <td>-1.0</td>\n",
       "      <td>0</td>\n",
       "      <td>...</td>\n",
       "      <td>495.4</td>\n",
       "      <td>581.2</td>\n",
       "      <td>1</td>\n",
       "      <td>1.0</td>\n",
       "      <td>120.0</td>\n",
       "      <td>120.0</td>\n",
       "      <td>120.0</td>\n",
       "      <td>80.0</td>\n",
       "      <td>80.0</td>\n",
       "      <td>520.0</td>\n",
       "    </tr>\n",
       "    <tr>\n",
       "      <th>1</th>\n",
       "      <td>459.8</td>\n",
       "      <td>23</td>\n",
       "      <td>17</td>\n",
       "      <td>3</td>\n",
       "      <td>1</td>\n",
       "      <td>2</td>\n",
       "      <td>0</td>\n",
       "      <td>2</td>\n",
       "      <td>1.0</td>\n",
       "      <td>0</td>\n",
       "      <td>...</td>\n",
       "      <td>544.1</td>\n",
       "      <td>599.0</td>\n",
       "      <td>1</td>\n",
       "      <td>1.0</td>\n",
       "      <td>140.0</td>\n",
       "      <td>120.0</td>\n",
       "      <td>120.0</td>\n",
       "      <td>120.0</td>\n",
       "      <td>80.0</td>\n",
       "      <td>580.0</td>\n",
       "    </tr>\n",
       "  </tbody>\n",
       "</table>\n",
       "<p>2 rows × 33 columns</p>\n",
       "</div>"
      ],
      "text/plain": [
       "   NU_NOTA_MT  CO_UF_RESIDENCIA  NU_IDADE  TP_COR_RACA  TP_NACIONALIDADE  \\\n",
       "0       399.4                43        24            1                 1   \n",
       "1       459.8                23        17            3                 1   \n",
       "\n",
       "   TP_ST_CONCLUSAO  TP_ANO_CONCLUIU  TP_ESCOLA  TP_ENSINO  IN_TREINEIRO  ...  \\\n",
       "0                1                4          1       -1.0             0  ...   \n",
       "1                2                0          2        1.0             0  ...   \n",
       "\n",
       "   NU_NOTA_CH  NU_NOTA_LC  TP_LINGUA  TP_STATUS_REDACAO  NU_NOTA_COMP1  \\\n",
       "0       495.4       581.2          1                1.0          120.0   \n",
       "1       544.1       599.0          1                1.0          140.0   \n",
       "\n",
       "   NU_NOTA_COMP2  NU_NOTA_COMP3  NU_NOTA_COMP4  NU_NOTA_COMP5  NU_NOTA_REDACAO  \n",
       "0          120.0          120.0           80.0           80.0            520.0  \n",
       "1          120.0          120.0          120.0           80.0            580.0  \n",
       "\n",
       "[2 rows x 33 columns]"
      ]
     },
     "execution_count": 11,
     "metadata": {},
     "output_type": "execute_result"
    }
   ],
   "source": [
    "df.head(2)"
   ]
  },
  {
   "cell_type": "code",
   "execution_count": 12,
   "metadata": {},
   "outputs": [],
   "source": [
    "X = df.drop('NU_NOTA_MT', axis=1)\n",
    "y = df['NU_NOTA_MT']"
   ]
  },
  {
   "cell_type": "code",
   "execution_count": 13,
   "metadata": {
    "scrolled": true
   },
   "outputs": [
    {
     "data": {
      "text/plain": [
       "((6865, 32), (6865, 32), (6865,), (6865,))"
      ]
     },
     "execution_count": 13,
     "metadata": {},
     "output_type": "execute_result"
    }
   ],
   "source": [
    "X_train, X_val, y_train, y_val = train_test_split(X, y, train_size=0.5)\n",
    "X_train.shape, X_val.shape, y_train.shape, y_val.shape "
   ]
  },
  {
   "cell_type": "code",
   "execution_count": 14,
   "metadata": {},
   "outputs": [],
   "source": [
    "from sklearn.feature_selection import SelectKBest, SelectPercentile, f_regression"
   ]
  },
  {
   "cell_type": "code",
   "execution_count": 15,
   "metadata": {},
   "outputs": [
    {
     "name": "stdout",
     "output_type": "stream",
     "text": [
      "k = 5, MAE = 239.77392294246175\n"
     ]
    }
   ],
   "source": [
    "# tenho um dataset de regressão: prever uma variável contínua!!\n",
    "\n",
    "#selectkbest usa f_regression para problemas de regressao ou outra função\n",
    "#f regression pega a correlacao entre cada feature e o alvo, e, com isso, converter em um F-score e da um valor p\n",
    "#se fosse classificacao é só usar o f_classif, (alvo eh variavel categorica)\n",
    "k=5\n",
    "selector = SelectKBest(score_func=f_regression, k=k)\n",
    "\n",
    "#o fit calcula todas as correlacoes e armazena no objeto selector\n",
    "#transform seleciona as k melhores colunas\n",
    "X_train2 = selector.fit_transform(X_train, y_train)\n",
    "X_val2 = selector.transform(X_train)\n",
    "\n",
    "mdl = RandomForestRegressor(n_estimators=100, n_jobs=-1, random_state=0)\n",
    "mdl.fit(X_train2, y_train)\n",
    "\n",
    "y_pred = mdl.predict(X_val2)\n",
    "\n",
    "score = metrics.mean_absolute_error(y_val, y_pred)\n",
    "print('k = {}, MAE = {}'.format(k,score))"
   ]
  },
  {
   "cell_type": "code",
   "execution_count": 16,
   "metadata": {},
   "outputs": [],
   "source": [
    "k_vs_score = [] \n",
    "for k in range(2,33,1):\n",
    "    selector = SelectKBest(score_func=f_regression, k=k)\n",
    "\n",
    "    X_train2 = selector.fit_transform(X_train, y_train)\n",
    "    X_val2 = selector.transform(X_train)\n",
    "\n",
    "    mdl = RandomForestRegressor(n_estimators=100, n_jobs=-1, random_state=0)\n",
    "    mdl.fit(X_train2, y_train)\n",
    "\n",
    "    y_pred = mdl.predict(X_val2)\n",
    "\n",
    "    score = metrics.mean_absolute_error(y_val, y_pred)\n",
    "    \n",
    "    k_vs_score.append(score) "
   ]
  },
  {
   "cell_type": "code",
   "execution_count": 17,
   "metadata": {},
   "outputs": [
    {
     "data": {
      "text/plain": [
       "<matplotlib.axes._subplots.AxesSubplot at 0x7fcaf0d5e6d8>"
      ]
     },
     "execution_count": 17,
     "metadata": {},
     "output_type": "execute_result"
    },
    {
     "data": {
      "image/png": "[encoded data removed]",
      "text/plain": [
       "<Figure size 1080x360 with 1 Axes>"
      ]
     },
     "metadata": {
      "needs_background": "light"
     },
     "output_type": "display_data"
    }
   ],
   "source": [
    "pd.Series(k_vs_score, index=range(2,33,1)).plot(figsize=(15,5))\n",
    "#eixo x=qde de variáveis, eixo y =erro\n",
    "#socorro que merda de gráfico! hahahaha"
   ]
  },
  {
   "cell_type": "code",
   "execution_count": 18,
   "metadata": {},
   "outputs": [
    {
     "data": {
      "text/plain": [
       "SelectKBest(k=5, score_func=<function f_regression at 0x7fcaf143e598>)"
      ]
     },
     "execution_count": 18,
     "metadata": {},
     "output_type": "execute_result"
    }
   ],
   "source": [
    "selector = SelectKBest(score_func = f_regression, k=5)\n",
    "selector.fit(X_train,y_train)"
   ]
  },
  {
   "cell_type": "code",
   "execution_count": 19,
   "metadata": {},
   "outputs": [
    {
     "data": {
      "text/plain": [
       "array([False, False, False, False, False, False, False, False, False,\n",
       "       False, False, False, False, False, False, False, False, False,\n",
       "       False, False,  True,  True,  True,  True, False, False,  True,\n",
       "       False, False, False, False, False])"
      ]
     },
     "execution_count": 19,
     "metadata": {},
     "output_type": "execute_result"
    }
   ],
   "source": [
    "selector.get_support()\n",
    "#true são as colunas selecionadas"
   ]
  },
  {
   "cell_type": "code",
   "execution_count": 20,
   "metadata": {},
   "outputs": [
    {
     "data": {
      "text/html": [
       "<div>\n",
       "<style scoped>\n",
       "    .dataframe tbody tr th:only-of-type {\n",
       "        vertical-align: middle;\n",
       "    }\n",
       "\n",
       "    .dataframe tbody tr th {\n",
       "        vertical-align: top;\n",
       "    }\n",
       "\n",
       "    .dataframe thead th {\n",
       "        text-align: right;\n",
       "    }\n",
       "</style>\n",
       "<table border=\"1\" class=\"dataframe\">\n",
       "  <thead>\n",
       "    <tr style=\"text-align: right;\">\n",
       "      <th></th>\n",
       "      <th>TP_PRESENCA_LC</th>\n",
       "      <th>NU_NOTA_CN</th>\n",
       "      <th>NU_NOTA_CH</th>\n",
       "      <th>NU_NOTA_LC</th>\n",
       "      <th>NU_NOTA_COMP1</th>\n",
       "    </tr>\n",
       "  </thead>\n",
       "  <tbody>\n",
       "    <tr>\n",
       "      <th>8277</th>\n",
       "      <td>1</td>\n",
       "      <td>415.4</td>\n",
       "      <td>382.2</td>\n",
       "      <td>460.7</td>\n",
       "      <td>120.0</td>\n",
       "    </tr>\n",
       "    <tr>\n",
       "      <th>5257</th>\n",
       "      <td>1</td>\n",
       "      <td>509.4</td>\n",
       "      <td>604.6</td>\n",
       "      <td>618.0</td>\n",
       "      <td>140.0</td>\n",
       "    </tr>\n",
       "  </tbody>\n",
       "</table>\n",
       "</div>"
      ],
      "text/plain": [
       "      TP_PRESENCA_LC  NU_NOTA_CN  NU_NOTA_CH  NU_NOTA_LC  NU_NOTA_COMP1\n",
       "8277               1       415.4       382.2       460.7          120.0\n",
       "5257               1       509.4       604.6       618.0          140.0"
      ]
     },
     "execution_count": 20,
     "metadata": {},
     "output_type": "execute_result"
    }
   ],
   "source": [
    "X_val.iloc[:,selector.get_support()].head(2)"
   ]
  },
  {
   "cell_type": "code",
   "execution_count": 21,
   "metadata": {},
   "outputs": [
    {
     "data": {
      "text/plain": [
       "Index(['TP_PRESENCA_LC', 'NU_NOTA_CN', 'NU_NOTA_CH', 'NU_NOTA_LC',\n",
       "       'NU_NOTA_COMP1'],\n",
       "      dtype='object')"
      ]
     },
     "execution_count": 21,
     "metadata": {},
     "output_type": "execute_result"
    }
   ],
   "source": [
    "X_val.columns[selector.get_support()]"
   ]
  },
  {
   "cell_type": "code",
   "execution_count": 22,
   "metadata": {},
   "outputs": [
    {
     "data": {
      "text/plain": [
       "<matplotlib.axes._subplots.AxesSubplot at 0x7fcaf127f0b8>"
      ]
     },
     "execution_count": 22,
     "metadata": {},
     "output_type": "execute_result"
    },
    {
     "data": {
      "image/png": "[encoded data removed]",
      "text/plain": [
       "<Figure size 720x432 with 1 Axes>"
      ]
     },
     "metadata": {
      "needs_background": "light"
     },
     "output_type": "display_data"
    }
   ],
   "source": [
    "# selector.scores_= valores de F\n",
    "pd.Series(selector.scores_, index=X_train.columns).dropna().sort_values(ascending=True).plot.barh(figsize=(10,6))\n",
    "#QUANTO  MAIOR MELHOR, MAIOR CORRELACAO\n",
    "#mas olha só, esse metodo não leva em consideração a correlação entre as variáveis preditoras (rendundancia!!!)"
   ]
  },
  {
   "cell_type": "markdown",
   "metadata": {},
   "source": [
    "## Trabalhar com os floats\n",
    "* NU_NOTA_COMP1\n",
    "* NU_NOTA_COMP2\n",
    "* NU_NOTA_COMP3\n",
    "* NU_NOTA_COMP4\n",
    "* NU_NOTA_COMP5\n",
    "* NU_NOTA_REDACAO\n",
    "* NU_NOTA_CN\n",
    "* NU_NOTA_CH\n",
    "* NU_NOTA_LC\n",
    "* NU_NOTA_MT\n",
    "* NU_IDADE"
   ]
  },
  {
   "cell_type": "code",
   "execution_count": 23,
   "metadata": {},
   "outputs": [
    {
     "data": {
      "text/html": [
       "<div>\n",
       "<style scoped>\n",
       "    .dataframe tbody tr th:only-of-type {\n",
       "        vertical-align: middle;\n",
       "    }\n",
       "\n",
       "    .dataframe tbody tr th {\n",
       "        vertical-align: top;\n",
       "    }\n",
       "\n",
       "    .dataframe thead th {\n",
       "        text-align: right;\n",
       "    }\n",
       "</style>\n",
       "<table border=\"1\" class=\"dataframe\">\n",
       "  <thead>\n",
       "    <tr style=\"text-align: right;\">\n",
       "      <th></th>\n",
       "      <th>tipos</th>\n",
       "      <th>missing</th>\n",
       "    </tr>\n",
       "  </thead>\n",
       "  <tbody>\n",
       "    <tr>\n",
       "      <th>NU_NOTA_COMP1</th>\n",
       "      <td>float64</td>\n",
       "      <td>26.198106</td>\n",
       "    </tr>\n",
       "    <tr>\n",
       "      <th>NU_NOTA_COMP2</th>\n",
       "      <td>float64</td>\n",
       "      <td>26.198106</td>\n",
       "    </tr>\n",
       "    <tr>\n",
       "      <th>NU_NOTA_COMP3</th>\n",
       "      <td>float64</td>\n",
       "      <td>26.198106</td>\n",
       "    </tr>\n",
       "    <tr>\n",
       "      <th>NU_NOTA_COMP4</th>\n",
       "      <td>float64</td>\n",
       "      <td>26.198106</td>\n",
       "    </tr>\n",
       "    <tr>\n",
       "      <th>NU_NOTA_COMP5</th>\n",
       "      <td>float64</td>\n",
       "      <td>26.198106</td>\n",
       "    </tr>\n",
       "    <tr>\n",
       "      <th>NU_NOTA_REDACAO</th>\n",
       "      <td>float64</td>\n",
       "      <td>26.198106</td>\n",
       "    </tr>\n",
       "    <tr>\n",
       "      <th>NU_NOTA_MT</th>\n",
       "      <td>float64</td>\n",
       "      <td>26.198106</td>\n",
       "    </tr>\n",
       "    <tr>\n",
       "      <th>NU_NOTA_CN</th>\n",
       "      <td>float64</td>\n",
       "      <td>24.683176</td>\n",
       "    </tr>\n",
       "    <tr>\n",
       "      <th>NU_NOTA_CH</th>\n",
       "      <td>float64</td>\n",
       "      <td>24.683176</td>\n",
       "    </tr>\n",
       "    <tr>\n",
       "      <th>NU_NOTA_LC</th>\n",
       "      <td>float64</td>\n",
       "      <td>26.198106</td>\n",
       "    </tr>\n",
       "    <tr>\n",
       "      <th>NU_IDADE</th>\n",
       "      <td>int64</td>\n",
       "      <td>0.000000</td>\n",
       "    </tr>\n",
       "  </tbody>\n",
       "</table>\n",
       "</div>"
      ],
      "text/plain": [
       "                   tipos    missing\n",
       "NU_NOTA_COMP1    float64  26.198106\n",
       "NU_NOTA_COMP2    float64  26.198106\n",
       "NU_NOTA_COMP3    float64  26.198106\n",
       "NU_NOTA_COMP4    float64  26.198106\n",
       "NU_NOTA_COMP5    float64  26.198106\n",
       "NU_NOTA_REDACAO  float64  26.198106\n",
       "NU_NOTA_MT       float64  26.198106\n",
       "NU_NOTA_CN       float64  24.683176\n",
       "NU_NOTA_CH       float64  24.683176\n",
       "NU_NOTA_LC       float64  26.198106\n",
       "NU_IDADE           int64   0.000000"
      ]
     },
     "execution_count": 23,
     "metadata": {},
     "output_type": "execute_result"
    }
   ],
   "source": [
    "floats = enem_train[['NU_NOTA_COMP1','NU_NOTA_COMP2','NU_NOTA_COMP3','NU_NOTA_COMP4','NU_NOTA_COMP5',\n",
    "                     'NU_NOTA_REDACAO','NU_NOTA_MT','NU_NOTA_CN','NU_NOTA_CH','NU_NOTA_LC','NU_IDADE']]\n",
    "\n",
    "pd.DataFrame({'tipos':floats.dtypes, \n",
    "              'missing':floats.isna().sum()/floats.shape[0]*100})"
   ]
  },
  {
   "cell_type": "code",
   "execution_count": 24,
   "metadata": {},
   "outputs": [
    {
     "data": {
      "text/html": [
       "<div>\n",
       "<style scoped>\n",
       "    .dataframe tbody tr th:only-of-type {\n",
       "        vertical-align: middle;\n",
       "    }\n",
       "\n",
       "    .dataframe tbody tr th {\n",
       "        vertical-align: top;\n",
       "    }\n",
       "\n",
       "    .dataframe thead th {\n",
       "        text-align: right;\n",
       "    }\n",
       "</style>\n",
       "<table border=\"1\" class=\"dataframe\">\n",
       "  <thead>\n",
       "    <tr style=\"text-align: right;\">\n",
       "      <th></th>\n",
       "      <th>TP_PRESENCA_CN</th>\n",
       "      <th>NU_NOTA_MT</th>\n",
       "      <th>NU_NOTA_CN</th>\n",
       "    </tr>\n",
       "  </thead>\n",
       "  <tbody>\n",
       "    <tr>\n",
       "      <th>2</th>\n",
       "      <td>0</td>\n",
       "      <td>NaN</td>\n",
       "      <td>NaN</td>\n",
       "    </tr>\n",
       "    <tr>\n",
       "      <th>3</th>\n",
       "      <td>0</td>\n",
       "      <td>NaN</td>\n",
       "      <td>NaN</td>\n",
       "    </tr>\n",
       "    <tr>\n",
       "      <th>4</th>\n",
       "      <td>0</td>\n",
       "      <td>NaN</td>\n",
       "      <td>NaN</td>\n",
       "    </tr>\n",
       "    <tr>\n",
       "      <th>9</th>\n",
       "      <td>0</td>\n",
       "      <td>NaN</td>\n",
       "      <td>NaN</td>\n",
       "    </tr>\n",
       "    <tr>\n",
       "      <th>13</th>\n",
       "      <td>0</td>\n",
       "      <td>NaN</td>\n",
       "      <td>NaN</td>\n",
       "    </tr>\n",
       "  </tbody>\n",
       "</table>\n",
       "</div>"
      ],
      "text/plain": [
       "    TP_PRESENCA_CN  NU_NOTA_MT  NU_NOTA_CN\n",
       "2                0         NaN         NaN\n",
       "3                0         NaN         NaN\n",
       "4                0         NaN         NaN\n",
       "9                0         NaN         NaN\n",
       "13               0         NaN         NaN"
      ]
     },
     "execution_count": 24,
     "metadata": {},
     "output_type": "execute_result"
    }
   ],
   "source": [
    "#para entender esses missing:\n",
    "aux = enem_train[['TP_PRESENCA_CN','NU_NOTA_MT','NU_NOTA_CN']]\n",
    "aux.query('TP_PRESENCA_CN == 0').head()"
   ]
  },
  {
   "cell_type": "code",
   "execution_count": 25,
   "metadata": {},
   "outputs": [
    {
     "data": {
      "text/html": [
       "<div>\n",
       "<style scoped>\n",
       "    .dataframe tbody tr th:only-of-type {\n",
       "        vertical-align: middle;\n",
       "    }\n",
       "\n",
       "    .dataframe tbody tr th {\n",
       "        vertical-align: top;\n",
       "    }\n",
       "\n",
       "    .dataframe thead th {\n",
       "        text-align: right;\n",
       "    }\n",
       "</style>\n",
       "<table border=\"1\" class=\"dataframe\">\n",
       "  <thead>\n",
       "    <tr style=\"text-align: right;\">\n",
       "      <th></th>\n",
       "      <th>TP_PRESENCA_CH</th>\n",
       "      <th>TP_PRESENCA_LC</th>\n",
       "      <th>NU_NOTA_CH</th>\n",
       "      <th>NU_NOTA_LC</th>\n",
       "      <th>NU_NOTA_REDACAO</th>\n",
       "    </tr>\n",
       "  </thead>\n",
       "  <tbody>\n",
       "    <tr>\n",
       "      <th>2</th>\n",
       "      <td>0</td>\n",
       "      <td>0</td>\n",
       "      <td>NaN</td>\n",
       "      <td>NaN</td>\n",
       "      <td>NaN</td>\n",
       "    </tr>\n",
       "    <tr>\n",
       "      <th>3</th>\n",
       "      <td>0</td>\n",
       "      <td>0</td>\n",
       "      <td>NaN</td>\n",
       "      <td>NaN</td>\n",
       "      <td>NaN</td>\n",
       "    </tr>\n",
       "    <tr>\n",
       "      <th>4</th>\n",
       "      <td>0</td>\n",
       "      <td>0</td>\n",
       "      <td>NaN</td>\n",
       "      <td>NaN</td>\n",
       "      <td>NaN</td>\n",
       "    </tr>\n",
       "    <tr>\n",
       "      <th>9</th>\n",
       "      <td>0</td>\n",
       "      <td>0</td>\n",
       "      <td>NaN</td>\n",
       "      <td>NaN</td>\n",
       "      <td>NaN</td>\n",
       "    </tr>\n",
       "    <tr>\n",
       "      <th>13</th>\n",
       "      <td>0</td>\n",
       "      <td>0</td>\n",
       "      <td>NaN</td>\n",
       "      <td>NaN</td>\n",
       "      <td>NaN</td>\n",
       "    </tr>\n",
       "  </tbody>\n",
       "</table>\n",
       "</div>"
      ],
      "text/plain": [
       "    TP_PRESENCA_CH  TP_PRESENCA_LC  NU_NOTA_CH  NU_NOTA_LC  NU_NOTA_REDACAO\n",
       "2                0               0         NaN         NaN              NaN\n",
       "3                0               0         NaN         NaN              NaN\n",
       "4                0               0         NaN         NaN              NaN\n",
       "9                0               0         NaN         NaN              NaN\n",
       "13               0               0         NaN         NaN              NaN"
      ]
     },
     "execution_count": 25,
     "metadata": {},
     "output_type": "execute_result"
    }
   ],
   "source": [
    "#para entender esses missing:\n",
    "aux = enem_train[['TP_PRESENCA_CH','TP_PRESENCA_LC','NU_NOTA_CH','NU_NOTA_LC','NU_NOTA_REDACAO']]\n",
    "aux.query('TP_PRESENCA_CH == 0').head()"
   ]
  },
  {
   "cell_type": "code",
   "execution_count": 26,
   "metadata": {},
   "outputs": [
    {
     "data": {
      "text/html": [
       "<div>\n",
       "<style scoped>\n",
       "    .dataframe tbody tr th:only-of-type {\n",
       "        vertical-align: middle;\n",
       "    }\n",
       "\n",
       "    .dataframe tbody tr th {\n",
       "        vertical-align: top;\n",
       "    }\n",
       "\n",
       "    .dataframe thead th {\n",
       "        text-align: right;\n",
       "    }\n",
       "</style>\n",
       "<table border=\"1\" class=\"dataframe\">\n",
       "  <thead>\n",
       "    <tr style=\"text-align: right;\">\n",
       "      <th></th>\n",
       "      <th>NU_NOTA_MT</th>\n",
       "      <th>NU_NOTA_CN</th>\n",
       "      <th>NU_NOTA_CH</th>\n",
       "      <th>NU_NOTA_LC</th>\n",
       "      <th>NU_NOTA_REDACAO</th>\n",
       "      <th>NU_NOTA_COMP1</th>\n",
       "      <th>NU_NOTA_COMP2</th>\n",
       "      <th>NU_NOTA_COMP3</th>\n",
       "      <th>NU_NOTA_COMP4</th>\n",
       "      <th>NU_NOTA_COMP5</th>\n",
       "    </tr>\n",
       "  </thead>\n",
       "  <tbody>\n",
       "    <tr>\n",
       "      <th>count</th>\n",
       "      <td>10133.000000</td>\n",
       "      <td>10341.000000</td>\n",
       "      <td>10341.000000</td>\n",
       "      <td>10133.000000</td>\n",
       "      <td>10133.000000</td>\n",
       "      <td>10133.000000</td>\n",
       "      <td>10133.000000</td>\n",
       "      <td>10133.000000</td>\n",
       "      <td>10133.000000</td>\n",
       "      <td>10133.000000</td>\n",
       "    </tr>\n",
       "    <tr>\n",
       "      <th>mean</th>\n",
       "      <td>482.497928</td>\n",
       "      <td>473.495155</td>\n",
       "      <td>529.661087</td>\n",
       "      <td>516.472841</td>\n",
       "      <td>529.048258</td>\n",
       "      <td>119.811704</td>\n",
       "      <td>111.915918</td>\n",
       "      <td>106.824238</td>\n",
       "      <td>113.123951</td>\n",
       "      <td>77.372446</td>\n",
       "    </tr>\n",
       "    <tr>\n",
       "      <th>std</th>\n",
       "      <td>99.826323</td>\n",
       "      <td>71.093674</td>\n",
       "      <td>73.726344</td>\n",
       "      <td>68.688190</td>\n",
       "      <td>154.294758</td>\n",
       "      <td>29.846017</td>\n",
       "      <td>33.737588</td>\n",
       "      <td>34.341349</td>\n",
       "      <td>33.480033</td>\n",
       "      <td>43.067140</td>\n",
       "    </tr>\n",
       "    <tr>\n",
       "      <th>min</th>\n",
       "      <td>0.000000</td>\n",
       "      <td>0.000000</td>\n",
       "      <td>0.000000</td>\n",
       "      <td>0.000000</td>\n",
       "      <td>0.000000</td>\n",
       "      <td>0.000000</td>\n",
       "      <td>0.000000</td>\n",
       "      <td>0.000000</td>\n",
       "      <td>0.000000</td>\n",
       "      <td>0.000000</td>\n",
       "    </tr>\n",
       "    <tr>\n",
       "      <th>25%</th>\n",
       "      <td>408.900000</td>\n",
       "      <td>419.900000</td>\n",
       "      <td>480.400000</td>\n",
       "      <td>468.100000</td>\n",
       "      <td>440.000000</td>\n",
       "      <td>120.000000</td>\n",
       "      <td>100.000000</td>\n",
       "      <td>80.000000</td>\n",
       "      <td>100.000000</td>\n",
       "      <td>40.000000</td>\n",
       "    </tr>\n",
       "    <tr>\n",
       "      <th>50%</th>\n",
       "      <td>461.200000</td>\n",
       "      <td>459.800000</td>\n",
       "      <td>532.000000</td>\n",
       "      <td>520.900000</td>\n",
       "      <td>540.000000</td>\n",
       "      <td>120.000000</td>\n",
       "      <td>120.000000</td>\n",
       "      <td>120.000000</td>\n",
       "      <td>120.000000</td>\n",
       "      <td>80.000000</td>\n",
       "    </tr>\n",
       "    <tr>\n",
       "      <th>75%</th>\n",
       "      <td>537.600000</td>\n",
       "      <td>514.500000</td>\n",
       "      <td>581.200000</td>\n",
       "      <td>564.900000</td>\n",
       "      <td>600.000000</td>\n",
       "      <td>140.000000</td>\n",
       "      <td>120.000000</td>\n",
       "      <td>120.000000</td>\n",
       "      <td>120.000000</td>\n",
       "      <td>100.000000</td>\n",
       "    </tr>\n",
       "    <tr>\n",
       "      <th>max</th>\n",
       "      <td>952.000000</td>\n",
       "      <td>806.400000</td>\n",
       "      <td>807.000000</td>\n",
       "      <td>763.600000</td>\n",
       "      <td>1000.000000</td>\n",
       "      <td>200.000000</td>\n",
       "      <td>200.000000</td>\n",
       "      <td>200.000000</td>\n",
       "      <td>200.000000</td>\n",
       "      <td>200.000000</td>\n",
       "    </tr>\n",
       "  </tbody>\n",
       "</table>\n",
       "</div>"
      ],
      "text/plain": [
       "         NU_NOTA_MT    NU_NOTA_CN    NU_NOTA_CH    NU_NOTA_LC  \\\n",
       "count  10133.000000  10341.000000  10341.000000  10133.000000   \n",
       "mean     482.497928    473.495155    529.661087    516.472841   \n",
       "std       99.826323     71.093674     73.726344     68.688190   \n",
       "min        0.000000      0.000000      0.000000      0.000000   \n",
       "25%      408.900000    419.900000    480.400000    468.100000   \n",
       "50%      461.200000    459.800000    532.000000    520.900000   \n",
       "75%      537.600000    514.500000    581.200000    564.900000   \n",
       "max      952.000000    806.400000    807.000000    763.600000   \n",
       "\n",
       "       NU_NOTA_REDACAO  NU_NOTA_COMP1  NU_NOTA_COMP2  NU_NOTA_COMP3  \\\n",
       "count     10133.000000   10133.000000   10133.000000   10133.000000   \n",
       "mean        529.048258     119.811704     111.915918     106.824238   \n",
       "std         154.294758      29.846017      33.737588      34.341349   \n",
       "min           0.000000       0.000000       0.000000       0.000000   \n",
       "25%         440.000000     120.000000     100.000000      80.000000   \n",
       "50%         540.000000     120.000000     120.000000     120.000000   \n",
       "75%         600.000000     140.000000     120.000000     120.000000   \n",
       "max        1000.000000     200.000000     200.000000     200.000000   \n",
       "\n",
       "       NU_NOTA_COMP4  NU_NOTA_COMP5  \n",
       "count   10133.000000   10133.000000  \n",
       "mean      113.123951      77.372446  \n",
       "std        33.480033      43.067140  \n",
       "min         0.000000       0.000000  \n",
       "25%       100.000000      40.000000  \n",
       "50%       120.000000      80.000000  \n",
       "75%       120.000000     100.000000  \n",
       "max       200.000000     200.000000  "
      ]
     },
     "execution_count": 26,
     "metadata": {},
     "output_type": "execute_result"
    }
   ],
   "source": [
    "enem_train[['NU_NOTA_MT','NU_NOTA_CN','NU_NOTA_CH','NU_NOTA_LC','NU_NOTA_REDACAO',\n",
    "            'NU_NOTA_COMP1','NU_NOTA_COMP2','NU_NOTA_COMP3','NU_NOTA_COMP4','NU_NOTA_COMP5']].describe()"
   ]
  },
  {
   "cell_type": "code",
   "execution_count": 27,
   "metadata": {},
   "outputs": [
    {
     "data": {
      "image/png": "[encoded data removed]",
      "text/plain": [
       "<Figure size 432x288 with 1 Axes>"
      ]
     },
     "metadata": {
      "needs_background": "light"
     },
     "output_type": "display_data"
    }
   ],
   "source": [
    "sns.boxplot(data=enem_train[['NU_NOTA_MT','NU_NOTA_CN','NU_NOTA_CH','NU_NOTA_LC','NU_NOTA_REDACAO']])\n",
    "plt.xticks(rotation=30, ha='right');"
   ]
  },
  {
   "cell_type": "code",
   "execution_count": 28,
   "metadata": {},
   "outputs": [
    {
     "data": {
      "image/png": "[encoded data removed]",
      "text/plain": [
       "<Figure size 432x288 with 1 Axes>"
      ]
     },
     "metadata": {
      "needs_background": "light"
     },
     "output_type": "display_data"
    }
   ],
   "source": [
    "sns.boxplot(data=enem_train[['NU_NOTA_COMP1','NU_NOTA_COMP2','NU_NOTA_COMP3','NU_NOTA_COMP4','NU_NOTA_COMP5']])\n",
    "plt.xticks(rotation=30, ha='right');"
   ]
  },
  {
   "cell_type": "code",
   "execution_count": 76,
   "metadata": {},
   "outputs": [
    {
     "data": {
      "image/png": "[encoded data removed]",
      "text/plain": [
       "<Figure size 720x288 with 1 Axes>"
      ]
     },
     "metadata": {
      "needs_background": "light"
     },
     "output_type": "display_data"
    }
   ],
   "source": [
    "plt.figure(figsize=(10,4))\n",
    "sns.distplot(enem_train['NU_NOTA_CN'], hist=False, color='green')\n",
    "sns.distplot(enem_train['NU_NOTA_CH'], hist=False, color='red')\n",
    "sns.distplot(enem_train['NU_NOTA_LC'], hist=False, color='blue')\n",
    "sns.distplot(enem_train['NU_NOTA_MT'], hist=False, color='purple')\n",
    "sns.distplot(enem_train['NU_NOTA_REDACAO'], hist=False, color='yellow')\n",
    "plt.xlabel(\"\")\n",
    "plt.show()"
   ]
  },
  {
   "cell_type": "code",
   "execution_count": 30,
   "metadata": {},
   "outputs": [
    {
     "data": {
      "text/plain": [
       "<matplotlib.axes._subplots.AxesSubplot at 0x7fcae84a36d8>"
      ]
     },
     "execution_count": 30,
     "metadata": {},
     "output_type": "execute_result"
    },
    {
     "data": {
      "image/png": "[encoded data removed]",
      "text/plain": [
       "<Figure size 432x288 with 1 Axes>"
      ]
     },
     "metadata": {
      "needs_background": "light"
     },
     "output_type": "display_data"
    }
   ],
   "source": [
    "sns.distplot(enem_train['NU_IDADE'])"
   ]
  },
  {
   "cell_type": "code",
   "execution_count": 31,
   "metadata": {},
   "outputs": [
    {
     "data": {
      "image/png": "[encoded data removed]",
      "text/plain": [
       "<Figure size 504x432 with 2 Axes>"
      ]
     },
     "metadata": {
      "needs_background": "light"
     },
     "output_type": "display_data"
    }
   ],
   "source": [
    "plt.figure(figsize=(7,6))\n",
    "sns.heatmap(floats.corr(method='pearson'), cmap='YlOrRd', annot=True, fmt='.2f');"
   ]
  },
  {
   "cell_type": "code",
   "execution_count": 32,
   "metadata": {},
   "outputs": [
    {
     "name": "stdout",
     "output_type": "stream",
     "text": [
      "NU_NOTA_COMP1      0.299402\n",
      "NU_NOTA_COMP2      0.335638\n",
      "NU_NOTA_COMP3      0.350307\n",
      "NU_NOTA_COMP4      0.342282\n",
      "NU_NOTA_COMP5      0.343337\n",
      "NU_NOTA_REDACAO    0.379376\n",
      "NU_NOTA_MT         1.000000\n",
      "NU_NOTA_CN         0.584941\n",
      "NU_NOTA_CH         0.529594\n",
      "NU_NOTA_LC         0.494695\n",
      "NU_IDADE          -0.061485\n",
      "Name: NU_NOTA_MT, dtype: float64\n"
     ]
    }
   ],
   "source": [
    "#correlação das features com 'NU_NOTA_MT'\n",
    "correlacao=floats.corr()\n",
    "print(correlacao['NU_NOTA_MT'])"
   ]
  },
  {
   "cell_type": "code",
   "execution_count": 33,
   "metadata": {},
   "outputs": [],
   "source": [
    "enem_train_copy = enem_train.copy()"
   ]
  },
  {
   "cell_type": "markdown",
   "metadata": {},
   "source": [
    "## Trabalhar com categóricas"
   ]
  },
  {
   "cell_type": "code",
   "execution_count": 34,
   "metadata": {},
   "outputs": [
    {
     "data": {
      "text/plain": [
       "Index(['NU_INSCRICAO', 'NU_NOTA_MT', 'CO_UF_RESIDENCIA', 'SG_UF_RESIDENCIA',\n",
       "       'NU_IDADE', 'TP_SEXO', 'TP_COR_RACA', 'TP_NACIONALIDADE',\n",
       "       'TP_ST_CONCLUSAO', 'TP_ANO_CONCLUIU', 'TP_ESCOLA', 'TP_ENSINO',\n",
       "       'IN_TREINEIRO', 'TP_DEPENDENCIA_ADM_ESC', 'IN_BAIXA_VISAO',\n",
       "       'IN_CEGUEIRA', 'IN_SURDEZ', 'IN_DISLEXIA', 'IN_DISCALCULIA',\n",
       "       'IN_SABATISTA', 'IN_GESTANTE', 'IN_IDOSO', 'TP_PRESENCA_CN',\n",
       "       'TP_PRESENCA_CH', 'TP_PRESENCA_LC', 'NU_NOTA_CN', 'NU_NOTA_CH',\n",
       "       'NU_NOTA_LC', 'TP_LINGUA', 'TP_STATUS_REDACAO', 'NU_NOTA_COMP1',\n",
       "       'NU_NOTA_COMP2', 'NU_NOTA_COMP3', 'NU_NOTA_COMP4', 'NU_NOTA_COMP5',\n",
       "       'NU_NOTA_REDACAO', 'Q001', 'Q002', 'Q006', 'Q024', 'Q025', 'Q026',\n",
       "       'Q027', 'Q047'],\n",
       "      dtype='object')"
      ]
     },
     "execution_count": 34,
     "metadata": {},
     "output_type": "execute_result"
    }
   ],
   "source": [
    "enem_train.columns"
   ]
  },
  {
   "cell_type": "code",
   "execution_count": 35,
   "metadata": {},
   "outputs": [],
   "source": [
    "categoricas_dig = enem_train[['NU_NOTA_MT','TP_SEXO', 'Q001', 'Q002', 'Q006', 'Q024', 'Q025', 'Q026', \n",
    "                              'Q027', 'Q047']]"
   ]
  },
  {
   "cell_type": "code",
   "execution_count": 36,
   "metadata": {},
   "outputs": [
    {
     "data": {
      "text/plain": [
       "Q027          7373\n",
       "NU_NOTA_MT    3597\n",
       "Q047             0\n",
       "dtype: int64"
      ]
     },
     "execution_count": 36,
     "metadata": {},
     "output_type": "execute_result"
    }
   ],
   "source": [
    "categoricas_dig.isna().sum().sort_values(ascending=False).head(3)"
   ]
  },
  {
   "cell_type": "code",
   "execution_count": 37,
   "metadata": {},
   "outputs": [
    {
     "data": {
      "text/plain": [
       "<matplotlib.axes._subplots.AxesSubplot at 0x7fcae8303be0>"
      ]
     },
     "execution_count": 37,
     "metadata": {},
     "output_type": "execute_result"
    },
    {
     "data": {
      "image/png": "[encoded data removed]",
      "text/plain": [
       "<Figure size 432x288 with 1 Axes>"
      ]
     },
     "metadata": {
      "needs_background": "light"
     },
     "output_type": "display_data"
    }
   ],
   "source": [
    "sns.boxplot(categoricas_dig.TP_SEXO, categoricas_dig.NU_NOTA_MT)"
   ]
  },
  {
   "cell_type": "markdown",
   "metadata": {},
   "source": [
    "**OBS:** Todos os 'TP_SEXO', 'Q001', 'Q002', 'Q006', 'Q024', 'Q025', 'Q026', 'Q047' influenciam a nota de matemática pelos boxplot!!!\n",
    "\n",
    "**OBS2**: Q027 muitos nulos"
   ]
  },
  {
   "cell_type": "code",
   "execution_count": 38,
   "metadata": {},
   "outputs": [],
   "source": [
    "categoricas_num = enem_train[['NU_NOTA_MT', 'CO_UF_RESIDENCIA',\n",
    "       'NU_IDADE', 'TP_COR_RACA', 'TP_NACIONALIDADE',\n",
    "       'TP_ST_CONCLUSAO', 'TP_ANO_CONCLUIU', 'TP_ESCOLA', 'TP_ENSINO',\n",
    "       'IN_TREINEIRO', 'TP_DEPENDENCIA_ADM_ESC', 'IN_BAIXA_VISAO',\n",
    "       'IN_CEGUEIRA', 'IN_SURDEZ', 'IN_DISLEXIA', 'IN_DISCALCULIA',\n",
    "       'IN_SABATISTA', 'IN_GESTANTE', 'IN_IDOSO','TP_LINGUA', 'TP_STATUS_REDACAO']]"
   ]
  },
  {
   "cell_type": "code",
   "execution_count": 39,
   "metadata": {},
   "outputs": [
    {
     "data": {
      "text/plain": [
       "0     7206\n",
       "1     1578\n",
       "10    1167\n",
       "2     1033\n",
       "3      712\n",
       "4      563\n",
       "6      383\n",
       "5      379\n",
       "7      294\n",
       "8      221\n",
       "9      194\n",
       "Name: TP_ANO_CONCLUIU, dtype: int64"
      ]
     },
     "execution_count": 39,
     "metadata": {},
     "output_type": "execute_result"
    }
   ],
   "source": [
    "categoricas_num.TP_ANO_CONCLUIU.value_counts()"
   ]
  },
  {
   "cell_type": "code",
   "execution_count": 40,
   "metadata": {},
   "outputs": [
    {
     "data": {
      "image/png": "[encoded data removed]",
      "text/plain": [
       "<Figure size 432x288 with 1 Axes>"
      ]
     },
     "metadata": {
      "needs_background": "light"
     },
     "output_type": "display_data"
    }
   ],
   "source": [
    "sns.boxplot(categoricas_num.TP_COR_RACA, categoricas_num.NU_NOTA_MT);"
   ]
  },
  {
   "cell_type": "code",
   "execution_count": 41,
   "metadata": {},
   "outputs": [
    {
     "data": {
      "image/png": "[encoded data removed]",
      "text/plain": [
       "<Figure size 432x288 with 1 Axes>"
      ]
     },
     "metadata": {
      "needs_background": "light"
     },
     "output_type": "display_data"
    }
   ],
   "source": [
    "sns.boxplot(categoricas_num.TP_ESCOLA, categoricas_num.NU_NOTA_MT);"
   ]
  },
  {
   "cell_type": "code",
   "execution_count": 42,
   "metadata": {},
   "outputs": [
    {
     "data": {
      "text/plain": [
       "TP_DEPENDENCIA_ADM_ESC    68.812819\n",
       "TP_ENSINO                 68.812819\n",
       "TP_STATUS_REDACAO         26.198106\n",
       "NU_NOTA_MT                26.198106\n",
       "IN_SABATISTA               0.000000\n",
       "CO_UF_RESIDENCIA           0.000000\n",
       "dtype: float64"
      ]
     },
     "execution_count": 42,
     "metadata": {},
     "output_type": "execute_result"
    }
   ],
   "source": [
    "(categoricas_num.isna().sum()/categoricas_num.shape[0]*100).sort_values(ascending=False).head(6)"
   ]
  },
  {
   "cell_type": "markdown",
   "metadata": {},
   "source": [
    "**OBS**: 'TP_NACIONALIDADE', 'IN_BAIXA_VISAO', 'IN_CEGUEIRA', 'IN_SURDEZ', 'IN_DISLEXIA', 'IN_DISCALCULIA',\n",
    "       'IN_SABATISTA', 'IN_GESTANTE', 'IN_IDOSO', 'TP_STATUS_REDACAO' tem poucos valores contrastantes (5, 15...) não serve pra modelo.\n",
    "\n",
    "**OBS2**: TP_ST_CONCLUSAO, TP_ANO_CONCLUIU, TP_ENSINO, IN_TREINEIRO aparentemente não influenciam na nota de matemática\n",
    "\n",
    "**OBS3**: 'TP_ENSINO','TP_DEPENDENCIA_ADM_ESC' muitos NAN e não saberia lidar com eles"
   ]
  },
  {
   "cell_type": "markdown",
   "metadata": {},
   "source": [
    "**Formando um dataframe**"
   ]
  },
  {
   "cell_type": "code",
   "execution_count": 43,
   "metadata": {
    "scrolled": true
   },
   "outputs": [
    {
     "data": {
      "text/html": [
       "<div>\n",
       "<style scoped>\n",
       "    .dataframe tbody tr th:only-of-type {\n",
       "        vertical-align: middle;\n",
       "    }\n",
       "\n",
       "    .dataframe tbody tr th {\n",
       "        vertical-align: top;\n",
       "    }\n",
       "\n",
       "    .dataframe thead th {\n",
       "        text-align: right;\n",
       "    }\n",
       "</style>\n",
       "<table border=\"1\" class=\"dataframe\">\n",
       "  <thead>\n",
       "    <tr style=\"text-align: right;\">\n",
       "      <th></th>\n",
       "      <th>NU_NOTA_MT</th>\n",
       "      <th>NU_IDADE</th>\n",
       "      <th>TP_COR_RACA</th>\n",
       "      <th>TP_ESCOLA</th>\n",
       "      <th>TP_LINGUA</th>\n",
       "      <th>NU_NOTA_CN</th>\n",
       "      <th>NU_NOTA_CH</th>\n",
       "      <th>NU_NOTA_LC</th>\n",
       "      <th>NU_NOTA_REDACAO</th>\n",
       "      <th>TP_SEXO</th>\n",
       "      <th>Q001</th>\n",
       "      <th>Q002</th>\n",
       "      <th>Q006</th>\n",
       "      <th>Q024</th>\n",
       "      <th>Q025</th>\n",
       "      <th>Q026</th>\n",
       "      <th>Q047</th>\n",
       "    </tr>\n",
       "  </thead>\n",
       "  <tbody>\n",
       "    <tr>\n",
       "      <th>0</th>\n",
       "      <td>399.4</td>\n",
       "      <td>24</td>\n",
       "      <td>1</td>\n",
       "      <td>1</td>\n",
       "      <td>1</td>\n",
       "      <td>436.3</td>\n",
       "      <td>495.4</td>\n",
       "      <td>581.2</td>\n",
       "      <td>520.0</td>\n",
       "      <td>M</td>\n",
       "      <td>D</td>\n",
       "      <td>D</td>\n",
       "      <td>C</td>\n",
       "      <td>A</td>\n",
       "      <td>A</td>\n",
       "      <td>C</td>\n",
       "      <td>A</td>\n",
       "    </tr>\n",
       "    <tr>\n",
       "      <th>1</th>\n",
       "      <td>459.8</td>\n",
       "      <td>17</td>\n",
       "      <td>3</td>\n",
       "      <td>2</td>\n",
       "      <td>1</td>\n",
       "      <td>474.5</td>\n",
       "      <td>544.1</td>\n",
       "      <td>599.0</td>\n",
       "      <td>580.0</td>\n",
       "      <td>F</td>\n",
       "      <td>A</td>\n",
       "      <td>A</td>\n",
       "      <td>B</td>\n",
       "      <td>A</td>\n",
       "      <td>A</td>\n",
       "      <td>A</td>\n",
       "      <td>A</td>\n",
       "    </tr>\n",
       "    <tr>\n",
       "      <th>2</th>\n",
       "      <td>NaN</td>\n",
       "      <td>21</td>\n",
       "      <td>3</td>\n",
       "      <td>1</td>\n",
       "      <td>1</td>\n",
       "      <td>NaN</td>\n",
       "      <td>NaN</td>\n",
       "      <td>NaN</td>\n",
       "      <td>NaN</td>\n",
       "      <td>F</td>\n",
       "      <td>D</td>\n",
       "      <td>D</td>\n",
       "      <td>C</td>\n",
       "      <td>A</td>\n",
       "      <td>A</td>\n",
       "      <td>A</td>\n",
       "      <td>A</td>\n",
       "    </tr>\n",
       "    <tr>\n",
       "      <th>3</th>\n",
       "      <td>NaN</td>\n",
       "      <td>25</td>\n",
       "      <td>0</td>\n",
       "      <td>1</td>\n",
       "      <td>0</td>\n",
       "      <td>NaN</td>\n",
       "      <td>NaN</td>\n",
       "      <td>NaN</td>\n",
       "      <td>NaN</td>\n",
       "      <td>F</td>\n",
       "      <td>H</td>\n",
       "      <td>E</td>\n",
       "      <td>E</td>\n",
       "      <td>C</td>\n",
       "      <td>B</td>\n",
       "      <td>C</td>\n",
       "      <td>D</td>\n",
       "    </tr>\n",
       "    <tr>\n",
       "      <th>4</th>\n",
       "      <td>NaN</td>\n",
       "      <td>28</td>\n",
       "      <td>2</td>\n",
       "      <td>1</td>\n",
       "      <td>1</td>\n",
       "      <td>NaN</td>\n",
       "      <td>NaN</td>\n",
       "      <td>NaN</td>\n",
       "      <td>NaN</td>\n",
       "      <td>M</td>\n",
       "      <td>E</td>\n",
       "      <td>D</td>\n",
       "      <td>C</td>\n",
       "      <td>A</td>\n",
       "      <td>A</td>\n",
       "      <td>B</td>\n",
       "      <td>A</td>\n",
       "    </tr>\n",
       "  </tbody>\n",
       "</table>\n",
       "</div>"
      ],
      "text/plain": [
       "   NU_NOTA_MT  NU_IDADE  TP_COR_RACA  TP_ESCOLA  TP_LINGUA  NU_NOTA_CN  \\\n",
       "0       399.4        24            1          1          1       436.3   \n",
       "1       459.8        17            3          2          1       474.5   \n",
       "2         NaN        21            3          1          1         NaN   \n",
       "3         NaN        25            0          1          0         NaN   \n",
       "4         NaN        28            2          1          1         NaN   \n",
       "\n",
       "   NU_NOTA_CH  NU_NOTA_LC  NU_NOTA_REDACAO TP_SEXO Q001 Q002 Q006 Q024 Q025  \\\n",
       "0       495.4       581.2            520.0       M    D    D    C    A    A   \n",
       "1       544.1       599.0            580.0       F    A    A    B    A    A   \n",
       "2         NaN         NaN              NaN       F    D    D    C    A    A   \n",
       "3         NaN         NaN              NaN       F    H    E    E    C    B   \n",
       "4         NaN         NaN              NaN       M    E    D    C    A    A   \n",
       "\n",
       "  Q026 Q047  \n",
       "0    C    A  \n",
       "1    A    A  \n",
       "2    A    A  \n",
       "3    C    D  \n",
       "4    B    A  "
      ]
     },
     "execution_count": 43,
     "metadata": {},
     "output_type": "execute_result"
    }
   ],
   "source": [
    "df_train = enem_train[['NU_NOTA_MT', 'NU_IDADE', 'TP_COR_RACA','TP_ESCOLA','TP_LINGUA',\n",
    "                       'NU_NOTA_CN','NU_NOTA_CH','NU_NOTA_LC','NU_NOTA_REDACAO',\n",
    "                       'TP_SEXO','Q001', 'Q002', 'Q006', 'Q024', 'Q025', 'Q026', 'Q047']]\n",
    "\n",
    "df_train.head()"
   ]
  },
  {
   "cell_type": "markdown",
   "metadata": {},
   "source": [
    "0\tNão declarado\n",
    "1\tBranca\n",
    "2\tPreta\n",
    "3\tParda\n",
    "4\tAmarela\n",
    "5\tIndígena \n",
    "6\tNão dispõe da informação\n",
    "\n",
    "\n",
    "1\tNão Respondeu\n",
    "2\tPública\n",
    "3\tPrivada\n",
    "4\tExterior\n"
   ]
  },
  {
   "cell_type": "code",
   "execution_count": 44,
   "metadata": {},
   "outputs": [],
   "source": [
    "df_train['TP_SEXO'] = df_train['TP_SEXO'].map({'F':0, 'M':1}) \n",
    "\n",
    "df_train['TP_COR_RACA'] = df_train['TP_COR_RACA'].map({0:'Outros', 6:'Outros', 1:'Branca', 2:'Outros', \n",
    "                                                       3:'Outros', 4:'Branca', 5:'Outros'})\n",
    "\n",
    "df_train['TP_ESCOLA'] = df_train['TP_ESCOLA'].map({1:'Outras', 2:'Outras', 3:'Privada', 4:'Outras'}) "
   ]
  },
  {
   "cell_type": "code",
   "execution_count": 45,
   "metadata": {},
   "outputs": [],
   "source": [
    "df_train = pd.get_dummies(df_train)"
   ]
  },
  {
   "cell_type": "code",
   "execution_count": 46,
   "metadata": {},
   "outputs": [
    {
     "data": {
      "text/plain": [
       "NU_NOTA_MT         26.198106\n",
       "NU_NOTA_LC         26.198106\n",
       "NU_NOTA_REDACAO    26.198106\n",
       "NU_NOTA_CN         24.683176\n",
       "NU_NOTA_CH         24.683176\n",
       "Q002_C              0.000000\n",
       "dtype: float64"
      ]
     },
     "execution_count": 46,
     "metadata": {},
     "output_type": "execute_result"
    }
   ],
   "source": [
    "(df_train.isna().sum()/df_train.shape[0]*100).sort_values(ascending=False).head(6)"
   ]
  },
  {
   "cell_type": "code",
   "execution_count": 47,
   "metadata": {},
   "outputs": [],
   "source": [
    "df_train.fillna(-1, inplace=True)"
   ]
  },
  {
   "cell_type": "code",
   "execution_count": 48,
   "metadata": {},
   "outputs": [
    {
     "data": {
      "text/html": [
       "<div>\n",
       "<style scoped>\n",
       "    .dataframe tbody tr th:only-of-type {\n",
       "        vertical-align: middle;\n",
       "    }\n",
       "\n",
       "    .dataframe tbody tr th {\n",
       "        vertical-align: top;\n",
       "    }\n",
       "\n",
       "    .dataframe thead th {\n",
       "        text-align: right;\n",
       "    }\n",
       "</style>\n",
       "<table border=\"1\" class=\"dataframe\">\n",
       "  <thead>\n",
       "    <tr style=\"text-align: right;\">\n",
       "      <th></th>\n",
       "      <th>NU_NOTA_MT</th>\n",
       "      <th>NU_IDADE</th>\n",
       "      <th>TP_LINGUA</th>\n",
       "      <th>NU_NOTA_CN</th>\n",
       "      <th>NU_NOTA_CH</th>\n",
       "      <th>NU_NOTA_LC</th>\n",
       "      <th>NU_NOTA_REDACAO</th>\n",
       "      <th>TP_SEXO</th>\n",
       "      <th>TP_COR_RACA_Branca</th>\n",
       "      <th>TP_COR_RACA_Outros</th>\n",
       "      <th>...</th>\n",
       "      <th>Q025_A</th>\n",
       "      <th>Q025_B</th>\n",
       "      <th>Q026_A</th>\n",
       "      <th>Q026_B</th>\n",
       "      <th>Q026_C</th>\n",
       "      <th>Q047_A</th>\n",
       "      <th>Q047_B</th>\n",
       "      <th>Q047_C</th>\n",
       "      <th>Q047_D</th>\n",
       "      <th>Q047_E</th>\n",
       "    </tr>\n",
       "  </thead>\n",
       "  <tbody>\n",
       "    <tr>\n",
       "      <th>0</th>\n",
       "      <td>399.4</td>\n",
       "      <td>24</td>\n",
       "      <td>1</td>\n",
       "      <td>436.3</td>\n",
       "      <td>495.4</td>\n",
       "      <td>581.2</td>\n",
       "      <td>520.0</td>\n",
       "      <td>1</td>\n",
       "      <td>1</td>\n",
       "      <td>0</td>\n",
       "      <td>...</td>\n",
       "      <td>1</td>\n",
       "      <td>0</td>\n",
       "      <td>0</td>\n",
       "      <td>0</td>\n",
       "      <td>1</td>\n",
       "      <td>1</td>\n",
       "      <td>0</td>\n",
       "      <td>0</td>\n",
       "      <td>0</td>\n",
       "      <td>0</td>\n",
       "    </tr>\n",
       "    <tr>\n",
       "      <th>1</th>\n",
       "      <td>459.8</td>\n",
       "      <td>17</td>\n",
       "      <td>1</td>\n",
       "      <td>474.5</td>\n",
       "      <td>544.1</td>\n",
       "      <td>599.0</td>\n",
       "      <td>580.0</td>\n",
       "      <td>0</td>\n",
       "      <td>0</td>\n",
       "      <td>1</td>\n",
       "      <td>...</td>\n",
       "      <td>1</td>\n",
       "      <td>0</td>\n",
       "      <td>1</td>\n",
       "      <td>0</td>\n",
       "      <td>0</td>\n",
       "      <td>1</td>\n",
       "      <td>0</td>\n",
       "      <td>0</td>\n",
       "      <td>0</td>\n",
       "      <td>0</td>\n",
       "    </tr>\n",
       "    <tr>\n",
       "      <th>2</th>\n",
       "      <td>-1.0</td>\n",
       "      <td>21</td>\n",
       "      <td>1</td>\n",
       "      <td>-1.0</td>\n",
       "      <td>-1.0</td>\n",
       "      <td>-1.0</td>\n",
       "      <td>-1.0</td>\n",
       "      <td>0</td>\n",
       "      <td>0</td>\n",
       "      <td>1</td>\n",
       "      <td>...</td>\n",
       "      <td>1</td>\n",
       "      <td>0</td>\n",
       "      <td>1</td>\n",
       "      <td>0</td>\n",
       "      <td>0</td>\n",
       "      <td>1</td>\n",
       "      <td>0</td>\n",
       "      <td>0</td>\n",
       "      <td>0</td>\n",
       "      <td>0</td>\n",
       "    </tr>\n",
       "    <tr>\n",
       "      <th>3</th>\n",
       "      <td>-1.0</td>\n",
       "      <td>25</td>\n",
       "      <td>0</td>\n",
       "      <td>-1.0</td>\n",
       "      <td>-1.0</td>\n",
       "      <td>-1.0</td>\n",
       "      <td>-1.0</td>\n",
       "      <td>0</td>\n",
       "      <td>0</td>\n",
       "      <td>1</td>\n",
       "      <td>...</td>\n",
       "      <td>0</td>\n",
       "      <td>1</td>\n",
       "      <td>0</td>\n",
       "      <td>0</td>\n",
       "      <td>1</td>\n",
       "      <td>0</td>\n",
       "      <td>0</td>\n",
       "      <td>0</td>\n",
       "      <td>1</td>\n",
       "      <td>0</td>\n",
       "    </tr>\n",
       "    <tr>\n",
       "      <th>4</th>\n",
       "      <td>-1.0</td>\n",
       "      <td>28</td>\n",
       "      <td>1</td>\n",
       "      <td>-1.0</td>\n",
       "      <td>-1.0</td>\n",
       "      <td>-1.0</td>\n",
       "      <td>-1.0</td>\n",
       "      <td>1</td>\n",
       "      <td>0</td>\n",
       "      <td>1</td>\n",
       "      <td>...</td>\n",
       "      <td>1</td>\n",
       "      <td>0</td>\n",
       "      <td>0</td>\n",
       "      <td>1</td>\n",
       "      <td>0</td>\n",
       "      <td>1</td>\n",
       "      <td>0</td>\n",
       "      <td>0</td>\n",
       "      <td>0</td>\n",
       "      <td>0</td>\n",
       "    </tr>\n",
       "  </tbody>\n",
       "</table>\n",
       "<p>5 rows × 60 columns</p>\n",
       "</div>"
      ],
      "text/plain": [
       "   NU_NOTA_MT  NU_IDADE  TP_LINGUA  NU_NOTA_CN  NU_NOTA_CH  NU_NOTA_LC  \\\n",
       "0       399.4        24          1       436.3       495.4       581.2   \n",
       "1       459.8        17          1       474.5       544.1       599.0   \n",
       "2        -1.0        21          1        -1.0        -1.0        -1.0   \n",
       "3        -1.0        25          0        -1.0        -1.0        -1.0   \n",
       "4        -1.0        28          1        -1.0        -1.0        -1.0   \n",
       "\n",
       "   NU_NOTA_REDACAO  TP_SEXO  TP_COR_RACA_Branca  TP_COR_RACA_Outros  ...  \\\n",
       "0            520.0        1                   1                   0  ...   \n",
       "1            580.0        0                   0                   1  ...   \n",
       "2             -1.0        0                   0                   1  ...   \n",
       "3             -1.0        0                   0                   1  ...   \n",
       "4             -1.0        1                   0                   1  ...   \n",
       "\n",
       "   Q025_A  Q025_B  Q026_A  Q026_B  Q026_C  Q047_A  Q047_B  Q047_C  Q047_D  \\\n",
       "0       1       0       0       0       1       1       0       0       0   \n",
       "1       1       0       1       0       0       1       0       0       0   \n",
       "2       1       0       1       0       0       1       0       0       0   \n",
       "3       0       1       0       0       1       0       0       0       1   \n",
       "4       1       0       0       1       0       1       0       0       0   \n",
       "\n",
       "   Q047_E  \n",
       "0       0  \n",
       "1       0  \n",
       "2       0  \n",
       "3       0  \n",
       "4       0  \n",
       "\n",
       "[5 rows x 60 columns]"
      ]
     },
     "execution_count": 48,
     "metadata": {},
     "output_type": "execute_result"
    }
   ],
   "source": [
    "df_train.head()"
   ]
  },
  {
   "cell_type": "code",
   "execution_count": 49,
   "metadata": {},
   "outputs": [
    {
     "name": "stdout",
     "output_type": "stream",
     "text": [
      "tenho 60 features\n"
     ]
    }
   ],
   "source": [
    "print('tenho',df_train.shape[1],'features')"
   ]
  },
  {
   "cell_type": "code",
   "execution_count": 50,
   "metadata": {},
   "outputs": [],
   "source": [
    "y = df_train['NU_NOTA_MT']\n",
    "X = df_train.drop('NU_NOTA_MT', axis=1)\n",
    "\n",
    "X_train, X_val, y_train, y_val = train_test_split(X, y, test_size=0.25, random_state=42)"
   ]
  },
  {
   "cell_type": "code",
   "execution_count": 51,
   "metadata": {},
   "outputs": [],
   "source": [
    "X_test = enem_test[['NU_IDADE', 'TP_COR_RACA','TP_ESCOLA','TP_LINGUA',\n",
    "                    'NU_NOTA_CN','NU_NOTA_CH','NU_NOTA_LC','NU_NOTA_REDACAO',\n",
    "                    'TP_SEXO','Q001', 'Q002', 'Q006', 'Q024', 'Q025', 'Q026', 'Q047']]\n",
    "\n",
    "X_test['TP_SEXO'] = X_test['TP_SEXO'].map({'F':0, 'M':1}) \n",
    "\n",
    "X_test['TP_COR_RACA'] = X_test['TP_COR_RACA'].map({0:'Outros', 6:'Outros', 1:'Branca', 2:'Outros', \n",
    "                                                       3:'Outros', 4:'Branca', 5:'Outros'})\n",
    "\n",
    "X_test['TP_ESCOLA'] = X_test['TP_ESCOLA'].map({1:'Outras', 2:'Outras', 3:'Privada', 4:'Outras'})\n",
    "\n",
    "X_test = pd.get_dummies(X_test)\n",
    "\n",
    "X_test.fillna(-1, inplace=True)"
   ]
  },
  {
   "cell_type": "markdown",
   "metadata": {},
   "source": [
    "## RANDOM FOREST"
   ]
  },
  {
   "cell_type": "markdown",
   "metadata": {},
   "source": [
    "regressor = RandomForestRegressor( \n",
    "           criterion='mae', \n",
    "           max_depth=8,\n",
    "           max_leaf_nodes=None,\n",
    "           min_impurity_split=None,\n",
    "           min_samples_leaf=1,\n",
    "           min_samples_split=2,\n",
    "           min_weight_fraction_leaf=0.0,\n",
    "           n_estimators= 500,\n",
    "           n_jobs=-1,\n",
    "           random_state=0,\n",
    "           verbose=0,\n",
    "           warm_start=False\n",
    ")"
   ]
  },
  {
   "cell_type": "code",
   "execution_count": 53,
   "metadata": {
    "scrolled": true
   },
   "outputs": [
    {
     "name": "stdout",
     "output_type": "stream",
     "text": [
      "41.808737870700845 62.05905467231355\n"
     ]
    }
   ],
   "source": [
    "random_forest = RandomForestRegressor(criterion='mse', max_depth=8, n_jobs=-1, random_state=0)\n",
    "random_forest.fit(X_train, y_train)\n",
    "\n",
    "y_pred_val = random_forest.predict(X_val)\n",
    "\n",
    "mae_rf=metrics.mean_absolute_error(y_val, y_pred_val)\n",
    "rmse_rf=np.sqrt(metrics.mean_squared_error(y_val, y_pred_val))\n",
    "\n",
    "print(mae_rf,rmse_rf)"
   ]
  },
  {
   "cell_type": "code",
   "execution_count": 54,
   "metadata": {},
   "outputs": [],
   "source": [
    "y_pred = random_forest.predict(X_test)"
   ]
  },
  {
   "cell_type": "code",
   "execution_count": 55,
   "metadata": {},
   "outputs": [
    {
     "data": {
      "text/html": [
       "<div>\n",
       "<style scoped>\n",
       "    .dataframe tbody tr th:only-of-type {\n",
       "        vertical-align: middle;\n",
       "    }\n",
       "\n",
       "    .dataframe tbody tr th {\n",
       "        vertical-align: top;\n",
       "    }\n",
       "\n",
       "    .dataframe thead th {\n",
       "        text-align: right;\n",
       "    }\n",
       "</style>\n",
       "<table border=\"1\" class=\"dataframe\">\n",
       "  <thead>\n",
       "    <tr style=\"text-align: right;\">\n",
       "      <th></th>\n",
       "      <th>NU_INSCRICAO</th>\n",
       "      <th>TP_PRESENCA_CN</th>\n",
       "      <th>NU_NOTA_MT</th>\n",
       "    </tr>\n",
       "  </thead>\n",
       "  <tbody>\n",
       "    <tr>\n",
       "      <th>0</th>\n",
       "      <td>73ff9fcc02f0a99919906c942c2e1a1042cdcf98</td>\n",
       "      <td>1</td>\n",
       "      <td>423.631667</td>\n",
       "    </tr>\n",
       "    <tr>\n",
       "      <th>1</th>\n",
       "      <td>71a95f9f1b91a82c65ad94abbdf9f54e6066f968</td>\n",
       "      <td>1</td>\n",
       "      <td>445.723752</td>\n",
       "    </tr>\n",
       "    <tr>\n",
       "      <th>2</th>\n",
       "      <td>b38a03232f43b11c9d0788abaf060f7366053b6d</td>\n",
       "      <td>1</td>\n",
       "      <td>586.279533</td>\n",
       "    </tr>\n",
       "    <tr>\n",
       "      <th>3</th>\n",
       "      <td>70b682d9a3636be23f6120fa9d6b164eb3c6002d</td>\n",
       "      <td>0</td>\n",
       "      <td>-1.000000</td>\n",
       "    </tr>\n",
       "    <tr>\n",
       "      <th>4</th>\n",
       "      <td>715494628a50142ce8cb17191cfe6d0f3cae0934</td>\n",
       "      <td>1</td>\n",
       "      <td>555.669474</td>\n",
       "    </tr>\n",
       "  </tbody>\n",
       "</table>\n",
       "</div>"
      ],
      "text/plain": [
       "                               NU_INSCRICAO  TP_PRESENCA_CN  NU_NOTA_MT\n",
       "0  73ff9fcc02f0a99919906c942c2e1a1042cdcf98               1  423.631667\n",
       "1  71a95f9f1b91a82c65ad94abbdf9f54e6066f968               1  445.723752\n",
       "2  b38a03232f43b11c9d0788abaf060f7366053b6d               1  586.279533\n",
       "3  70b682d9a3636be23f6120fa9d6b164eb3c6002d               0   -1.000000\n",
       "4  715494628a50142ce8cb17191cfe6d0f3cae0934               1  555.669474"
      ]
     },
     "execution_count": 55,
     "metadata": {},
     "output_type": "execute_result"
    }
   ],
   "source": [
    "answer = pd.DataFrame({'NU_INSCRICAO':enem_test.NU_INSCRICAO,\n",
    "                        'TP_PRESENCA_CN':enem_test.TP_PRESENCA_CN,\n",
    "                        'NU_NOTA_MT':y_pred})\n",
    "answer.head()"
   ]
  },
  {
   "cell_type": "code",
   "execution_count": 56,
   "metadata": {},
   "outputs": [
    {
     "data": {
      "text/html": [
       "<div>\n",
       "<style scoped>\n",
       "    .dataframe tbody tr th:only-of-type {\n",
       "        vertical-align: middle;\n",
       "    }\n",
       "\n",
       "    .dataframe tbody tr th {\n",
       "        vertical-align: top;\n",
       "    }\n",
       "\n",
       "    .dataframe thead th {\n",
       "        text-align: right;\n",
       "    }\n",
       "</style>\n",
       "<table border=\"1\" class=\"dataframe\">\n",
       "  <thead>\n",
       "    <tr style=\"text-align: right;\">\n",
       "      <th></th>\n",
       "      <th>NU_INSCRICAO</th>\n",
       "      <th>TP_PRESENCA_CN</th>\n",
       "      <th>NU_NOTA_MT</th>\n",
       "    </tr>\n",
       "  </thead>\n",
       "  <tbody>\n",
       "    <tr>\n",
       "      <th>0</th>\n",
       "      <td>73ff9fcc02f0a99919906c942c2e1a1042cdcf98</td>\n",
       "      <td>1</td>\n",
       "      <td>423.631667</td>\n",
       "    </tr>\n",
       "    <tr>\n",
       "      <th>1</th>\n",
       "      <td>71a95f9f1b91a82c65ad94abbdf9f54e6066f968</td>\n",
       "      <td>1</td>\n",
       "      <td>445.723752</td>\n",
       "    </tr>\n",
       "    <tr>\n",
       "      <th>2</th>\n",
       "      <td>b38a03232f43b11c9d0788abaf060f7366053b6d</td>\n",
       "      <td>1</td>\n",
       "      <td>586.279533</td>\n",
       "    </tr>\n",
       "    <tr>\n",
       "      <th>3</th>\n",
       "      <td>70b682d9a3636be23f6120fa9d6b164eb3c6002d</td>\n",
       "      <td>0</td>\n",
       "      <td>NaN</td>\n",
       "    </tr>\n",
       "    <tr>\n",
       "      <th>4</th>\n",
       "      <td>715494628a50142ce8cb17191cfe6d0f3cae0934</td>\n",
       "      <td>1</td>\n",
       "      <td>555.669474</td>\n",
       "    </tr>\n",
       "  </tbody>\n",
       "</table>\n",
       "</div>"
      ],
      "text/plain": [
       "                               NU_INSCRICAO  TP_PRESENCA_CN  NU_NOTA_MT\n",
       "0  73ff9fcc02f0a99919906c942c2e1a1042cdcf98               1  423.631667\n",
       "1  71a95f9f1b91a82c65ad94abbdf9f54e6066f968               1  445.723752\n",
       "2  b38a03232f43b11c9d0788abaf060f7366053b6d               1  586.279533\n",
       "3  70b682d9a3636be23f6120fa9d6b164eb3c6002d               0         NaN\n",
       "4  715494628a50142ce8cb17191cfe6d0f3cae0934               1  555.669474"
      ]
     },
     "execution_count": 56,
     "metadata": {},
     "output_type": "execute_result"
    }
   ],
   "source": [
    "for index, row in answer.iterrows():\n",
    "    if row['TP_PRESENCA_CN'] == 0:\n",
    "        answer.loc[index,'NU_NOTA_MT'] = np.nan\n",
    "\n",
    "answer.head()"
   ]
  },
  {
   "cell_type": "code",
   "execution_count": 57,
   "metadata": {},
   "outputs": [
    {
     "data": {
      "text/plain": [
       "count    3442.000000\n",
       "mean      470.459213\n",
       "std        99.001741\n",
       "min        -1.000000\n",
       "25%       436.671014\n",
       "50%       458.459865\n",
       "75%       500.137984\n",
       "max       877.096569\n",
       "Name: NU_NOTA_MT, dtype: float64"
      ]
     },
     "execution_count": 57,
     "metadata": {},
     "output_type": "execute_result"
    }
   ],
   "source": [
    "answer.NU_NOTA_MT.describe()"
   ]
  },
  {
   "cell_type": "code",
   "execution_count": 58,
   "metadata": {},
   "outputs": [],
   "source": [
    "answer.drop('TP_PRESENCA_CN', axis=1, inplace=True)\n",
    "answer.to_csv('answer.csv', index=False)"
   ]
  },
  {
   "cell_type": "code",
   "execution_count": 59,
   "metadata": {},
   "outputs": [],
   "source": [
    "codenation_rf = 93.7467"
   ]
  },
  {
   "cell_type": "markdown",
   "metadata": {},
   "source": [
    "## GRADIENT BOOSTING"
   ]
  },
  {
   "cell_type": "code",
   "execution_count": 60,
   "metadata": {},
   "outputs": [],
   "source": [
    "from sklearn.ensemble import GradientBoostingRegressor"
   ]
  },
  {
   "cell_type": "code",
   "execution_count": 61,
   "metadata": {},
   "outputs": [
    {
     "name": "stdout",
     "output_type": "stream",
     "text": [
      "41.95243973232151 61.587718484269175\n"
     ]
    }
   ],
   "source": [
    "gbr = GradientBoostingRegressor()\n",
    "\n",
    "#treinando\n",
    "gbr.fit(X_train,y_train)\n",
    "\n",
    "#prevendo\n",
    "y_pred_val = gbr.predict(X_val)\n",
    "\n",
    "mae_gb = metrics.mean_absolute_error(y_val, y_pred_val)\n",
    "rmse_gb = np.sqrt(metrics.mean_squared_error(y_val, y_pred_val))\n",
    "\n",
    "print(mae_gb,rmse_gb)"
   ]
  },
  {
   "cell_type": "code",
   "execution_count": 62,
   "metadata": {},
   "outputs": [],
   "source": [
    "y_pred = random_forest.predict(X_test)"
   ]
  },
  {
   "cell_type": "code",
   "execution_count": 63,
   "metadata": {},
   "outputs": [
    {
     "data": {
      "text/html": [
       "<div>\n",
       "<style scoped>\n",
       "    .dataframe tbody tr th:only-of-type {\n",
       "        vertical-align: middle;\n",
       "    }\n",
       "\n",
       "    .dataframe tbody tr th {\n",
       "        vertical-align: top;\n",
       "    }\n",
       "\n",
       "    .dataframe thead th {\n",
       "        text-align: right;\n",
       "    }\n",
       "</style>\n",
       "<table border=\"1\" class=\"dataframe\">\n",
       "  <thead>\n",
       "    <tr style=\"text-align: right;\">\n",
       "      <th></th>\n",
       "      <th>NU_INSCRICAO</th>\n",
       "      <th>TP_PRESENCA_CN</th>\n",
       "      <th>NU_NOTA_MT</th>\n",
       "    </tr>\n",
       "  </thead>\n",
       "  <tbody>\n",
       "    <tr>\n",
       "      <th>0</th>\n",
       "      <td>73ff9fcc02f0a99919906c942c2e1a1042cdcf98</td>\n",
       "      <td>1</td>\n",
       "      <td>423.631667</td>\n",
       "    </tr>\n",
       "    <tr>\n",
       "      <th>1</th>\n",
       "      <td>71a95f9f1b91a82c65ad94abbdf9f54e6066f968</td>\n",
       "      <td>1</td>\n",
       "      <td>445.723752</td>\n",
       "    </tr>\n",
       "    <tr>\n",
       "      <th>2</th>\n",
       "      <td>b38a03232f43b11c9d0788abaf060f7366053b6d</td>\n",
       "      <td>1</td>\n",
       "      <td>586.279533</td>\n",
       "    </tr>\n",
       "    <tr>\n",
       "      <th>3</th>\n",
       "      <td>70b682d9a3636be23f6120fa9d6b164eb3c6002d</td>\n",
       "      <td>0</td>\n",
       "      <td>NaN</td>\n",
       "    </tr>\n",
       "    <tr>\n",
       "      <th>4</th>\n",
       "      <td>715494628a50142ce8cb17191cfe6d0f3cae0934</td>\n",
       "      <td>1</td>\n",
       "      <td>555.669474</td>\n",
       "    </tr>\n",
       "  </tbody>\n",
       "</table>\n",
       "</div>"
      ],
      "text/plain": [
       "                               NU_INSCRICAO  TP_PRESENCA_CN  NU_NOTA_MT\n",
       "0  73ff9fcc02f0a99919906c942c2e1a1042cdcf98               1  423.631667\n",
       "1  71a95f9f1b91a82c65ad94abbdf9f54e6066f968               1  445.723752\n",
       "2  b38a03232f43b11c9d0788abaf060f7366053b6d               1  586.279533\n",
       "3  70b682d9a3636be23f6120fa9d6b164eb3c6002d               0         NaN\n",
       "4  715494628a50142ce8cb17191cfe6d0f3cae0934               1  555.669474"
      ]
     },
     "execution_count": 63,
     "metadata": {},
     "output_type": "execute_result"
    }
   ],
   "source": [
    "answer = pd.DataFrame({'NU_INSCRICAO':enem_test.NU_INSCRICAO,\n",
    "                        'TP_PRESENCA_CN':enem_test.TP_PRESENCA_CN,\n",
    "                        'NU_NOTA_MT':y_pred})\n",
    "\n",
    "for index, row in answer.iterrows():\n",
    "    if row['TP_PRESENCA_CN'] == 0:\n",
    "        answer.loc[index,'NU_NOTA_MT'] = np.nan\n",
    "\n",
    "answer.head()"
   ]
  },
  {
   "cell_type": "code",
   "execution_count": 64,
   "metadata": {
    "scrolled": true
   },
   "outputs": [
    {
     "data": {
      "text/plain": [
       "count    3442.000000\n",
       "mean      470.459213\n",
       "std        99.001741\n",
       "min        -1.000000\n",
       "25%       436.671014\n",
       "50%       458.459865\n",
       "75%       500.137984\n",
       "max       877.096569\n",
       "Name: NU_NOTA_MT, dtype: float64"
      ]
     },
     "execution_count": 64,
     "metadata": {},
     "output_type": "execute_result"
    }
   ],
   "source": [
    "answer.NU_NOTA_MT.describe()"
   ]
  },
  {
   "cell_type": "code",
   "execution_count": 65,
   "metadata": {},
   "outputs": [],
   "source": [
    "answer.drop('TP_PRESENCA_CN', axis=1, inplace=True)\n",
    "answer.to_csv('answer.csv', index=False)"
   ]
  },
  {
   "cell_type": "code",
   "execution_count": 66,
   "metadata": {},
   "outputs": [],
   "source": [
    "codenation_gb = 93.7467"
   ]
  },
  {
   "cell_type": "markdown",
   "metadata": {},
   "source": [
    "## XG-BOOST"
   ]
  },
  {
   "cell_type": "code",
   "execution_count": 67,
   "metadata": {},
   "outputs": [],
   "source": [
    "from xgboost import XGBRegressor"
   ]
  },
  {
   "cell_type": "markdown",
   "metadata": {},
   "source": [
    "    n_estimators : int\n",
    "        Number of gradient boosted trees.  Equivalent to number of boosting rounds.\n",
    "    max_depth : int\n",
    "        Maximum tree depth for base learners.\n",
    "    learning_rate : float\n",
    "        Boosting learning rate (xgb's \"eta\")\n",
    "    verbosity : int\n",
    "        The degree of verbosity. Valid values are 0 (silent) - 3 (debug).\n",
    "    objective : string or callable\n",
    "        Specify the learning task and the corresponding learning objective or a custom objective function to be \n",
    "        used (see note below).\n",
    "    booster: string\n",
    "        Specify which booster to use: gbtree, gblinear or dart.\n",
    "    tree_method: string\n",
    "        Specify which tree method to use.  Default to auto.  If this parameter is set to default, XGBoost will \n",
    "        choose the most conservative option available.  It's recommended to study this option from parameters \n",
    "        document.\n",
    "    n_jobs : int\n",
    "        Number of parallel threads used to run xgboost.\n",
    "    gamma : float\n",
    "        Minimum loss reduction required to make a further partition on a leaf node of the tree.\n",
    "    min_child_weight : int\n",
    "        Minimum sum of instance weight(hessian) needed in a child.\n",
    "    max_delta_step : int\n",
    "        Maximum delta step we allow each tree's weight estimation to be.\n",
    "    subsample : float\n",
    "        Subsample ratio of the training instance.\n",
    "    colsample_bytree : float\n",
    "        Subsample ratio of columns when constructing each tree.\n",
    "    colsample_bylevel : float\n",
    "        Subsample ratio of columns for each level.\n",
    "    colsample_bynode : float\n",
    "        Subsample ratio of columns for each split.\n",
    "    reg_alpha : float (xgb's alpha)\n",
    "        L1 regularization term on weights\n",
    "    reg_lambda : float (xgb's lambda)\n",
    "        L2 regularization term on weights\n",
    "    scale_pos_weight : float\n",
    "        Balancing of positive and negative weights.\n",
    "    base_score:\n",
    "        The initial prediction score of all instances, global bias.\n",
    "    random_state : int\n",
    "        Random number seed."
   ]
  },
  {
   "cell_type": "code",
   "execution_count": 69,
   "metadata": {},
   "outputs": [
    {
     "name": "stdout",
     "output_type": "stream",
     "text": [
      "41.94499172223695 61.5918579904301\n"
     ]
    }
   ],
   "source": [
    "xgboost = GradientBoostingRegressor('max_depth':2, 'eta':1, 'objective':'binary:logistic')\n",
    "\n",
    "#treinando\n",
    "xgboost.fit(X_train,y_train)\n",
    "\n",
    "#prevendo\n",
    "y_pred = xgboost.predict(X_val)\n",
    "\n",
    "mae_xg = metrics.mean_absolute_error(y_val, y_pred)\n",
    "rmse_xg = np.sqrt(metrics.mean_squared_error(y_val, y_pred))\n",
    "\n",
    "print(mae_xg,rmse_xg)"
   ]
  },
  {
   "cell_type": "code",
   "execution_count": 70,
   "metadata": {},
   "outputs": [
    {
     "data": {
      "text/html": [
       "<div>\n",
       "<style scoped>\n",
       "    .dataframe tbody tr th:only-of-type {\n",
       "        vertical-align: middle;\n",
       "    }\n",
       "\n",
       "    .dataframe tbody tr th {\n",
       "        vertical-align: top;\n",
       "    }\n",
       "\n",
       "    .dataframe thead th {\n",
       "        text-align: right;\n",
       "    }\n",
       "</style>\n",
       "<table border=\"1\" class=\"dataframe\">\n",
       "  <thead>\n",
       "    <tr style=\"text-align: right;\">\n",
       "      <th></th>\n",
       "      <th>NU_INSCRICAO</th>\n",
       "      <th>TP_PRESENCA_CN</th>\n",
       "      <th>NU_NOTA_MT</th>\n",
       "    </tr>\n",
       "  </thead>\n",
       "  <tbody>\n",
       "    <tr>\n",
       "      <th>0</th>\n",
       "      <td>73ff9fcc02f0a99919906c942c2e1a1042cdcf98</td>\n",
       "      <td>1</td>\n",
       "      <td>420.800631</td>\n",
       "    </tr>\n",
       "    <tr>\n",
       "      <th>1</th>\n",
       "      <td>71a95f9f1b91a82c65ad94abbdf9f54e6066f968</td>\n",
       "      <td>1</td>\n",
       "      <td>448.822085</td>\n",
       "    </tr>\n",
       "    <tr>\n",
       "      <th>2</th>\n",
       "      <td>b38a03232f43b11c9d0788abaf060f7366053b6d</td>\n",
       "      <td>1</td>\n",
       "      <td>596.953623</td>\n",
       "    </tr>\n",
       "    <tr>\n",
       "      <th>3</th>\n",
       "      <td>70b682d9a3636be23f6120fa9d6b164eb3c6002d</td>\n",
       "      <td>0</td>\n",
       "      <td>NaN</td>\n",
       "    </tr>\n",
       "    <tr>\n",
       "      <th>4</th>\n",
       "      <td>715494628a50142ce8cb17191cfe6d0f3cae0934</td>\n",
       "      <td>1</td>\n",
       "      <td>567.147006</td>\n",
       "    </tr>\n",
       "  </tbody>\n",
       "</table>\n",
       "</div>"
      ],
      "text/plain": [
       "                               NU_INSCRICAO  TP_PRESENCA_CN  NU_NOTA_MT\n",
       "0  73ff9fcc02f0a99919906c942c2e1a1042cdcf98               1  420.800631\n",
       "1  71a95f9f1b91a82c65ad94abbdf9f54e6066f968               1  448.822085\n",
       "2  b38a03232f43b11c9d0788abaf060f7366053b6d               1  596.953623\n",
       "3  70b682d9a3636be23f6120fa9d6b164eb3c6002d               0         NaN\n",
       "4  715494628a50142ce8cb17191cfe6d0f3cae0934               1  567.147006"
      ]
     },
     "execution_count": 70,
     "metadata": {},
     "output_type": "execute_result"
    }
   ],
   "source": [
    "y_pred = xgboost.predict(X_test)\n",
    "\n",
    "answer = pd.DataFrame({'NU_INSCRICAO':enem_test.NU_INSCRICAO,\n",
    "                        'TP_PRESENCA_CN':enem_test.TP_PRESENCA_CN,\n",
    "                        'NU_NOTA_MT':y_pred})\n",
    "\n",
    "for index, row in answer.iterrows():\n",
    "    if row['TP_PRESENCA_CN'] == 0:\n",
    "        answer.loc[index,'NU_NOTA_MT'] = np.nan\n",
    "\n",
    "answer.head()"
   ]
  },
  {
   "cell_type": "code",
   "execution_count": 71,
   "metadata": {
    "scrolled": true
   },
   "outputs": [
    {
     "data": {
      "text/plain": [
       "count    3442.000000\n",
       "mean      470.447452\n",
       "std        98.942838\n",
       "min        -8.510772\n",
       "25%       433.854587\n",
       "50%       458.570431\n",
       "75%       503.395616\n",
       "max       852.910576\n",
       "Name: NU_NOTA_MT, dtype: float64"
      ]
     },
     "execution_count": 71,
     "metadata": {},
     "output_type": "execute_result"
    }
   ],
   "source": [
    "answer.NU_NOTA_MT.describe()"
   ]
  },
  {
   "cell_type": "code",
   "execution_count": 72,
   "metadata": {},
   "outputs": [],
   "source": [
    "answer.drop('TP_PRESENCA_CN', axis=1, inplace=True)\n",
    "answer.to_csv('answer.csv', index=False)"
   ]
  },
  {
   "cell_type": "code",
   "execution_count": 73,
   "metadata": {},
   "outputs": [],
   "source": [
    "codenation_xg = 93.7732"
   ]
  },
  {
   "cell_type": "markdown",
   "metadata": {},
   "source": [
    "## NOTAS"
   ]
  },
  {
   "cell_type": "code",
   "execution_count": 74,
   "metadata": {},
   "outputs": [
    {
     "data": {
      "text/html": [
       "<style  type=\"text/css\" >\n",
       "    #T_23fbe34c_a5c9_11ea_b769_24f5aa692040row0_col0 {\n",
       "            background-color:  lightgreen;\n",
       "        }    #T_23fbe34c_a5c9_11ea_b769_24f5aa692040row1_col1 {\n",
       "            background-color:  lightgreen;\n",
       "        }    #T_23fbe34c_a5c9_11ea_b769_24f5aa692040row2_col2 {\n",
       "            background-color:  lightgreen;\n",
       "        }</style><table id=\"T_23fbe34c_a5c9_11ea_b769_24f5aa692040\" ><thead>    <tr>        <th class=\"blank level0\" ></th>        <th class=\"col_heading level0 col0\" >MAE</th>        <th class=\"col_heading level0 col1\" >RMSE</th>        <th class=\"col_heading level0 col2\" >Codenation</th>    </tr></thead><tbody>\n",
       "                <tr>\n",
       "                        <th id=\"T_23fbe34c_a5c9_11ea_b769_24f5aa692040level0_row0\" class=\"row_heading level0 row0\" >RandomForest</th>\n",
       "                        <td id=\"T_23fbe34c_a5c9_11ea_b769_24f5aa692040row0_col0\" class=\"data row0 col0\" >41.81</td>\n",
       "                        <td id=\"T_23fbe34c_a5c9_11ea_b769_24f5aa692040row0_col1\" class=\"data row0 col1\" >62.06</td>\n",
       "                        <td id=\"T_23fbe34c_a5c9_11ea_b769_24f5aa692040row0_col2\" class=\"data row0 col2\" >93.75</td>\n",
       "            </tr>\n",
       "            <tr>\n",
       "                        <th id=\"T_23fbe34c_a5c9_11ea_b769_24f5aa692040level0_row1\" class=\"row_heading level0 row1\" >GradientBoosting</th>\n",
       "                        <td id=\"T_23fbe34c_a5c9_11ea_b769_24f5aa692040row1_col0\" class=\"data row1 col0\" >41.95</td>\n",
       "                        <td id=\"T_23fbe34c_a5c9_11ea_b769_24f5aa692040row1_col1\" class=\"data row1 col1\" >61.59</td>\n",
       "                        <td id=\"T_23fbe34c_a5c9_11ea_b769_24f5aa692040row1_col2\" class=\"data row1 col2\" >93.75</td>\n",
       "            </tr>\n",
       "            <tr>\n",
       "                        <th id=\"T_23fbe34c_a5c9_11ea_b769_24f5aa692040level0_row2\" class=\"row_heading level0 row2\" >XG-Boost</th>\n",
       "                        <td id=\"T_23fbe34c_a5c9_11ea_b769_24f5aa692040row2_col0\" class=\"data row2 col0\" >41.94</td>\n",
       "                        <td id=\"T_23fbe34c_a5c9_11ea_b769_24f5aa692040row2_col1\" class=\"data row2 col1\" >61.59</td>\n",
       "                        <td id=\"T_23fbe34c_a5c9_11ea_b769_24f5aa692040row2_col2\" class=\"data row2 col2\" >93.77</td>\n",
       "            </tr>\n",
       "    </tbody></table>"
      ],
      "text/plain": [
       "<pandas.io.formats.style.Styler at 0x7fcae822b198>"
      ]
     },
     "execution_count": 74,
     "metadata": {},
     "output_type": "execute_result"
    }
   ],
   "source": [
    "notas = pd.DataFrame({'RandomForest': [mae_rf, rmse_rf, codenation_rf],\n",
    "                     'GradientBoosting': [mae_gb, rmse_gb, codenation_gb],\n",
    "                     'XG-Boost':[mae_xg, rmse_xg, codenation_xg]\n",
    "                     },\n",
    "                    index=['MAE','RMSE','Codenation'])\n",
    "notas = notas.T\n",
    "\n",
    "(notas.style.format(\"{:.4}\")\n",
    "    .highlight_min('RMSE', color='lightgreen')\n",
    "    .highlight_min('MAE', color='lightgreen')\n",
    "    .highlight_max('Codenation', color='lightgreen'))"
   ]
  },
  {
   "cell_type": "code",
   "execution_count": null,
   "metadata": {},
   "outputs": [],
   "source": []
  }
 ],
 "metadata": {
  "kernelspec": {
   "display_name": "Python 3",
   "language": "python",
   "name": "python3"
  },
  "language_info": {
   "codemirror_mode": {
    "name": "ipython",
    "version": 3
   },
   "file_extension": ".py",
   "mimetype": "text/x-python",
   "name": "python",
   "nbconvert_exporter": "python",
   "pygments_lexer": "ipython3",
   "version": "3.6.9"
  }
 },
 "nbformat": 4,
 "nbformat_minor": 4
}
