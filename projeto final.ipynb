{
 "cells": [
  {
   "cell_type": "markdown",
   "metadata": {},
   "source": [
    "# CODENATION - TRABALHO FINAL\n",
    "\n",
    "Algumas empresas gostariam de saber quem são as demais empresas em um determinado mercado (população) que tem maior probabilidade se tornarem seus próximos clientes. Ou seja, a sua solução deve encontrar no mercado quem são os leads mais aderentes dado as características dos clientes presentes no portfólio do usuário.\n",
    "\n",
    "Além disso, sua solução deve ser agnóstica ao usuário. Qualquer usuário com uma lista de clientes que queira explorar esse mercado pode extrair valor do serviço."
   ]
  },
  {
   "cell_type": "code",
   "execution_count": 1,
   "metadata": {},
   "outputs": [],
   "source": [
    "import pandas as pd\n",
    "import numpy as np\n",
    "\n",
    "import matplotlib.pyplot as plt\n",
    "import seaborn as sns\n",
    "\n",
    "import warnings\n",
    "warnings.filterwarnings('ignore')\n",
    "\n",
    "plt.style.use('ggplot')"
   ]
  },
  {
   "cell_type": "code",
   "execution_count": 2,
   "metadata": {},
   "outputs": [
    {
     "data": {
      "text/plain": [
       "Index(['id', 'fl_matriz', 'de_natureza_juridica', 'sg_uf',\n",
       "       'natureza_juridica_macro', 'de_ramo', 'setor', 'idade_empresa_anos',\n",
       "       'idade_emp_cat', 'fl_me',\n",
       "       ...\n",
       "       'media_meses_servicos', 'max_meses_servicos', 'min_meses_servicos',\n",
       "       'qt_funcionarios', 'qt_funcionarios_12meses', 'qt_funcionarios_24meses',\n",
       "       'tx_crescimento_12meses', 'tx_crescimento_24meses', 'tx_rotatividade',\n",
       "       'qt_filiais'],\n",
       "      dtype='object', length=181)"
      ]
     },
     "execution_count": 2,
     "metadata": {},
     "output_type": "execute_result"
    }
   ],
   "source": [
    "empresas = pd.read_csv(\"dados_originais/estaticos_market.csv\")\n",
    "empresas = empresas.drop('Unnamed: 0', axis=1)\n",
    "empresas.columns"
   ]
  },
  {
   "cell_type": "code",
   "execution_count": 3,
   "metadata": {},
   "outputs": [
    {
     "name": "stdout",
     "output_type": "stream",
     "text": [
      "são 462298 empresas cadastradas\n",
      "são 181 variáveis a serem avaliadas\n"
     ]
    }
   ],
   "source": [
    "print(\"são {} empresas cadastradas\".format(empresas.shape[0]))\n",
    "print(\"são {} variáveis a serem avaliadas\".format(empresas.shape[1]))"
   ]
  },
  {
   "cell_type": "markdown",
   "metadata": {},
   "source": [
    "## 1. Eliminando colunas"
   ]
  },
  {
   "cell_type": "code",
   "execution_count": 4,
   "metadata": {},
   "outputs": [],
   "source": [
    "from limpeza_dados import LimpezaDados\n",
    "limpeza = LimpezaDados()"
   ]
  },
  {
   "cell_type": "code",
   "execution_count": 5,
   "metadata": {},
   "outputs": [
    {
     "data": {
      "image/png": "[encoded data removed]",
      "text/plain": [
       "<Figure size 432x216 with 1 Axes>"
      ]
     },
     "metadata": {},
     "output_type": "display_data"
    }
   ],
   "source": [
    "#Ver quantos valores missing eu tenho\n",
    "aux = pd.DataFrame({'missing':((empresas.isna().sum()/empresas.shape[0])*100)})\n",
    "plt.figure(figsize = (6,3))\n",
    "plt.hist(aux['missing'], bins=10)\n",
    "plt.xlim(0,100)\n",
    "plt.xticks(range(0,101,10))\n",
    "plt.xlabel('porcentagem de missing')\n",
    "plt.ylabel('frequencia');"
   ]
  },
  {
   "cell_type": "code",
   "execution_count": 6,
   "metadata": {},
   "outputs": [
    {
     "name": "stdout",
     "output_type": "stream",
     "text": [
      "removendo colunas com mais de 70% de NA...ok\n"
     ]
    }
   ],
   "source": [
    "empresas = limpeza.remove_NA(empresas)"
   ]
  },
  {
   "cell_type": "code",
   "execution_count": 7,
   "metadata": {},
   "outputs": [
    {
     "name": "stdout",
     "output_type": "stream",
     "text": [
      "removendo colunas desnecessárias para o projeto...ok\n"
     ]
    },
    {
     "data": {
      "text/plain": [
       "Index(['id', 'fl_matriz', 'de_natureza_juridica', 'sg_uf',\n",
       "       'natureza_juridica_macro', 'de_ramo', 'setor', 'idade_empresa_anos',\n",
       "       'idade_emp_cat', 'fl_me', 'fl_sa', 'fl_epp', 'fl_mei', 'fl_ltda',\n",
       "       'fl_st_especial', 'fl_rm', 'nm_divisao', 'nm_segmento', 'fl_spa',\n",
       "       'fl_antt', 'fl_veiculo', 'fl_optante_simples',\n",
       "       'vl_total_veiculos_pesados_grupo', 'vl_total_veiculos_leves_grupo',\n",
       "       'fl_optante_simei', 'sg_uf_matriz', 'de_saude_tributaria',\n",
       "       'de_nivel_atividade', 'fl_simples_irregular',\n",
       "       'empsetorcensitariofaixarendapopulacao', 'nm_meso_regiao',\n",
       "       'nm_micro_regiao', 'fl_passivel_iss', 'qt_socios', 'qt_socios_pf',\n",
       "       'qt_socios_pj', 'idade_media_socios', 'idade_maxima_socios',\n",
       "       'idade_minima_socios', 'qt_socios_st_regular', 'qt_socios_masculino',\n",
       "       'qt_socios_feminino', 'de_faixa_faturamento_estimado',\n",
       "       'de_faixa_faturamento_estimado_grupo', 'vl_faturamento_estimado_aux',\n",
       "       'vl_faturamento_estimado_grupo_aux', 'qt_filiais'],\n",
       "      dtype='object')"
      ]
     },
     "execution_count": 7,
     "metadata": {},
     "output_type": "execute_result"
    }
   ],
   "source": [
    "empresas = limpeza.remove_desnecessarias(empresas)\n",
    "empresas.columns"
   ]
  },
  {
   "cell_type": "code",
   "execution_count": 8,
   "metadata": {},
   "outputs": [],
   "source": [
    "empresas.to_csv(\"dados_trabalhados/empresas_limpa1.csv\")"
   ]
  },
  {
   "cell_type": "markdown",
   "metadata": {},
   "source": [
    "### Análise exploratória\n",
    "A análise exploratória foi feita em outro notebook a partir desse novo arquivo criado. Durante a análise exploratória encontrei diversas colunas redundantes, muito desbalanceadas, autocorrelacionadas e aparentemente desnecessárias para minha análise:"
   ]
  },
  {
   "cell_type": "code",
   "execution_count": 9,
   "metadata": {},
   "outputs": [
    {
     "name": "stdout",
     "output_type": "stream",
     "text": [
      "removendo colunas redundantes e desnecessárias para o projeto...ok\n"
     ]
    },
    {
     "data": {
      "text/plain": [
       "Index(['id', 'fl_matriz', 'sg_uf', 'de_ramo', 'idade_empresa_anos', 'fl_rm',\n",
       "       'nm_divisao', 'nm_segmento', 'fl_optante_simples',\n",
       "       'vl_total_veiculos_pesados_grupo', 'vl_total_veiculos_leves_grupo',\n",
       "       'fl_optante_simei', 'de_nivel_atividade',\n",
       "       'empsetorcensitariofaixarendapopulacao', 'nm_meso_regiao',\n",
       "       'fl_passivel_iss', 'qt_socios', 'idade_media_socios',\n",
       "       'vl_faturamento_estimado_grupo_aux', 'qt_filiais'],\n",
       "      dtype='object')"
      ]
     },
     "execution_count": 9,
     "metadata": {},
     "output_type": "execute_result"
    }
   ],
   "source": [
    "limpeza.analise_exploratoria(empresas).columns"
   ]
  },
  {
   "cell_type": "code",
   "execution_count": 10,
   "metadata": {},
   "outputs": [],
   "source": [
    "empresas.to_csv(\"dados_trabalhados/empresas_limpa2.csv\")"
   ]
  },
  {
   "cell_type": "markdown",
   "metadata": {},
   "source": [
    "## 2. Tratando features"
   ]
  },
  {
   "cell_type": "markdown",
   "metadata": {},
   "source": [
    "### Tratando as categóricas"
   ]
  },
  {
   "cell_type": "code",
   "execution_count": 11,
   "metadata": {},
   "outputs": [],
   "source": [
    "from limpeza_dados import Tratamento\n",
    "tratamento = Tratamento()"
   ]
  },
  {
   "cell_type": "code",
   "execution_count": 12,
   "metadata": {},
   "outputs": [
    {
     "name": "stdout",
     "output_type": "stream",
     "text": [
      "transformando nível de atividade em números...ok\n",
      "transformando alguns dados em booleanos...ok\n",
      "preenchendo os NA de meso_região com valores de UF correspondentes...ok\n",
      "preenchendo dados de divisao e segmento vazios com OUTROS...ok\n"
     ]
    }
   ],
   "source": [
    "empresas = tratamento.tratando_categoricas(empresas)"
   ]
  },
  {
   "cell_type": "code",
   "execution_count": 13,
   "metadata": {},
   "outputs": [
    {
     "data": {
      "text/html": [
       "<div>\n",
       "<style scoped>\n",
       "    .dataframe tbody tr th:only-of-type {\n",
       "        vertical-align: middle;\n",
       "    }\n",
       "\n",
       "    .dataframe tbody tr th {\n",
       "        vertical-align: top;\n",
       "    }\n",
       "\n",
       "    .dataframe thead th {\n",
       "        text-align: right;\n",
       "    }\n",
       "</style>\n",
       "<table border=\"1\" class=\"dataframe\">\n",
       "  <thead>\n",
       "    <tr style=\"text-align: right;\">\n",
       "      <th></th>\n",
       "      <th>missing</th>\n",
       "      <th>tipos</th>\n",
       "      <th>unicos</th>\n",
       "    </tr>\n",
       "  </thead>\n",
       "  <tbody>\n",
       "    <tr>\n",
       "      <th>id</th>\n",
       "      <td>0.0</td>\n",
       "      <td>object</td>\n",
       "      <td>462298</td>\n",
       "    </tr>\n",
       "    <tr>\n",
       "      <th>sg_uf</th>\n",
       "      <td>0.0</td>\n",
       "      <td>object</td>\n",
       "      <td>6</td>\n",
       "    </tr>\n",
       "    <tr>\n",
       "      <th>de_ramo</th>\n",
       "      <td>0.0</td>\n",
       "      <td>object</td>\n",
       "      <td>33</td>\n",
       "    </tr>\n",
       "    <tr>\n",
       "      <th>nm_divisao</th>\n",
       "      <td>0.0</td>\n",
       "      <td>object</td>\n",
       "      <td>88</td>\n",
       "    </tr>\n",
       "    <tr>\n",
       "      <th>nm_segmento</th>\n",
       "      <td>0.0</td>\n",
       "      <td>object</td>\n",
       "      <td>22</td>\n",
       "    </tr>\n",
       "    <tr>\n",
       "      <th>nm_meso_regiao</th>\n",
       "      <td>0.0</td>\n",
       "      <td>object</td>\n",
       "      <td>25</td>\n",
       "    </tr>\n",
       "  </tbody>\n",
       "</table>\n",
       "</div>"
      ],
      "text/plain": [
       "                missing   tipos  unicos\n",
       "id                  0.0  object  462298\n",
       "sg_uf               0.0  object       6\n",
       "de_ramo             0.0  object      33\n",
       "nm_divisao          0.0  object      88\n",
       "nm_segmento         0.0  object      22\n",
       "nm_meso_regiao      0.0  object      25"
      ]
     },
     "execution_count": 13,
     "metadata": {},
     "output_type": "execute_result"
    }
   ],
   "source": [
    "categoricas = empresas.select_dtypes('object')\n",
    "\n",
    "pd.DataFrame({'missing': categoricas.isna().sum()/categoricas.shape[0]*100,\n",
    "              'tipos': categoricas.dtypes,\n",
    "              'unicos': categoricas.nunique()}\n",
    "            ).sort_values(by='missing', ascending=False)"
   ]
  },
  {
   "cell_type": "code",
   "execution_count": 14,
   "metadata": {},
   "outputs": [
    {
     "data": {
      "text/html": [
       "<div>\n",
       "<style scoped>\n",
       "    .dataframe tbody tr th:only-of-type {\n",
       "        vertical-align: middle;\n",
       "    }\n",
       "\n",
       "    .dataframe tbody tr th {\n",
       "        vertical-align: top;\n",
       "    }\n",
       "\n",
       "    .dataframe thead th {\n",
       "        text-align: right;\n",
       "    }\n",
       "</style>\n",
       "<table border=\"1\" class=\"dataframe\">\n",
       "  <thead>\n",
       "    <tr style=\"text-align: right;\">\n",
       "      <th></th>\n",
       "      <th>missing</th>\n",
       "      <th>tipos</th>\n",
       "      <th>unicos</th>\n",
       "    </tr>\n",
       "  </thead>\n",
       "  <tbody>\n",
       "    <tr>\n",
       "      <th>fl_matriz</th>\n",
       "      <td>0.0</td>\n",
       "      <td>bool</td>\n",
       "      <td>2</td>\n",
       "    </tr>\n",
       "    <tr>\n",
       "      <th>fl_rm</th>\n",
       "      <td>0.0</td>\n",
       "      <td>bool</td>\n",
       "      <td>2</td>\n",
       "    </tr>\n",
       "    <tr>\n",
       "      <th>fl_optante_simples</th>\n",
       "      <td>0.0</td>\n",
       "      <td>bool</td>\n",
       "      <td>2</td>\n",
       "    </tr>\n",
       "    <tr>\n",
       "      <th>fl_optante_simei</th>\n",
       "      <td>0.0</td>\n",
       "      <td>bool</td>\n",
       "      <td>2</td>\n",
       "    </tr>\n",
       "    <tr>\n",
       "      <th>fl_passivel_iss</th>\n",
       "      <td>0.0</td>\n",
       "      <td>bool</td>\n",
       "      <td>2</td>\n",
       "    </tr>\n",
       "  </tbody>\n",
       "</table>\n",
       "</div>"
      ],
      "text/plain": [
       "                    missing tipos  unicos\n",
       "fl_matriz               0.0  bool       2\n",
       "fl_rm                   0.0  bool       2\n",
       "fl_optante_simples      0.0  bool       2\n",
       "fl_optante_simei        0.0  bool       2\n",
       "fl_passivel_iss         0.0  bool       2"
      ]
     },
     "execution_count": 14,
     "metadata": {},
     "output_type": "execute_result"
    }
   ],
   "source": [
    "booleanos = empresas.select_dtypes('bool')\n",
    "\n",
    "pd.DataFrame({'missing': booleanos.isna().sum()/booleanos.shape[0]*100,\n",
    "              'tipos': booleanos.dtypes,\n",
    "              'unicos': booleanos.nunique()}\n",
    "            ).sort_values(by='missing', ascending=False)"
   ]
  },
  {
   "cell_type": "markdown",
   "metadata": {},
   "source": [
    "### Tratando numéricas"
   ]
  },
  {
   "cell_type": "code",
   "execution_count": 15,
   "metadata": {},
   "outputs": [
    {
     "name": "stdout",
     "output_type": "stream",
     "text": [
      "imputando os NA com a média...ok\n"
     ]
    }
   ],
   "source": [
    "empresas = tratamento.tratando_numericas(empresas)"
   ]
  },
  {
   "cell_type": "code",
   "execution_count": 16,
   "metadata": {},
   "outputs": [
    {
     "data": {
      "text/html": [
       "<div>\n",
       "<style scoped>\n",
       "    .dataframe tbody tr th:only-of-type {\n",
       "        vertical-align: middle;\n",
       "    }\n",
       "\n",
       "    .dataframe tbody tr th {\n",
       "        vertical-align: top;\n",
       "    }\n",
       "\n",
       "    .dataframe thead th {\n",
       "        text-align: right;\n",
       "    }\n",
       "</style>\n",
       "<table border=\"1\" class=\"dataframe\">\n",
       "  <thead>\n",
       "    <tr style=\"text-align: right;\">\n",
       "      <th></th>\n",
       "      <th>missing</th>\n",
       "      <th>tipos</th>\n",
       "    </tr>\n",
       "  </thead>\n",
       "  <tbody>\n",
       "    <tr>\n",
       "      <th>idade_empresa_anos</th>\n",
       "      <td>0.0</td>\n",
       "      <td>float64</td>\n",
       "    </tr>\n",
       "    <tr>\n",
       "      <th>vl_total_veiculos_pesados_grupo</th>\n",
       "      <td>0.0</td>\n",
       "      <td>float64</td>\n",
       "    </tr>\n",
       "    <tr>\n",
       "      <th>vl_total_veiculos_leves_grupo</th>\n",
       "      <td>0.0</td>\n",
       "      <td>float64</td>\n",
       "    </tr>\n",
       "    <tr>\n",
       "      <th>de_nivel_atividade</th>\n",
       "      <td>0.0</td>\n",
       "      <td>float64</td>\n",
       "    </tr>\n",
       "    <tr>\n",
       "      <th>empsetorcensitariofaixarendapopulacao</th>\n",
       "      <td>0.0</td>\n",
       "      <td>float64</td>\n",
       "    </tr>\n",
       "    <tr>\n",
       "      <th>qt_socios</th>\n",
       "      <td>0.0</td>\n",
       "      <td>float64</td>\n",
       "    </tr>\n",
       "    <tr>\n",
       "      <th>idade_media_socios</th>\n",
       "      <td>0.0</td>\n",
       "      <td>float64</td>\n",
       "    </tr>\n",
       "    <tr>\n",
       "      <th>vl_faturamento_estimado_grupo_aux</th>\n",
       "      <td>0.0</td>\n",
       "      <td>float64</td>\n",
       "    </tr>\n",
       "    <tr>\n",
       "      <th>qt_filiais</th>\n",
       "      <td>0.0</td>\n",
       "      <td>int64</td>\n",
       "    </tr>\n",
       "  </tbody>\n",
       "</table>\n",
       "</div>"
      ],
      "text/plain": [
       "                                       missing    tipos\n",
       "idade_empresa_anos                         0.0  float64\n",
       "vl_total_veiculos_pesados_grupo            0.0  float64\n",
       "vl_total_veiculos_leves_grupo              0.0  float64\n",
       "de_nivel_atividade                         0.0  float64\n",
       "empsetorcensitariofaixarendapopulacao      0.0  float64\n",
       "qt_socios                                  0.0  float64\n",
       "idade_media_socios                         0.0  float64\n",
       "vl_faturamento_estimado_grupo_aux          0.0  float64\n",
       "qt_filiais                                 0.0    int64"
      ]
     },
     "execution_count": 16,
     "metadata": {},
     "output_type": "execute_result"
    }
   ],
   "source": [
    "numericas = empresas.select_dtypes('number')\n",
    "\n",
    "pd.DataFrame({'missing': numericas.isna().sum()/numericas.shape[0]*100,\n",
    "              'tipos': numericas.dtypes}\n",
    "            ).sort_values(by='missing', ascending=False)"
   ]
  },
  {
   "cell_type": "code",
   "execution_count": 17,
   "metadata": {},
   "outputs": [
    {
     "name": "stdout",
     "output_type": "stream",
     "text": [
      "padronizando as variáveis numéricas...ok\n"
     ]
    }
   ],
   "source": [
    "empresas = tratamento.padronizando_numericas(empresas)"
   ]
  },
  {
   "cell_type": "code",
   "execution_count": 18,
   "metadata": {},
   "outputs": [],
   "source": [
    "empresas.to_csv(\"dados_trabalhados/empresas_limpa3.csv\")"
   ]
  },
  {
   "cell_type": "markdown",
   "metadata": {},
   "source": [
    "## 3. Modelo"
   ]
  },
  {
   "cell_type": "code",
   "execution_count": 19,
   "metadata": {},
   "outputs": [],
   "source": [
    "from sklearn.cluster import KMeans\n",
    "from modelo import Modelo\n",
    "model = Modelo()"
   ]
  },
  {
   "cell_type": "code",
   "execution_count": 20,
   "metadata": {},
   "outputs": [],
   "source": [
    "df = pd.read_csv(\"dados_trabalhados/empresas_limpa3.csv\")\n",
    "df.drop('Unnamed: 0', axis=1, inplace=True)"
   ]
  },
  {
   "cell_type": "code",
   "execution_count": 21,
   "metadata": {},
   "outputs": [
    {
     "data": {
      "image/png": "[encoded data removed]",
      "text/plain": [
       "<Figure size 432x288 with 1 Axes>"
      ]
     },
     "metadata": {},
     "output_type": "display_data"
    }
   ],
   "source": [
    "features = ['idade_empresa_anos', 'fl_rm', 'nm_segmento', 'vl_total_veiculos_pesados_grupo',\n",
    "            'de_nivel_atividade', 'sg_uf', 'qt_socios','vl_faturamento_estimado_grupo_aux', 'qt_filiais']\n",
    "X = df[features]\n",
    "X_dummies = pd.get_dummies(X)\n",
    "X_dummies.columns.nunique()\n",
    "\n",
    "wcss = []\n",
    "\n",
    "for i in range(4, 16, 1):\n",
    "    kmeans = KMeans(n_clusters=i, random_state=42)\n",
    "    kmeans.fit(X_dummies)\n",
    "    wcss.append(kmeans.inertia_)\n",
    "\n",
    "plt.plot(range(4, 16, 1), wcss)\n",
    "plt.title('Elbow Method')\n",
    "plt.xlabel('Number of clusters')\n",
    "plt.ylabel('WCSS')\n",
    "plt.show()"
   ]
  },
  {
   "cell_type": "code",
   "execution_count": 22,
   "metadata": {},
   "outputs": [
    {
     "name": "stdout",
     "output_type": "stream",
     "text": [
      "selecionando as features...ok\n",
      "aplicando get_dummies nas variáveis categóricas...ok\n"
     ]
    }
   ],
   "source": [
    "X = model.pre_modelo(df)"
   ]
  },
  {
   "cell_type": "code",
   "execution_count": 23,
   "metadata": {},
   "outputs": [],
   "source": [
    "X.to_csv(\"dados_trabalhados/empresas_premodelo.csv\")"
   ]
  },
  {
   "cell_type": "code",
   "execution_count": 24,
   "metadata": {},
   "outputs": [],
   "source": [
    "X = pd.read_csv(\"dados_trabalhados/empresas_premodelo.csv\")\n",
    "X.drop('Unnamed: 0', axis=1, inplace=True)"
   ]
  },
  {
   "cell_type": "code",
   "execution_count": 25,
   "metadata": {},
   "outputs": [
    {
     "name": "stdout",
     "output_type": "stream",
     "text": [
      "aplicando k-means no dataframe...ok\n"
     ]
    }
   ],
   "source": [
    "clusters = model.kmeans(X, 7)"
   ]
  },
  {
   "cell_type": "code",
   "execution_count": 26,
   "metadata": {},
   "outputs": [
    {
     "data": {
      "text/html": [
       "<div>\n",
       "<style scoped>\n",
       "    .dataframe tbody tr th:only-of-type {\n",
       "        vertical-align: middle;\n",
       "    }\n",
       "\n",
       "    .dataframe tbody tr th {\n",
       "        vertical-align: top;\n",
       "    }\n",
       "\n",
       "    .dataframe thead th {\n",
       "        text-align: right;\n",
       "    }\n",
       "</style>\n",
       "<table border=\"1\" class=\"dataframe\">\n",
       "  <thead>\n",
       "    <tr style=\"text-align: right;\">\n",
       "      <th></th>\n",
       "      <th>id</th>\n",
       "      <th>segmento</th>\n",
       "      <th>clusters</th>\n",
       "    </tr>\n",
       "  </thead>\n",
       "  <tbody>\n",
       "    <tr>\n",
       "      <th>0</th>\n",
       "      <td>a6984c3ae395090e3bee8ad63c3758b110de096d5d8195...</td>\n",
       "      <td>CONSTRUCAO</td>\n",
       "      <td>3</td>\n",
       "    </tr>\n",
       "    <tr>\n",
       "      <th>1</th>\n",
       "      <td>6178f41ade1365e44bc2c46654c2c8c0eaae27dcb476c4...</td>\n",
       "      <td>ALOJAMENTO E ALIMENTACAO</td>\n",
       "      <td>0</td>\n",
       "    </tr>\n",
       "    <tr>\n",
       "      <th>2</th>\n",
       "      <td>4a7e5069a397f12fdd7fd57111d6dc5d3ba558958efc02...</td>\n",
       "      <td>TRANSPORTE ARMAZENAGEM E CORREIO</td>\n",
       "      <td>1</td>\n",
       "    </tr>\n",
       "    <tr>\n",
       "      <th>3</th>\n",
       "      <td>3348900fe63216a439d2e5238c79ddd46ede454df7b9d8...</td>\n",
       "      <td>OUTRAS ATIVIDADES DE SERVICOS</td>\n",
       "      <td>1</td>\n",
       "    </tr>\n",
       "    <tr>\n",
       "      <th>4</th>\n",
       "      <td>1f9bcabc9d3173c1fe769899e4fac14b053037b953a1e4...</td>\n",
       "      <td>ATIVIDADES PROFISSIONAIS CIENTIFICAS E TECNICAS</td>\n",
       "      <td>3</td>\n",
       "    </tr>\n",
       "    <tr>\n",
       "      <th>...</th>\n",
       "      <td>...</td>\n",
       "      <td>...</td>\n",
       "      <td>...</td>\n",
       "    </tr>\n",
       "    <tr>\n",
       "      <th>462293</th>\n",
       "      <td>469ee5fc984d0bb60aa2f40cda4d003d7c9b963d149ed3...</td>\n",
       "      <td>COMERCIO; REPARACAO DE VEICULOS AUTOMOTORES E ...</td>\n",
       "      <td>3</td>\n",
       "    </tr>\n",
       "    <tr>\n",
       "      <th>462294</th>\n",
       "      <td>656f496e7e2fad708f0022d8ad97d2cb9344e839a5f3cb...</td>\n",
       "      <td>ATIVIDADES ADMINISTRATIVAS E SERVICOS COMPLEME...</td>\n",
       "      <td>0</td>\n",
       "    </tr>\n",
       "    <tr>\n",
       "      <th>462295</th>\n",
       "      <td>9b933a5cf2149d1338f00fb459d34a16b9b0f2e8d3e8e1...</td>\n",
       "      <td>SAUDE HUMANA E SERVICOS SOCIAIS</td>\n",
       "      <td>4</td>\n",
       "    </tr>\n",
       "    <tr>\n",
       "      <th>462296</th>\n",
       "      <td>84db0f17467cf4f02439e01ade57150b6ac59d9dae53ed...</td>\n",
       "      <td>COMERCIO; REPARACAO DE VEICULOS AUTOMOTORES E ...</td>\n",
       "      <td>3</td>\n",
       "    </tr>\n",
       "    <tr>\n",
       "      <th>462297</th>\n",
       "      <td>3d43e934e150b86be1e67524f5ba1018b27da9ef25566d...</td>\n",
       "      <td>TRANSPORTE ARMAZENAGEM E CORREIO</td>\n",
       "      <td>0</td>\n",
       "    </tr>\n",
       "  </tbody>\n",
       "</table>\n",
       "<p>462298 rows × 3 columns</p>\n",
       "</div>"
      ],
      "text/plain": [
       "                                                       id  \\\n",
       "0       a6984c3ae395090e3bee8ad63c3758b110de096d5d8195...   \n",
       "1       6178f41ade1365e44bc2c46654c2c8c0eaae27dcb476c4...   \n",
       "2       4a7e5069a397f12fdd7fd57111d6dc5d3ba558958efc02...   \n",
       "3       3348900fe63216a439d2e5238c79ddd46ede454df7b9d8...   \n",
       "4       1f9bcabc9d3173c1fe769899e4fac14b053037b953a1e4...   \n",
       "...                                                   ...   \n",
       "462293  469ee5fc984d0bb60aa2f40cda4d003d7c9b963d149ed3...   \n",
       "462294  656f496e7e2fad708f0022d8ad97d2cb9344e839a5f3cb...   \n",
       "462295  9b933a5cf2149d1338f00fb459d34a16b9b0f2e8d3e8e1...   \n",
       "462296  84db0f17467cf4f02439e01ade57150b6ac59d9dae53ed...   \n",
       "462297  3d43e934e150b86be1e67524f5ba1018b27da9ef25566d...   \n",
       "\n",
       "                                                 segmento  clusters  \n",
       "0                                              CONSTRUCAO         3  \n",
       "1                                ALOJAMENTO E ALIMENTACAO         0  \n",
       "2                        TRANSPORTE ARMAZENAGEM E CORREIO         1  \n",
       "3                           OUTRAS ATIVIDADES DE SERVICOS         1  \n",
       "4         ATIVIDADES PROFISSIONAIS CIENTIFICAS E TECNICAS         3  \n",
       "...                                                   ...       ...  \n",
       "462293  COMERCIO; REPARACAO DE VEICULOS AUTOMOTORES E ...         3  \n",
       "462294  ATIVIDADES ADMINISTRATIVAS E SERVICOS COMPLEME...         0  \n",
       "462295                    SAUDE HUMANA E SERVICOS SOCIAIS         4  \n",
       "462296  COMERCIO; REPARACAO DE VEICULOS AUTOMOTORES E ...         3  \n",
       "462297                   TRANSPORTE ARMAZENAGEM E CORREIO         0  \n",
       "\n",
       "[462298 rows x 3 columns]"
      ]
     },
     "execution_count": 26,
     "metadata": {},
     "output_type": "execute_result"
    }
   ],
   "source": [
    "id_cluster = pd.DataFrame({'id':df.id,\n",
    "                           'segmento':df.nm_segmento,\n",
    "                           'clusters':clusters.clusters})\n",
    "id_cluster"
   ]
  },
  {
   "cell_type": "code",
   "execution_count": 27,
   "metadata": {},
   "outputs": [],
   "source": [
    "id_cluster.to_csv(\"dados_trabalhados/ids_clusters.csv\")"
   ]
  },
  {
   "cell_type": "markdown",
   "metadata": {},
   "source": [
    "## 4. Recomendação"
   ]
  },
  {
   "cell_type": "code",
   "execution_count": 28,
   "metadata": {},
   "outputs": [],
   "source": [
    "from unindo_df import UnindoDF\n",
    "from recomenda_empresas import Recomendação"
   ]
  },
  {
   "cell_type": "markdown",
   "metadata": {},
   "source": [
    "### Ver quais principais clusters da empresa 1"
   ]
  },
  {
   "cell_type": "code",
   "execution_count": 29,
   "metadata": {},
   "outputs": [
    {
     "name": "stdout",
     "output_type": "stream",
     "text": [
      "a empresa 1 tem 555 empresas clientes\n"
     ]
    }
   ],
   "source": [
    "empresa1 = pd.read_csv(\"dados_originais/estaticos_portfolio1.csv\")\n",
    "empresa1 = empresa1.drop('Unnamed: 0',axis=1)\n",
    "print('a empresa 1 tem',empresa1.shape[0],'empresas clientes')"
   ]
  },
  {
   "cell_type": "code",
   "execution_count": 30,
   "metadata": {},
   "outputs": [],
   "source": [
    "unir = UnindoDF()\n",
    "empresa1 = unir.unir_df(id_cluster, empresa1)"
   ]
  },
  {
   "cell_type": "code",
   "execution_count": 31,
   "metadata": {},
   "outputs": [
    {
     "name": "stdout",
     "output_type": "stream",
     "text": [
      "vendo qual o cluster predominante no dataframe...ok\n"
     ]
    }
   ],
   "source": [
    "#para recomendar o cluster mais comum da empresa1\n",
    "recomendacao = Recomendação()\n",
    "cluster_rec = recomendacao.cluster_rec(empresa1)"
   ]
  },
  {
   "cell_type": "markdown",
   "metadata": {},
   "source": [
    "### Recomendar com base no segmento da empresa e no cluster"
   ]
  },
  {
   "cell_type": "code",
   "execution_count": 32,
   "metadata": {},
   "outputs": [
    {
     "name": "stdout",
     "output_type": "stream",
     "text": [
      "verificando quais empresas desse segmento correspondem ao cluster mais aderente a empresa...ok\n",
      "é possível recomendar 73650 empresas para a empresa 1\n"
     ]
    }
   ],
   "source": [
    "#supondo que quero recomendacao de COMERCIO; REPARACAO DE VEICULOS AUTOMOTORES E MOTOCICLETAS para empresa 1:\n",
    "segmento = 'COMERCIO; REPARACAO DE VEICULOS AUTOMOTORES E MOTOCICLETAS'\n",
    "\n",
    "empresas_rec = recomendacao.recomenda(cluster_rec, segmento, empresa1)\n",
    "print('é possível recomendar',len(empresas_rec),'empresas para a empresa 1')"
   ]
  },
  {
   "cell_type": "code",
   "execution_count": 33,
   "metadata": {},
   "outputs": [
    {
     "data": {
      "text/plain": [
       "['3d280e33e53e6fa5d63791f1eaf0207f2c079d1d7131759a3c7670c8e9df7c05',\n",
       " '459303e2f53eafe5c018c516d21f1cad65ab8a82c7214e0d7403e3cf38e6aa34',\n",
       " '4e663ebb51860ea4882099302347f35f3f255e184c3849247244a8f1d7bd7c16',\n",
       " '0032e3e6a776cbf4d36efa963b4eda224ddba8af284117273bbd7a2a9d374f96',\n",
       " 'e93a20892b53018debe7454c6a1525b3c387a4d8338b50468ffce3dc77bd3683']"
      ]
     },
     "execution_count": 33,
     "metadata": {},
     "output_type": "execute_result"
    }
   ],
   "source": [
    "empresas_rec[0:5]"
   ]
  },
  {
   "cell_type": "code",
   "execution_count": null,
   "metadata": {},
   "outputs": [],
   "source": []
  }
 ],
 "metadata": {
  "kernelspec": {
   "display_name": "Python 3",
   "language": "python",
   "name": "python3"
  },
  "language_info": {
   "codemirror_mode": {
    "name": "ipython",
    "version": 3
   },
   "file_extension": ".py",
   "mimetype": "text/x-python",
   "name": "python",
   "nbconvert_exporter": "python",
   "pygments_lexer": "ipython3",
   "version": "3.6.9"
  }
 },
 "nbformat": 4,
 "nbformat_minor": 4
}
